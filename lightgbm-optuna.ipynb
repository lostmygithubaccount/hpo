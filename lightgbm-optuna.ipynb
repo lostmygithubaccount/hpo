{
 "cells": [
  {
   "cell_type": "code",
   "execution_count": 1,
   "metadata": {
    "tags": []
   },
   "outputs": [
    {
     "data": {
      "text/plain": [
       "Workspace.create(name=&#39;AzureML&#39;, subscription_id=&#39;6560575d-fa06-4e7d-95fb-f962e74efd7a&#39;, resource_group=&#39;cody-eastus-rg&#39;)"
      ]
     },
     "execution_count": 1,
     "metadata": {},
     "output_type": "execute_result"
    }
   ],
   "source": [
    "from azureml.core import Workspace\n",
    "\n",
    "ws = Workspace.from_config()\n",
    "ws"
   ]
  },
  {
   "cell_type": "code",
   "execution_count": 2,
   "metadata": {},
   "outputs": [],
   "source": [
    "import git\n",
    "from pathlib import Path\n",
    "\n",
    "# get root of git repo\n",
    "prefix = Path(git.Repo(\".\", search_parent_directories=True).working_tree_dir)\n",
    "\n",
    "# training script\n",
    "script_dir = prefix.joinpath(\"code\", \"lightgbm\", \"iris\")\n",
    "script_name = \"train.py\"\n",
    "\n",
    "# environment file\n",
    "environment_file = prefix.joinpath(\"environments\", \"lightgbm.txt\")\n",
    "\n",
    "# azure ml settings\n",
    "environment_name = \"hpo-lightgbm\"\n",
    "experiment_name = \"hpo-lightgbm-optuna-minimize-train-time\"\n",
    "compute_target = \"local\""
   ]
  },
  {
   "cell_type": "code",
   "execution_count": 3,
   "metadata": {},
   "outputs": [],
   "source": [
    "from azureml.core import Experiment, ScriptRunConfig, Environment\n",
    "\n",
    "\n",
    "def objective(trial):\n",
    "    ds = ws.datasets[\"iris\"]\n",
    "    env = Environment.from_pip_requirements(environment_name, environment_file)\n",
    "\n",
    "    arguments = [\n",
    "        \"--data-dir\",\n",
    "        ds.as_mount(),\n",
    "        \"--num-boost-round\",\n",
    "        trial.suggest_int(\"--num-boost-round\", 1, 100),\n",
    "        \"--boosting\",\n",
    "        trial.suggest_categorical(\n",
    "            \"--boosting\", [\"gbdt\", \"rf\", \"dart\", \"goss\"]\n",
    "        ),\n",
    "        \"--num-iterations\",\n",
    "        trial.suggest_int(\"--num-iterations\", 1, 100),\n",
    "        \"--num-leaves\",\n",
    "        trial.suggest_int(\"--num-leaves\", 2, 64),\n",
    "        \"--num-threads\",\n",
    "        trial.suggest_categorical(\"--num-threads\", [1, 2, 4]),\n",
    "        \"--learning-rate\",\n",
    "        trial.suggest_loguniform(\"--learning-rate\", 10e-5, 0.1),\n",
    "        \"--seed\",\n",
    "        trial.suggest_categorical(\"--seed\", [1, 3, 5, 7, 11, 13, 42]),\n",
    "    ]\n",
    "\n",
    "    src = ScriptRunConfig(\n",
    "        source_directory=script_dir,\n",
    "        script=script_name,\n",
    "        arguments=arguments,\n",
    "        environment=env,\n",
    "        compute_target=compute_target,\n",
    "    )\n",
    "\n",
    "    run = Experiment(ws, experiment_name).submit(src)\n",
    "    run.wait_for_completion()\n",
    "    if run.get_status() == \"Completed\":\n",
    "        metrics = run.get_metrics()\n",
    "        training_time = metrics[\"training_time\"]\n",
    "        loss = metrics[\"loss\"]\n",
    "        acc = metrics[\"accuracy\"]\n",
    "\n",
    "        return training_time\n",
    "    else:\n",
    "        return None"
   ]
  },
  {
   "cell_type": "code",
   "execution_count": 4,
   "metadata": {
    "tags": []
   },
   "outputs": [
    {
     "name": "stdout",
     "output_type": "stream",
     "text": [
      "&lt;Client: &#39;tcp://127.0.0.1:58575&#39; processes=4 threads=8, memory=34.36 GB&gt;\n",
      "http://127.0.0.1:8787/status\n",
      "[I 2020-10-03 20:43:49,778] A new study created in memory with name: dkdc\n",
      "CPU times: user 1min 34s, sys: 9.8 s, total: 1min 43s\n",
      "Wall time: 18min 5s\n"
     ]
    }
   ],
   "source": [
    "%%time\n",
    "\n",
    "import joblib\n",
    "import optuna\n",
    "import dask_optuna\n",
    "\n",
    "from dask.distributed import Client\n",
    "\n",
    "c = Client()\n",
    "print(c)\n",
    "print(c.dashboard_link)\n",
    "\n",
    "storage = dask_optuna.DaskStorage()\n",
    "study = optuna.create_study(\n",
    "    direction=\"minimize\", study_name=\"dkdc\", storage=storage\n",
    ")\n",
    "with joblib.parallel_backend(\"dask\"):\n",
    "    study.optimize(objective, n_trials=100, n_jobs=-1)"
   ]
  },
  {
   "cell_type": "code",
   "execution_count": 5,
   "metadata": {},
   "outputs": [
    {
     "data": {
      "text/plain": [
       "{&#39;--num-boost-round&#39;: 91,\n",
       " &#39;--boosting&#39;: &#39;gbdt&#39;,\n",
       " &#39;--num-iterations&#39;: 56,\n",
       " &#39;--num-leaves&#39;: 40,\n",
       " &#39;--num-threads&#39;: 1,\n",
       " &#39;--learning-rate&#39;: 0.0007155791176915489,\n",
       " &#39;--seed&#39;: 11}"
      ]
     },
     "execution_count": 5,
     "metadata": {},
     "output_type": "execute_result"
    }
   ],
   "source": [
    "study.best_params"
   ]
  },
  {
   "cell_type": "code",
   "execution_count": 6,
   "metadata": {},
   "outputs": [
    {
     "data": {
      "text/plain": [
       "FrozenTrial(number=64, value=43.99907112121582, datetime_start=datetime.datetime(2020, 10, 3, 20, 53, 54, 793768), datetime_complete=datetime.datetime(2020, 10, 3, 20, 55, 36, 94860), params={&#39;--num-boost-round&#39;: 91, &#39;--boosting&#39;: &#39;gbdt&#39;, &#39;--num-iterations&#39;: 56, &#39;--num-leaves&#39;: 40, &#39;--num-threads&#39;: 1, &#39;--learning-rate&#39;: 0.0007155791176915489, &#39;--seed&#39;: 11}, distributions={&#39;--num-boost-round&#39;: IntUniformDistribution(high=100, low=1, step=1), &#39;--boosting&#39;: CategoricalDistribution(choices=(&#39;gbdt&#39;, &#39;rf&#39;, &#39;dart&#39;, &#39;goss&#39;)), &#39;--num-iterations&#39;: IntUniformDistribution(high=100, low=1, step=1), &#39;--num-leaves&#39;: IntUniformDistribution(high=64, low=2, step=1), &#39;--num-threads&#39;: CategoricalDistribution(choices=(1, 2, 4)), &#39;--learning-rate&#39;: LogUniformDistribution(high=0.1, low=0.0001), &#39;--seed&#39;: CategoricalDistribution(choices=(1, 3, 5, 7, 11, 13, 42))}, user_attrs={}, system_attrs={}, intermediate_values={}, trial_id=64, state=TrialState.COMPLETE)"
      ]
     },
     "execution_count": 6,
     "metadata": {},
     "output_type": "execute_result"
    }
   ],
   "source": [
    "study.best_trial"
   ]
  },
  {
   "cell_type": "code",
   "execution_count": 7,
   "metadata": {},
   "outputs": [
    {
     "data": {
      "text/plain": [
       "43.99907112121582"
      ]
     },
     "execution_count": 7,
     "metadata": {},
     "output_type": "execute_result"
    }
   ],
   "source": [
    "study.best_value"
   ]
  }
 ],
 "metadata": {
  "kernelspec": {
   "display_name": "Python 3.7.6 64-bit ('temp': conda)",
   "metadata": {
    "interpreter": {
     "hash": "ee542e58b9e48d64b181316c44da28c3cc0b18445c18860dd41752baf840b46a"
    }
   },
   "name": "Python 3.7.6 64-bit ('temp': conda)"
  },
  "language_info": {
   "codemirror_mode": {
    "name": "ipython",
    "version": 3
   },
   "file_extension": ".py",
   "mimetype": "text/x-python",
   "name": "python",
   "nbconvert_exporter": "python",
   "pygments_lexer": "ipython3",
   "version": "3.7.6-final"
  }
 },
 "nbformat": 4,
 "nbformat_minor": 2
}
