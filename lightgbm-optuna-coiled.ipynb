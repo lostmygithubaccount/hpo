{
 "metadata": {
  "language_info": {
   "codemirror_mode": {
    "name": "ipython",
    "version": 3
   },
   "file_extension": ".py",
   "mimetype": "text/x-python",
   "name": "python",
   "nbconvert_exporter": "python",
   "pygments_lexer": "ipython3",
   "version": "3.7.6-final"
  },
  "orig_nbformat": 2,
  "kernelspec": {
   "name": "Python 3.7.6 64-bit ('temp': conda)",
   "display_name": "Python 3.7.6 64-bit ('temp': conda)",
   "metadata": {
    "interpreter": {
     "hash": "ee542e58b9e48d64b181316c44da28c3cc0b18445c18860dd41752baf840b46a"
    }
   }
  }
 },
 "nbformat": 4,
 "nbformat_minor": 2,
 "cells": [
  {
   "cell_type": "code",
   "execution_count": null,
   "metadata": {
    "tags": []
   },
   "outputs": [],
   "source": [
    "from azureml.core import Workspace\n",
    "\n",
    "ws = Workspace.from_config()\n",
    "ws"
   ]
  },
  {
   "cell_type": "code",
   "execution_count": null,
   "metadata": {},
   "outputs": [],
   "source": [
    "import git\n",
    "from pathlib import Path\n",
    "\n",
    "# get root of git repo\n",
    "prefix = Path(git.Repo(\".\", search_parent_directories=True).working_tree_dir)\n",
    "\n",
    "# training script\n",
    "script_dir = prefix.joinpath(\"code\", \"lightgbm\", \"iris\")\n",
    "script_name = \"train.py\"\n",
    "\n",
    "# environment file\n",
    "environment_file = prefix.joinpath(\"environments\", \"lightgbm.txt\")\n",
    "\n",
    "# azure ml settings\n",
    "environment_name = \"hpo-lightgbm\"\n",
    "experiment_name = \"hpo-lightgbm-optuna-coiled-test\"\n",
    "compute_target = \"local\""
   ]
  },
  {
   "cell_type": "code",
   "execution_count": null,
   "metadata": {},
   "outputs": [],
   "source": [
    "from azureml.core import Experiment, ScriptRunConfig, Environment\n",
    "\n",
    "def objective(trial):\n",
    "    ds = ws.datasets['iris']\n",
    "    env = Environment.from_pip_requirements(environment_name, environment_file)\n",
    "\n",
    "    arguments = [\n",
    "        \"--data-dir\",\n",
    "        ds.as_mount(),\n",
    "        \"--num-boost-round\",\n",
    "        trial.suggest_int(\"--num-boost-round\", 1, 100),\n",
    "        \"--boosting\",\n",
    "        trial.suggest_categorical(\"--boosting\", [\"gbdt\", \"rf\", \"dart\", \"goss\"]),\n",
    "        \"--num-iterations\",\n",
    "        trial.suggest_int(\"--num-iterations\", 1, 100), \n",
    "        \"--num-leaves\",\n",
    "        trial.suggest_int(\"--num-leaves\", 2, 64),\n",
    "        \"--num-threads\",\n",
    "        trial.suggest_categorical(\"--num-threads\", [1, 2, 4]),\n",
    "        \"--learning-rate\",\n",
    "        trial.suggest_loguniform(\"--learning-rate\", 10e-5, .1),\n",
    "        \"--seed\",\n",
    "        trial.suggest_categorical(\"--seed\", [1, 3, 5, 7, 11, 13, 42]),\n",
    "    ]\n",
    "\n",
    "    src = ScriptRunConfig(source_directory=script_dir, script=script_name, arguments=arguments, environment=env, compute_target=compute_target)\n",
    "\n",
    "    run = Experiment(ws, experiment_name).submit(src)\n",
    "    run.wait_for_completion()\n",
    "    if run.get_status() == \"Completed\":\n",
    "        metrics = run.get_metrics()\n",
    "        training_time = metrics[\"training_time\"]\n",
    "        loss = metrics[\"loss\"]\n",
    "        acc = metrics[\"accuracy\"]   \n",
    "\n",
    "        return loss\n",
    "    else:\n",
    "        return None"
   ]
  },
  {
   "cell_type": "code",
   "execution_count": null,
   "metadata": {},
   "outputs": [],
   "source": [
    "#!pip freeze > coiled.txt"
   ]
  },
  {
   "cell_type": "code",
   "execution_count": null,
   "metadata": {},
   "outputs": [],
   "source": [
    "#coiled.create_software_environment(name=\"optuna\", pip=\"coiled.txt\")"
   ]
  },
  {
   "cell_type": "code",
   "execution_count": null,
   "metadata": {
    "tags": []
   },
   "outputs": [],
   "source": [
    "import coiled\n",
    "\n",
    "cluster = coiled.Cluster(name=\"dkdc\", n_workers=25, software=\"optuna\")\n",
    "cluster"
   ]
  },
  {
   "cell_type": "code",
   "execution_count": null,
   "metadata": {
    "tags": []
   },
   "outputs": [],
   "source": [
    "import joblib \n",
    "import optuna\n",
    "import dask_optuna\n",
    "\n",
    "from dask.distributed import Client\n",
    "\n",
    "c = Client(cluster)\n",
    "print(c)\n",
    "\n",
    "storage = dask_optuna.DaskStorage()\n",
    "study = optuna.create_study(direction=\"minimize\", study_name=\"dkdc\", storage=storage)\n",
    "with joblib.parallel_backend(\"dask\"):\n",
    "    study.optimize(objective, n_trials=100, n_jobs=-1)"
   ]
  },
  {
   "cell_type": "code",
   "execution_count": null,
   "metadata": {},
   "outputs": [],
   "source": [
    "study.best_params"
   ]
  },
  {
   "cell_type": "code",
   "execution_count": null,
   "metadata": {},
   "outputs": [],
   "source": [
    "len(study.trials)"
   ]
  },
  {
   "cell_type": "code",
   "execution_count": null,
   "metadata": {},
   "outputs": [],
   "source": [
    "cluster.close()"
   ]
  },
  {
   "cell_type": "code",
   "execution_count": null,
   "metadata": {},
   "outputs": [],
   "source": []
  }
 ]
}