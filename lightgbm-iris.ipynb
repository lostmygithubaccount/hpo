{
 "cells": [
  {
   "cell_type": "code",
   "execution_count": null,
   "metadata": {
    "tags": []
   },
   "outputs": [],
   "source": [
    "from azureml.core import Workspace\n",
    "\n",
    "ws = Workspace.from_config()\n",
    "ws"
   ]
  },
  {
   "cell_type": "code",
   "execution_count": null,
   "metadata": {},
   "outputs": [],
   "source": [
    "import git\n",
    "from pathlib import Path\n",
    "\n",
    "# get root of git repo\n",
    "prefix = Path(git.Repo(\".\", search_parent_directories=True).working_tree_dir)\n",
    "\n",
    "# training script\n",
    "script_dir = prefix.joinpath(\"code\", \"lightgbm\", \"iris\")\n",
    "script_name = \"train.py\"\n",
    "\n",
    "# environment file\n",
    "environment_file = prefix.joinpath(\"environments\", \"lightgbm.txt\")\n",
    "\n",
    "# azure ml settings\n",
    "environment_name = \"hpo-lightgbm\"\n",
    "experiment_name = \"hpo-lightgbm-test\"\n",
    "compute_target = \"local\""
   ]
  },
  {
   "cell_type": "code",
   "execution_count": null,
   "metadata": {
    "tags": []
   },
   "outputs": [],
   "source": [
    "from azureml.core import Experiment, ScriptRunConfig, Environment\n",
    "\n",
    "ds = ws.datasets[\"iris\"]\n",
    "\n",
    "env = Environment.from_pip_requirements(environment_name, environment_file)\n",
    "\n",
    "arguments = [\n",
    "    \"--data-dir\",\n",
    "    ds.as_mount(),\n",
    "    \"--num-boost-round\",\n",
    "    10,\n",
    "    \"--booster\",\n",
    "    \"gbdt\",\n",
    "    \"--num-iterations\",\n",
    "    10,\n",
    "    \"--num-leaves\",\n",
    "    16,\n",
    "    \"--num-threads\",\n",
    "    0,\n",
    "    \"--learning-rate\",\n",
    "    0.01,\n",
    "    \"--seed\",\n",
    "    42,\n",
    "]\n",
    "\n",
    "src = ScriptRunConfig(\n",
    "    source_directory=script_dir,\n",
    "    script=script_name,\n",
    "    arguments=arguments,\n",
    "    environment=env,\n",
    "    compute_target=compute_target,\n",
    ")\n",
    "\n",
    "run = Experiment(ws, experiment_name).submit(src)\n",
    "run"
   ]
  },
  {
   "cell_type": "code",
   "execution_count": null,
   "metadata": {},
   "outputs": [],
   "source": [
    "from azureml.widgets import RunDetails\n",
    "\n",
    "RunDetails(run).show()"
   ]
  },
  {
   "cell_type": "code",
   "execution_count": null,
   "metadata": {},
   "outputs": [],
   "source": [
    "run.wait_for_completion()\n",
    "metrics = run.get_metrics()\n",
    "\n",
    "training_time = metrics[\"training_time\"]\n",
    "loss = metrics[\"loss\"]\n",
    "acc = metrics[\"accuracy\"]\n",
    "\n",
    "training_time, loss, acc"
   ]
  }
 ],
 "metadata": {
  "kernelspec": {
   "display_name": "Python 3.8.5 64-bit ('dkdc': conda)",
   "metadata": {
    "interpreter": {
     "hash": "6813bb6deec483ed15ac37ef074baa52622250b2b65156cf2f3313d85d7e0391"
    }
   },
   "name": "Python 3.8.5 64-bit ('dkdc': conda)"
  },
  "language_info": {
   "codemirror_mode": {
    "name": "ipython",
    "version": 3
   },
   "file_extension": ".py",
   "mimetype": "text/x-python",
   "name": "python",
   "nbconvert_exporter": "python",
   "pygments_lexer": "ipython3",
   "version": "3.8.5-final"
  }
 },
 "nbformat": 4,
 "nbformat_minor": 2
}
