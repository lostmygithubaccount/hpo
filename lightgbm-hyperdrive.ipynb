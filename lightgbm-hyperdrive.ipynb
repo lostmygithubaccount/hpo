{
 "cells": [
  {
   "cell_type": "code",
   "execution_count": 1,
   "metadata": {
    "tags": []
   },
   "outputs": [
    {
     "data": {
      "text/plain": [
       "Workspace.create(name=&#39;AzureML&#39;, subscription_id=&#39;6560575d-fa06-4e7d-95fb-f962e74efd7a&#39;, resource_group=&#39;cody-eastus-rg&#39;)"
      ]
     },
     "execution_count": 1,
     "metadata": {},
     "output_type": "execute_result"
    }
   ],
   "source": [
    "from azureml.core import Workspace\n",
    "\n",
    "ws = Workspace.from_config()\n",
    "ws"
   ]
  },
  {
   "cell_type": "code",
   "execution_count": 2,
   "metadata": {},
   "outputs": [],
   "source": [
    "import git\n",
    "from pathlib import Path\n",
    "\n",
    "# get root of git repo\n",
    "prefix = Path(git.Repo(\".\", search_parent_directories=True).working_tree_dir)\n",
    "\n",
    "# training script\n",
    "script_dir = prefix.joinpath(\"code\", \"lightgbm\", \"iris\")\n",
    "script_name = \"train.py\"\n",
    "\n",
    "# environment file\n",
    "environment_file = prefix.joinpath(\"environments\", \"lightgbm.txt\")\n",
    "\n",
    "# azure ml settings\n",
    "environment_name = \"hpo-lightgbm\"\n",
    "experiment_name = \"hpo-lightgbm-hyperdrive-train-time\"\n",
    "compute_target = \"cpu-cluster\""
   ]
  },
  {
   "cell_type": "code",
   "execution_count": 3,
   "metadata": {
    "tags": []
   },
   "outputs": [],
   "source": [
    "from azureml.core import Experiment, ScriptRunConfig, Environment\n",
    "\n",
    "ds = ws.datasets[\"iris\"]\n",
    "\n",
    "env = Environment.from_pip_requirements(environment_name, environment_file)\n",
    "\n",
    "arguments = [\"--data-dir\", ds.as_mount()]\n",
    "\n",
    "src = ScriptRunConfig(\n",
    "    source_directory=script_dir,\n",
    "    script=script_name,\n",
    "    arguments=arguments,\n",
    "    environment=env,\n",
    "    compute_target=compute_target,\n",
    ")\n",
    "\n",
    "# run = Experiment(ws, experiment_name).submit(src)\n",
    "# run"
   ]
  },
  {
   "cell_type": "code",
   "execution_count": 4,
   "metadata": {},
   "outputs": [
    {
     "data": {
      "text/html": [
       "<table style=\"width:100%\"><tr><th>Experiment</th><th>Id</th><th>Type</th><th>Status</th><th>Details Page</th><th>Docs Page</th></tr><tr><td>hpo-lightgbm-hyperdrive-train-time</td><td>HD_e450d8b4-0b37-431f-b144-84c8b9c3cf25</td><td>hyperdrive</td><td>Running</td><td><a href=\"https://ml.azure.com/experiments/hpo-lightgbm-hyperdrive-train-time/runs/HD_e450d8b4-0b37-431f-b144-84c8b9c3cf25?wsid=/subscriptions/6560575d-fa06-4e7d-95fb-f962e74efd7a/resourcegroups/cody-eastus-rg/workspaces/AzureML\" target=\"_blank\" rel=\"noopener\">Link to Azure Machine Learning studio</a></td><td><a href=\"https://docs.microsoft.com/en-us/python/api/overview/azure/ml/intro?view=azure-ml-py\" target=\"_blank\" rel=\"noopener\">Link to Documentation</a></td></tr></table>"
      ],
      "text/plain": [
       "Run(Experiment: hpo-lightgbm-hyperdrive-train-time,\n",
       "Id: HD_e450d8b4-0b37-431f-b144-84c8b9c3cf25,\n",
       "Type: hyperdrive,\n",
       "Status: Running)"
      ]
     },
     "execution_count": 4,
     "metadata": {},
     "output_type": "execute_result"
    }
   ],
   "source": [
    "from azureml.train.hyperdrive.runconfig import HyperDriveConfig\n",
    "from azureml.train.hyperdrive.sampling import (\n",
    "    RandomParameterSampling,\n",
    "    BayesianParameterSampling,\n",
    ")\n",
    "from azureml.train.hyperdrive.run import PrimaryMetricGoal\n",
    "from azureml.train.hyperdrive.parameter_expressions import (\n",
    "    choice,\n",
    "    loguniform,\n",
    "    uniform,\n",
    ")\n",
    "\n",
    "param_sampling = RandomParameterSampling(\n",
    "    {\n",
    "        \"--num-boost-round\": choice(range(1, 100)),\n",
    "        \"--boosting\": choice([\"gbdt\", \"rf\", \"dart\", \"goss\"]),\n",
    "        \"--num-iterations\": choice(range(1, 100)),\n",
    "        \"--num-leaves\": choice(range(2, 64)),\n",
    "        \"--num-threads\": choice([1, 2, 4]),\n",
    "        \"--learning-rate\": loguniform(10e-5, 0.1),\n",
    "        \"--seed\": choice([1, 3, 5, 7, 11, 13, 42]),\n",
    "    }\n",
    ")\n",
    "\n",
    "hdc = HyperDriveConfig(\n",
    "    run_config=src,\n",
    "    hyperparameter_sampling=param_sampling,\n",
    "    primary_metric_name=\"training_time\",\n",
    "    primary_metric_goal=PrimaryMetricGoal.MINIMIZE,\n",
    "    max_total_runs=100,\n",
    "    max_concurrent_runs=20,\n",
    ")\n",
    "\n",
    "run = Experiment(ws, experiment_name).submit(hdc)\n",
    "run"
   ]
  },
  {
   "cell_type": "code",
   "execution_count": null,
   "metadata": {},
   "outputs": [],
   "source": [
    "from azureml.widgets import RunDetails\n",
    "\n",
    "RunDetails(run).show()"
   ]
  },
  {
   "cell_type": "code",
   "execution_count": 5,
   "metadata": {
    "tags": []
   },
   "outputs": [
    {
     "name": "stdout",
     "output_type": "stream",
     "text": [
      "CPU times: user 1.19 s, sys: 104 ms, total: 1.29 s\n",
      "Wall time: 23min 17s\n"
     ]
    },
    {
     "data": {
      "text/plain": [
       "[&#39;--data-dir&#39;,\n",
       " &#39;DatasetConsumptionConfig:input_4480c4f9&#39;,\n",
       " &#39;--boosting&#39;,\n",
       " &#39;gbdt&#39;,\n",
       " &#39;--learning-rate&#39;,\n",
       " &#39;1.0458165449588404&#39;,\n",
       " &#39;--num-boost-round&#39;,\n",
       " &#39;52&#39;,\n",
       " &#39;--num-iterations&#39;,\n",
       " &#39;1&#39;,\n",
       " &#39;--num-leaves&#39;,\n",
       " &#39;61&#39;,\n",
       " &#39;--num-threads&#39;,\n",
       " &#39;2&#39;,\n",
       " &#39;--seed&#39;,\n",
       " &#39;1&#39;]"
      ]
     },
     "execution_count": 5,
     "metadata": {},
     "output_type": "execute_result"
    }
   ],
   "source": [
    "%%time\n",
    "\n",
    "run.wait_for_completion()\n",
    "best_run = run.get_best_run_by_primary_metric()\n",
    "best_run.get_details()[\"runDefinition\"][\"arguments\"]"
   ]
  },
  {
   "cell_type": "code",
   "execution_count": 6,
   "metadata": {},
   "outputs": [
    {
     "data": {
      "text/plain": [
       "{&#39;test-multi_logloss&#39;: 0.13348004130668048,\n",
       " &#39;training_time&#39;: 3.969475269317627,\n",
       " &#39;accuracy&#39;: 1.0,\n",
       " &#39;loss&#39;: 0.13348004130668045}"
      ]
     },
     "execution_count": 6,
     "metadata": {},
     "output_type": "execute_result"
    }
   ],
   "source": [
    "best_run.get_metrics()"
   ]
  }
 ],
 "metadata": {
  "kernelspec": {
   "display_name": "Python 3.7.6 64-bit ('temp': conda)",
   "metadata": {
    "interpreter": {
     "hash": "ee542e58b9e48d64b181316c44da28c3cc0b18445c18860dd41752baf840b46a"
    }
   },
   "name": "Python 3.7.6 64-bit ('temp': conda)"
  },
  "language_info": {
   "codemirror_mode": {
    "name": "ipython",
    "version": 3
   },
   "file_extension": ".py",
   "mimetype": "text/x-python",
   "name": "python",
   "nbconvert_exporter": "python",
   "pygments_lexer": "ipython3",
   "version": "3.7.6-final"
  }
 },
 "nbformat": 4,
 "nbformat_minor": 2
}
