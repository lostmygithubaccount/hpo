{
 "cells": [
  {
   "cell_type": "code",
   "execution_count": 1,
   "metadata": {
    "tags": []
   },
   "outputs": [
    {
     "output_type": "execute_result",
     "data": {
      "text/plain": "Workspace.create(name=&#39;AzureML&#39;, subscription_id=&#39;6560575d-fa06-4e7d-95fb-f962e74efd7a&#39;, resource_group=&#39;cody-eastus-rg&#39;)"
     },
     "metadata": {},
     "execution_count": 1
    }
   ],
   "source": [
    "from azureml.core import Workspace\n",
    "\n",
    "ws = Workspace.from_config()\n",
    "ws"
   ]
  },
  {
   "cell_type": "code",
   "execution_count": 2,
   "metadata": {
    "tags": []
   },
   "outputs": [
    {
     "output_type": "stream",
     "name": "stdout",
     "text": "INFO: &#39;lightgbm-mlflow-optuna-aml-coiled&#39; does not exist. Creating a new experiment\n"
    }
   ],
   "source": [
    "import mlflow\n",
    "\n",
    "mlflow.set_tracking_uri(ws.get_mlflow_tracking_uri())\n",
    "mlflow.set_experiment(\"lightgbm-mlflow-optuna-aml-coiled\")"
   ]
  },
  {
   "cell_type": "code",
   "execution_count": 3,
   "metadata": {
    "tags": []
   },
   "outputs": [
    {
     "output_type": "stream",
     "name": "stderr",
     "text": "/Users/cody/miniconda3/envs/temp/lib/python3.7/site-packages/ipykernel/ipkernel.py:287: DeprecationWarning: `should_run_async` will not call `transform_cell` automatically in the future. Please pass the result to `transformed_cell` argument and any exception that happen during thetransform in `preprocessing_exc_tuple` in IPython 7.17 and above.\n  and should_run_async(code)\n"
    }
   ],
   "source": [
    "# imports\n",
    "import os\n",
    "import time\n",
    "import mlflow\n",
    "import argparse\n",
    "\n",
    "import pandas as pd\n",
    "import lightgbm as lgb\n",
    "import matplotlib.pyplot as plt\n",
    "\n",
    "from sklearn.metrics import log_loss, accuracy_score\n",
    "from sklearn.preprocessing import LabelEncoder\n",
    "from sklearn.model_selection import train_test_split"
   ]
  },
  {
   "cell_type": "code",
   "execution_count": 4,
   "metadata": {
    "tags": []
   },
   "outputs": [
    {
     "output_type": "stream",
     "name": "stderr",
     "text": "/Users/cody/miniconda3/envs/temp/lib/python3.7/site-packages/ipykernel/ipkernel.py:287: DeprecationWarning: `should_run_async` will not call `transform_cell` automatically in the future. Please pass the result to `transformed_cell` argument and any exception that happen during thetransform in `preprocessing_exc_tuple` in IPython 7.17 and above.\n  and should_run_async(code)\n"
    }
   ],
   "source": [
    "# define functions\n",
    "def preprocess_data(df):\n",
    "    X = df.drop([\"species\"], axis=1)\n",
    "    y = df[\"species\"]\n",
    "\n",
    "    enc = LabelEncoder()\n",
    "    y = enc.fit_transform(y)\n",
    "\n",
    "    X_train, X_test, y_train, y_test = train_test_split(\n",
    "        X, y, test_size=0.2, random_state=42\n",
    "    )\n",
    "\n",
    "    return X_train, X_test, y_train, y_test, enc\n",
    "\n",
    "\n",
    "def train_model(params, num_boost_round, X_train, X_test, y_train, y_test):\n",
    "    t1 = time.time()\n",
    "    train_data = lgb.Dataset(X_train, label=y_train)\n",
    "    test_data = lgb.Dataset(X_test, label=y_test)\n",
    "    model = lgb.train(\n",
    "        params,\n",
    "        train_data,\n",
    "        num_boost_round=num_boost_round,\n",
    "        valid_sets=[test_data],\n",
    "        valid_names=[\"test\"],\n",
    "    )\n",
    "    t2 = time.time()\n",
    "\n",
    "    return model, t2 - t1\n",
    "\n",
    "\n",
    "def evaluate_model(model, X_test, y_test):\n",
    "    y_proba = model.predict(X_test)\n",
    "    y_pred = y_proba.argmax(axis=1)\n",
    "    loss = log_loss(y_test, y_proba)\n",
    "    acc = accuracy_score(y_test, y_pred)\n",
    "\n",
    "    return loss, acc"
   ]
  },
  {
   "cell_type": "code",
   "execution_count": 5,
   "metadata": {
    "tags": []
   },
   "outputs": [],
   "source": [
    "# define an objective for optuna to optimize \n",
    "def objective(trial):\n",
    "    try:\n",
    "        # start mlflow run\n",
    "        with mlflow.start_run():\n",
    "            # enable autologging\n",
    "            mlflow.lightgbm.autolog()\n",
    "\n",
    "            # generate parameters \n",
    "            num_boost_round = trial.suggest_int(\"num_boost_round\", 1, 100)\n",
    "            params = {\n",
    "                \"objective\": \"multiclass\",\n",
    "                \"num_class\": 3,\n",
    "                \"boosting\":  trial.suggest_categorical(\n",
    "                    \"boosting\", [\"gbdt\", \"dart\", \"goss\"]\n",
    "                ),\n",
    "                \"num_iterations\": trial.suggest_int(\"num_iterations\", 10, 100),\n",
    "                \"num_leaves\": trial.suggest_int(\"num_leaves\", 15, 63),\n",
    "                #\"num_threads\": trial.suggest_categorical(\"num_threads\", [1, 2, 4]),\n",
    "                \"learning_rate\": trial.suggest_loguniform(\"learning_rate\", 10e-5, .1),\n",
    "                \"metric\": \"multi_logloss\",\n",
    "                #\"seed\": trial.suggest_categorical(\"seed\", [1, 3, 5, 7, 11, 13, 42]),\n",
    "                \"verbose\": 0,\n",
    "            }\n",
    "            mlflow.log_param(\"num_boost_round\", num_boost_round)\n",
    "            mlflow.log_params(params)\n",
    "\n",
    "            # read in dataset \n",
    "            df = pd.read_csv(\"../data/iris/iris.csv\")\n",
    "\n",
    "            # preprocess data\n",
    "            X_train, X_test, y_train, y_test, enc = preprocess_data(df)\n",
    "\n",
    "            # train model\n",
    "            model, train_time = train_model(\n",
    "                params, num_boost_round, X_train, X_test, y_train, y_test\n",
    "            )\n",
    "            mlflow.log_metric(\"training_time\", train_time)\n",
    "\n",
    "            # evaluate model\n",
    "            loss, acc = evaluate_model(model, X_test, y_test)\n",
    "            mlflow.log_metrics({\"loss\": loss, \"accuracy\": acc})\n",
    "\n",
    "            return loss\n",
    "    except:\n",
    "        return None "
   ]
  },
  {
   "cell_type": "code",
   "execution_count": 6,
   "metadata": {
    "tags": []
   },
   "outputs": [
    {
     "output_type": "stream",
     "name": "stderr",
     "text": "[I 2020-10-05 16:22:11,036] A new study created in memory with name: test\n[W 2020-10-05 16:22:13,091] Trial 5 failed, because the returned value from the objective function cannot be cast to float. Returned value is: None\n[W 2020-10-05 16:22:13,096] Trial 8 failed, because the returned value from the objective function cannot be cast to float. Returned value is: None\n[W 2020-10-05 16:22:13,101] Trial 9 failed, because the returned value from the objective function cannot be cast to float. Returned value is: None\n[W 2020-10-05 16:22:13,105] Trial 10 failed, because the returned value from the objective function cannot be cast to float. Returned value is: None\n[W 2020-10-05 16:22:13,110] Trial 11 failed, because the returned value from the objective function cannot be cast to float. Returned value is: None\n[W 2020-10-05 16:22:13,112] Trial 2 failed, because the returned value from the objective function cannot be cast to float. Returned value is: None\n[W 2020-10-05 16:22:13,115] Trial 12 failed, because the returned value from the objective function cannot be cast to float. Returned value is: None\n[W 2020-10-05 16:22:13,117] Trial 13 failed, because the returned value from the objective function cannot be cast to float. Returned value is: None\n[W 2020-10-05 16:22:13,120] Trial 14 failed, because the returned value from the objective function cannot be cast to float. Returned value is: None\n[W 2020-10-05 16:22:13,122] Trial 15 failed, because the returned value from the objective function cannot be cast to float. Returned value is: None\n[W 2020-10-05 16:22:13,152] Trial 6 failed, because the returned value from the objective function cannot be cast to float. Returned value is: None\n[W 2020-10-05 16:22:13,226] Trial 0 failed, because the returned value from the objective function cannot be cast to float. Returned value is: None\n[W 2020-10-05 16:22:13,272] Trial 7 failed, because the returned value from the objective function cannot be cast to float. Returned value is: None\n/Users/cody/miniconda3/envs/temp/lib/python3.7/site-packages/mlflow/lightgbm.py:366: DeprecationWarning: inspect.getargspec() is deprecated since Python 3.0, use inspect.signature() or inspect.getfullargspec()\n  all_arg_names = inspect.getargspec(original)[0]  # pylint: disable=W1505\n[1]\ttest&#39;s multi_logloss: 1.09449\n[2]\ttest&#39;s multi_logloss: 1.08854\n[3]\ttest&#39;s multi_logloss: 1.08264\n[4]\ttest&#39;s multi_logloss: 1.07678\n[5]\ttest&#39;s multi_logloss: 1.07096\n[6]\ttest&#39;s multi_logloss: 1.06519\n[7]\ttest&#39;s multi_logloss: 1.05946\n[8]\ttest&#39;s multi_logloss: 1.05378\n[9]\ttest&#39;s multi_logloss: 1.04813\n[10]\ttest&#39;s multi_logloss: 1.04253\n[11]\ttest&#39;s multi_logloss: 1.03697\n[12]\ttest&#39;s multi_logloss: 1.03145\n[13]\ttest&#39;s multi_logloss: 1.02597\n[14]\ttest&#39;s multi_logloss: 1.02053\n[15]\ttest&#39;s multi_logloss: 1.01513\n[16]\ttest&#39;s multi_logloss: 1.00977\n[17]\ttest&#39;s multi_logloss: 1.00445\n[18]\ttest&#39;s multi_logloss: 0.999165\n[19]\ttest&#39;s multi_logloss: 0.993918\n[20]\ttest&#39;s multi_logloss: 0.988709\n[21]\ttest&#39;s multi_logloss: 0.983538\n[22]\ttest&#39;s multi_logloss: 0.978402\n[23]\ttest&#39;s multi_logloss: 0.973303\n[24]\ttest&#39;s multi_logloss: 0.96824\n[25]\ttest&#39;s multi_logloss: 0.963213\n[26]\ttest&#39;s multi_logloss: 0.958221\n[27]\ttest&#39;s multi_logloss: 0.953263\n[28]\ttest&#39;s multi_logloss: 0.948341\n[29]\ttest&#39;s multi_logloss: 0.943453\n[30]\ttest&#39;s multi_logloss: 0.938599\n[31]\ttest&#39;s multi_logloss: 0.933778\n[32]\ttest&#39;s multi_logloss: 0.92899\n[33]\ttest&#39;s multi_logloss: 0.924236\n[34]\ttest&#39;s multi_logloss: 0.919513\n[35]\ttest&#39;s multi_logloss: 0.914823\n[36]\ttest&#39;s multi_logloss: 0.910165\n[37]\ttest&#39;s multi_logloss: 0.905538\n[38]\ttest&#39;s multi_logloss: 0.900942\n[39]\ttest&#39;s multi_logloss: 0.896378\n[40]\ttest&#39;s multi_logloss: 0.891844\n[41]\ttest&#39;s multi_logloss: 0.887341\n[W 2020-10-05 16:22:14,305] Trial 4 failed, because the returned value from the objective function cannot be cast to float. Returned value is: None\n[1]\ttest&#39;s multi_logloss: 1.07857\n[2]\ttest&#39;s multi_logloss: 1.05726\n[3]\ttest&#39;s multi_logloss: 1.03653\n[4]\ttest&#39;s multi_logloss: 1.01637\n[5]\ttest&#39;s multi_logloss: 0.996735\n[6]\ttest&#39;s multi_logloss: 0.977619\n[7]\ttest&#39;s multi_logloss: 0.959001\n[8]\ttest&#39;s multi_logloss: 0.940859\n[9]\ttest&#39;s multi_logloss: 0.923181\n[10]\ttest&#39;s multi_logloss: 0.905944\n[11]\ttest&#39;s multi_logloss: 0.889138\n[12]\ttest&#39;s multi_logloss: 0.872742\n[13]\ttest&#39;s multi_logloss: 0.856746\n[14]\ttest&#39;s multi_logloss: 0.841134\n[15]\ttest&#39;s multi_logloss: 0.825896\n[16]\ttest&#39;s multi_logloss: 0.811239\n[17]\ttest&#39;s multi_logloss: 0.796703\n[18]\ttest&#39;s multi_logloss: 0.782502\n[19]\ttest&#39;s multi_logloss: 0.768841\n[20]\ttest&#39;s multi_logloss: 0.755278\n[21]\ttest&#39;s multi_logloss: 0.742233\n[22]\ttest&#39;s multi_logloss: 0.729269\n[23]\ttest&#39;s multi_logloss: 0.716803\n[24]\ttest&#39;s multi_logloss: 0.704403\n[25]\ttest&#39;s multi_logloss: 0.692278\n[26]\ttest&#39;s multi_logloss: 0.680613\n[27]\ttest&#39;s multi_logloss: 0.669004\n[28]\ttest&#39;s multi_logloss: 0.657839\n[29]\ttest&#39;s multi_logloss: 0.646718\n[30]\ttest&#39;s multi_logloss: 0.635833\n[31]\ttest&#39;s multi_logloss: 0.625366\n[32]\ttest&#39;s multi_logloss: 0.61493\n[33]\ttest&#39;s multi_logloss: 0.604898\n[34]\ttest&#39;s multi_logloss: 0.594572\n[35]\ttest&#39;s multi_logloss: 0.584945\n[36]\ttest&#39;s multi_logloss: 0.575035\n[37]\ttest&#39;s multi_logloss: 0.5658\n[38]\ttest&#39;s multi_logloss: 0.556756\n[39]\ttest&#39;s multi_logloss: 0.547422\n[40]\ttest&#39;s multi_logloss: 0.538734\n[41]\ttest&#39;s multi_logloss: 0.529902\n[42]\ttest&#39;s multi_logloss: 0.521524\n2020/10/05 16:22:49 WARNING mlflow.models.model: Logging model metadata to the tracking server has failed, possibly due older server version. The model artifacts have been logged successfully under azureml://experiments/lightgbm-mlflow-optuna-aml-coiled/runs/e4340567-9b5a-4138-aa4a-646f4f2bba58/artifacts. In addition to exporting model artifacts, MLflow clients 1.7.0 and above attempt to record model metadata to the  tracking store. If logging to a mlflow server via REST, consider  upgrading the server version to MLflow 1.7.0 or above.\n2020/10/05 16:22:49 WARNING mlflow.models.model: Logging model metadata to the tracking server has failed, possibly due older server version. The model artifacts have been logged successfully under azureml://experiments/lightgbm-mlflow-optuna-aml-coiled/runs/e4340567-9b5a-4138-aa4a-646f4f2bba58/artifacts. In addition to exporting model artifacts, MLflow clients 1.7.0 and above attempt to record model metadata to the  tracking store. If logging to a mlflow server via REST, consider  upgrading the server version to MLflow 1.7.0 or above.\n[I 2020-10-05 16:22:50,651] Trial 1 finished with value: 0.8873406915913292 and parameters: {&#39;num_boost_round&#39;: 57, &#39;boosting&#39;: &#39;gbdt&#39;, &#39;num_iterations&#39;: 41, &#39;num_leaves&#39;: 38, &#39;learning_rate&#39;: 0.003365696076320319}. Best is trial 1 with value: 0.8873406915913292.\n[I 2020-10-05 16:22:51,170] Trial 3 finished with value: 0.5215237198734719 and parameters: {&#39;num_boost_round&#39;: 10, &#39;boosting&#39;: &#39;goss&#39;, &#39;num_iterations&#39;: 42, &#39;num_leaves&#39;: 52, &#39;learning_rate&#39;: 0.012356151898808367}. Best is trial 3 with value: 0.5215237198734719.\nCPU times: user 12 s, sys: 3.35 s, total: 15.4 s\nWall time: 40.5 s\n"
    }
   ],
   "source": [
    "%%time \n",
    "\n",
    "import optuna\n",
    "\n",
    "study = optuna.create_study(direction=\"minimize\", study_name=\"test\")\n",
    "study.optimize(objective, n_trials=16, n_jobs=-1)"
   ]
  },
  {
   "cell_type": "code",
   "execution_count": 7,
   "metadata": {
    "tags": []
   },
   "outputs": [
    {
     "output_type": "stream",
     "name": "stderr",
     "text": "/Users/cody/miniconda3/envs/temp/lib/python3.7/site-packages/ipykernel/ipkernel.py:287: DeprecationWarning: `should_run_async` will not call `transform_cell` automatically in the future. Please pass the result to `transformed_cell` argument and any exception that happen during thetransform in `preprocessing_exc_tuple` in IPython 7.17 and above.\n  and should_run_async(code)\n&lt;Client: &#39;tcp://127.0.0.1:53262&#39; processes=4 threads=8, memory=34.36 GB&gt;\nhttp://127.0.0.1:8787/status\n[I 2020-10-05 16:23:14,467] A new study created in memory with name: test-dask\nCPU times: user 3min 13s, sys: 4.16 s, total: 3min 17s\nWall time: 3min 30s\n"
    }
   ],
   "source": [
    "%%time \n",
    "\n",
    "import joblib\n",
    "import optuna\n",
    "import dask_optuna\n",
    "\n",
    "from dask.distributed import Client\n",
    "\n",
    "c = Client()\n",
    "print(c)\n",
    "print(c.dashboard_link)\n",
    "\n",
    "sampler = optuna.samplers.TPESampler()\n",
    "storage = dask_optuna.DaskStorage()\n",
    "study = optuna.create_study(\n",
    "    direction=\"minimize\", study_name=\"test-dask\", sampler=sampler, storage=storage\n",
    ")\n",
    "with joblib.parallel_backend(\"dask\"):\n",
    "    study.optimize(objective, n_trials=2000, n_jobs=-1)"
   ]
  },
  {
   "cell_type": "code",
   "execution_count": 8,
   "metadata": {
    "tags": []
   },
   "outputs": [
    {
     "output_type": "stream",
     "name": "stderr",
     "text": "/Users/cody/miniconda3/envs/temp/lib/python3.7/site-packages/ipykernel/ipkernel.py:287: DeprecationWarning: `should_run_async` will not call `transform_cell` automatically in the future. Please pass the result to `transformed_cell` argument and any exception that happen during thetransform in `preprocessing_exc_tuple` in IPython 7.17 and above.\n  and should_run_async(code)\n"
    },
    {
     "output_type": "execute_result",
     "data": {
      "text/plain": "{&#39;num_boost_round&#39;: 98,\n &#39;boosting&#39;: &#39;gbdt&#39;,\n &#39;num_iterations&#39;: 100,\n &#39;num_leaves&#39;: 61,\n &#39;learning_rate&#39;: 0.09962117068042924}"
     },
     "metadata": {},
     "execution_count": 8
    }
   ],
   "source": [
    "study.best_params"
   ]
  },
  {
   "cell_type": "code",
   "execution_count": 9,
   "metadata": {
    "tags": []
   },
   "outputs": [
    {
     "output_type": "execute_result",
     "data": {
      "text/plain": "0.01880866644078725"
     },
     "metadata": {},
     "execution_count": 9
    }
   ],
   "source": [
    "study.best_value"
   ]
  },
  {
   "cell_type": "code",
   "execution_count": 10,
   "metadata": {},
   "outputs": [
    {
     "output_type": "display_data",
     "data": {
      "application/vnd.plotly.v1+json": {
       "config": {
        "plotlyServerURL": "https://plot.ly"
       },
       "data": [
        {
         "mode": "markers",
         "name": "Objective Value",
         "type": "scatter",
         "x": [
          1,
          3,
          4,
          6,
          132,
          153,
          166,
          178,
          179,
          191,
          203,
          227,
          238,
          239,
          252,
          292,
          293,
          295,
          308,
          372,
          373,
          374,
          382,
          432,
          434,
          436,
          437,
          510,
          512,
          513,
          514,
          578,
          580,
          581,
          582,
          633,
          638,
          640,
          641,
          675,
          679,
          685,
          686,
          713,
          720,
          723,
          727,
          757,
          759,
          765,
          771,
          798,
          804,
          807,
          810,
          825,
          836,
          842,
          844,
          855,
          868,
          870,
          881,
          884,
          892,
          896,
          910,
          911,
          921,
          929,
          945,
          948,
          950,
          953,
          985,
          987,
          989,
          992,
          1027,
          1032,
          1034,
          1036,
          1068,
          1071,
          1072,
          1075,
          1108,
          1109,
          1112,
          1114,
          1143,
          1151,
          1153,
          1156,
          1166,
          1187,
          1189,
          1193,
          1199,
          1220,
          1224,
          1227,
          1237,
          1253,
          1258,
          1262,
          1270,
          1288,
          1293,
          1297,
          1303,
          1317,
          1325,
          1331,
          1338,
          1348,
          1356,
          1363,
          1367,
          1381,
          1391,
          1395,
          1399,
          1410,
          1420,
          1425,
          1429,
          1438,
          1452,
          1458,
          1461,
          1466,
          1481,
          1486,
          1493,
          1499,
          1508,
          1522,
          1527,
          1533,
          1537,
          1547,
          1555,
          1563,
          1565,
          1579,
          1585,
          1592,
          1593,
          1617,
          1618,
          1625,
          1626,
          1647,
          1649,
          1657,
          1658,
          1679,
          1680,
          1690,
          1691,
          1705,
          1710,
          1721,
          1726,
          1732,
          1741,
          1748,
          1755,
          1767,
          1770,
          1777,
          1783,
          1798,
          1801,
          1804,
          1810,
          1823,
          1828,
          1833,
          1840,
          1851,
          1864,
          1868,
          1870,
          1879,
          1892,
          1896,
          1897,
          1909,
          1920,
          1925,
          1927,
          1933,
          1943,
          1954,
          1956,
          1959,
          1966,
          1979,
          1982,
          1988,
          1989
         ],
         "y": [
          0.9920566914598196,
          0.6446180949375385,
          0.5891923103276839,
          1.0915118642972395,
          0.37075406956614493,
          1.0865452389592902,
          0.9041464669573975,
          1.0346828394986791,
          0.2755338518592219,
          0.5942625200079983,
          1.0908571739449466,
          0.0725957417543068,
          0.06557538538874312,
          0.10383748020862954,
          0.31602748254847407,
          0.06597584214368095,
          0.0695895479446675,
          0.06791891445619437,
          0.06942343404834245,
          0.2939785979936444,
          0.2955863314349144,
          0.2914488157486697,
          0.29034773356954513,
          0.10899966556662452,
          0.10737537280550595,
          0.0958784997322429,
          0.11632253126204352,
          0.6180739121559445,
          0.651423843286895,
          0.6051397687808998,
          0.8278980692514966,
          0.06496127367975243,
          0.06115030843509244,
          0.9934589253215835,
          0.0664477695574864,
          0.29833047881998914,
          0.31786302014339574,
          0.2980616012581145,
          0.317642651475001,
          1.0807915643170511,
          1.0443917976520583,
          0.054877322841793155,
          0.061229286375384516,
          0.1175038459483543,
          0.05520388421682513,
          0.061587611667084145,
          0.05488618581323399,
          0.07704487584117528,
          0.06999693826154155,
          0.06286528049364765,
          0.06351485120848437,
          0.07870364365257242,
          0.0640607347473599,
          0.05796204094144714,
          0.05966704239932348,
          0.32748689560704486,
          0.05744940550321209,
          0.3574377876060361,
          0.051072768071140424,
          0.07778119347609147,
          0.05730583779766256,
          0.06367258887589383,
          0.03463763241117728,
          0.06927301763066031,
          0.06727988055279331,
          0.05797374309761976,
          0.058864987126314265,
          0.05839871970113774,
          0.26489598130054903,
          0.6047031539189047,
          0.03265878639928048,
          0.04035783403639312,
          0.0619408264237322,
          0.04461759327542696,
          0.03566719576224502,
          0.03090374053458798,
          0.05960601165894716,
          0.0569873347503373,
          0.7601967839103839,
          0.8188997041074827,
          0.24762178800227125,
          0.24832765097203374,
          0.04000110463492505,
          0.034859867676792944,
          0.030852289419852352,
          0.03432381833559358,
          0.028317938926595544,
          0.03129470276650477,
          0.06553907402837239,
          0.03155693796480865,
          1.0763454230464895,
          0.05131919642198546,
          0.027006128378925427,
          0.02560527254353355,
          0.02642845554560759,
          0.04818547952479941,
          0.04980806739233505,
          0.039395305020276286,
          0.04545972808335883,
          0.034530103119157274,
          0.031257110157220123,
          0.03486082923489602,
          0.04104003459287939,
          0.030871154466067904,
          0.03578555393408676,
          0.03148079956635566,
          0.03835485310688959,
          0.033091501569559575,
          0.05824965676145276,
          0.05789963216905877,
          0.0574012974961058,
          0.05503156092490033,
          0.027198997641475497,
          1.006016050446949,
          0.030659672161016577,
          0.02392385581102735,
          0.03545650588099163,
          0.03358950453897121,
          0.026309940821969056,
          0.03423238230678227,
          0.03694067641213638,
          0.4205274777023239,
          0.024263018723792835,
          0.02550067591692978,
          0.027630552419125893,
          0.035925455052443794,
          0.029815046522371474,
          0.034974044839867054,
          0.02627218738323703,
          0.028555790244459166,
          0.031207834188104137,
          0.02470618131956277,
          0.021800073234630145,
          0.041120047832096766,
          0.033136096856835454,
          0.035025369581908584,
          0.018808943535112324,
          0.03872713234719291,
          0.04316915836119431,
          0.04297002293183785,
          0.03480128649757554,
          0.01929563199373263,
          0.04515351223145501,
          0.027658877946438783,
          0.030861154893854017,
          0.03231408900321752,
          0.028048926797438985,
          0.029149169618679714,
          0.04075932246801216,
          0.02820841682758282,
          0.03078670511926283,
          0.027576393025806594,
          0.029091034381613375,
          0.03239756416194484,
          0.023788860234564158,
          0.026122850194785753,
          0.030170629627276516,
          0.030685205287297002,
          0.040653599259341276,
          0.033226160929939685,
          0.03604162722102101,
          0.046276966638777936,
          0.03605763952433016,
          0.03721048315385502,
          0.02887176109897707,
          0.03150952011710907,
          0.0330443399060709,
          0.030688069323113593,
          0.03952368226958277,
          0.25720276543816484,
          0.2617877357421936,
          0.027418966657548165,
          0.034460400706976056,
          0.031303610032388504,
          0.029531234738439296,
          0.02686029553004703,
          0.03380463533842431,
          0.04176752664083584,
          0.03836438743157163,
          0.586444223729343,
          0.6335375315322491,
          0.024061762903650905,
          0.04309379400557234,
          0.03664122485225561,
          0.024241124855898626,
          0.03663585448098139,
          0.03437408812008611,
          0.8899757381443438,
          0.03928108504767917,
          0.9087002443666493,
          0.02833853577011647,
          0.028503491778100378,
          0.02637216337369291,
          0.026741132905076792,
          0.03564095382021923,
          0.037677351626292925,
          0.03946794394356853,
          0.03405683273397979,
          0.029471992440440044,
          0.01880866644078725,
          0.0346657836760954,
          0.03536156864919959,
          0.03652638493588218
         ]
        },
        {
         "name": "Best Value",
         "type": "scatter",
         "x": [
          1,
          3,
          4,
          6,
          132,
          153,
          166,
          178,
          179,
          191,
          203,
          227,
          238,
          239,
          252,
          292,
          293,
          295,
          308,
          372,
          373,
          374,
          382,
          432,
          434,
          436,
          437,
          510,
          512,
          513,
          514,
          578,
          580,
          581,
          582,
          633,
          638,
          640,
          641,
          675,
          679,
          685,
          686,
          713,
          720,
          723,
          727,
          757,
          759,
          765,
          771,
          798,
          804,
          807,
          810,
          825,
          836,
          842,
          844,
          855,
          868,
          870,
          881,
          884,
          892,
          896,
          910,
          911,
          921,
          929,
          945,
          948,
          950,
          953,
          985,
          987,
          989,
          992,
          1027,
          1032,
          1034,
          1036,
          1068,
          1071,
          1072,
          1075,
          1108,
          1109,
          1112,
          1114,
          1143,
          1151,
          1153,
          1156,
          1166,
          1187,
          1189,
          1193,
          1199,
          1220,
          1224,
          1227,
          1237,
          1253,
          1258,
          1262,
          1270,
          1288,
          1293,
          1297,
          1303,
          1317,
          1325,
          1331,
          1338,
          1348,
          1356,
          1363,
          1367,
          1381,
          1391,
          1395,
          1399,
          1410,
          1420,
          1425,
          1429,
          1438,
          1452,
          1458,
          1461,
          1466,
          1481,
          1486,
          1493,
          1499,
          1508,
          1522,
          1527,
          1533,
          1537,
          1547,
          1555,
          1563,
          1565,
          1579,
          1585,
          1592,
          1593,
          1617,
          1618,
          1625,
          1626,
          1647,
          1649,
          1657,
          1658,
          1679,
          1680,
          1690,
          1691,
          1705,
          1710,
          1721,
          1726,
          1732,
          1741,
          1748,
          1755,
          1767,
          1770,
          1777,
          1783,
          1798,
          1801,
          1804,
          1810,
          1823,
          1828,
          1833,
          1840,
          1851,
          1864,
          1868,
          1870,
          1879,
          1892,
          1896,
          1897,
          1909,
          1920,
          1925,
          1927,
          1933,
          1943,
          1954,
          1956,
          1959,
          1966,
          1979,
          1982,
          1988,
          1989
         ],
         "y": [
          0.9920566914598196,
          0.6446180949375385,
          0.5891923103276839,
          0.5891923103276839,
          0.37075406956614493,
          0.37075406956614493,
          0.37075406956614493,
          0.37075406956614493,
          0.2755338518592219,
          0.2755338518592219,
          0.2755338518592219,
          0.0725957417543068,
          0.06557538538874312,
          0.06557538538874312,
          0.06557538538874312,
          0.06557538538874312,
          0.06557538538874312,
          0.06557538538874312,
          0.06557538538874312,
          0.06557538538874312,
          0.06557538538874312,
          0.06557538538874312,
          0.06557538538874312,
          0.06557538538874312,
          0.06557538538874312,
          0.06557538538874312,
          0.06557538538874312,
          0.06557538538874312,
          0.06557538538874312,
          0.06557538538874312,
          0.06557538538874312,
          0.06496127367975243,
          0.06115030843509244,
          0.06115030843509244,
          0.06115030843509244,
          0.06115030843509244,
          0.06115030843509244,
          0.06115030843509244,
          0.06115030843509244,
          0.06115030843509244,
          0.06115030843509244,
          0.054877322841793155,
          0.054877322841793155,
          0.054877322841793155,
          0.054877322841793155,
          0.054877322841793155,
          0.054877322841793155,
          0.054877322841793155,
          0.054877322841793155,
          0.054877322841793155,
          0.054877322841793155,
          0.054877322841793155,
          0.054877322841793155,
          0.054877322841793155,
          0.054877322841793155,
          0.054877322841793155,
          0.054877322841793155,
          0.054877322841793155,
          0.051072768071140424,
          0.051072768071140424,
          0.051072768071140424,
          0.051072768071140424,
          0.03463763241117728,
          0.03463763241117728,
          0.03463763241117728,
          0.03463763241117728,
          0.03463763241117728,
          0.03463763241117728,
          0.03463763241117728,
          0.03463763241117728,
          0.03265878639928048,
          0.03265878639928048,
          0.03265878639928048,
          0.03265878639928048,
          0.03265878639928048,
          0.03090374053458798,
          0.03090374053458798,
          0.03090374053458798,
          0.03090374053458798,
          0.03090374053458798,
          0.03090374053458798,
          0.03090374053458798,
          0.03090374053458798,
          0.03090374053458798,
          0.030852289419852352,
          0.030852289419852352,
          0.028317938926595544,
          0.028317938926595544,
          0.028317938926595544,
          0.028317938926595544,
          0.028317938926595544,
          0.028317938926595544,
          0.027006128378925427,
          0.02560527254353355,
          0.02560527254353355,
          0.02560527254353355,
          0.02560527254353355,
          0.02560527254353355,
          0.02560527254353355,
          0.02560527254353355,
          0.02560527254353355,
          0.02560527254353355,
          0.02560527254353355,
          0.02560527254353355,
          0.02560527254353355,
          0.02560527254353355,
          0.02560527254353355,
          0.02560527254353355,
          0.02560527254353355,
          0.02560527254353355,
          0.02560527254353355,
          0.02560527254353355,
          0.02560527254353355,
          0.02560527254353355,
          0.02560527254353355,
          0.02392385581102735,
          0.02392385581102735,
          0.02392385581102735,
          0.02392385581102735,
          0.02392385581102735,
          0.02392385581102735,
          0.02392385581102735,
          0.02392385581102735,
          0.02392385581102735,
          0.02392385581102735,
          0.02392385581102735,
          0.02392385581102735,
          0.02392385581102735,
          0.02392385581102735,
          0.02392385581102735,
          0.02392385581102735,
          0.02392385581102735,
          0.021800073234630145,
          0.021800073234630145,
          0.021800073234630145,
          0.021800073234630145,
          0.018808943535112324,
          0.018808943535112324,
          0.018808943535112324,
          0.018808943535112324,
          0.018808943535112324,
          0.018808943535112324,
          0.018808943535112324,
          0.018808943535112324,
          0.018808943535112324,
          0.018808943535112324,
          0.018808943535112324,
          0.018808943535112324,
          0.018808943535112324,
          0.018808943535112324,
          0.018808943535112324,
          0.018808943535112324,
          0.018808943535112324,
          0.018808943535112324,
          0.018808943535112324,
          0.018808943535112324,
          0.018808943535112324,
          0.018808943535112324,
          0.018808943535112324,
          0.018808943535112324,
          0.018808943535112324,
          0.018808943535112324,
          0.018808943535112324,
          0.018808943535112324,
          0.018808943535112324,
          0.018808943535112324,
          0.018808943535112324,
          0.018808943535112324,
          0.018808943535112324,
          0.018808943535112324,
          0.018808943535112324,
          0.018808943535112324,
          0.018808943535112324,
          0.018808943535112324,
          0.018808943535112324,
          0.018808943535112324,
          0.018808943535112324,
          0.018808943535112324,
          0.018808943535112324,
          0.018808943535112324,
          0.018808943535112324,
          0.018808943535112324,
          0.018808943535112324,
          0.018808943535112324,
          0.018808943535112324,
          0.018808943535112324,
          0.018808943535112324,
          0.018808943535112324,
          0.018808943535112324,
          0.018808943535112324,
          0.018808943535112324,
          0.018808943535112324,
          0.018808943535112324,
          0.018808943535112324,
          0.018808943535112324,
          0.018808943535112324,
          0.018808943535112324,
          0.018808943535112324,
          0.018808943535112324,
          0.01880866644078725,
          0.01880866644078725,
          0.01880866644078725,
          0.01880866644078725
         ]
        }
       ],
       "layout": {
        "template": {
         "data": {
          "bar": [
           {
            "error_x": {
             "color": "#2a3f5f"
            },
            "error_y": {
             "color": "#2a3f5f"
            },
            "marker": {
             "line": {
              "color": "#E5ECF6",
              "width": 0.5
             }
            },
            "type": "bar"
           }
          ],
          "barpolar": [
           {
            "marker": {
             "line": {
              "color": "#E5ECF6",
              "width": 0.5
             }
            },
            "type": "barpolar"
           }
          ],
          "carpet": [
           {
            "aaxis": {
             "endlinecolor": "#2a3f5f",
             "gridcolor": "white",
             "linecolor": "white",
             "minorgridcolor": "white",
             "startlinecolor": "#2a3f5f"
            },
            "baxis": {
             "endlinecolor": "#2a3f5f",
             "gridcolor": "white",
             "linecolor": "white",
             "minorgridcolor": "white",
             "startlinecolor": "#2a3f5f"
            },
            "type": "carpet"
           }
          ],
          "choropleth": [
           {
            "colorbar": {
             "outlinewidth": 0,
             "ticks": ""
            },
            "type": "choropleth"
           }
          ],
          "contour": [
           {
            "colorbar": {
             "outlinewidth": 0,
             "ticks": ""
            },
            "colorscale": [
             [
              0,
              "#0d0887"
             ],
             [
              0.1111111111111111,
              "#46039f"
             ],
             [
              0.2222222222222222,
              "#7201a8"
             ],
             [
              0.3333333333333333,
              "#9c179e"
             ],
             [
              0.4444444444444444,
              "#bd3786"
             ],
             [
              0.5555555555555556,
              "#d8576b"
             ],
             [
              0.6666666666666666,
              "#ed7953"
             ],
             [
              0.7777777777777778,
              "#fb9f3a"
             ],
             [
              0.8888888888888888,
              "#fdca26"
             ],
             [
              1,
              "#f0f921"
             ]
            ],
            "type": "contour"
           }
          ],
          "contourcarpet": [
           {
            "colorbar": {
             "outlinewidth": 0,
             "ticks": ""
            },
            "type": "contourcarpet"
           }
          ],
          "heatmap": [
           {
            "colorbar": {
             "outlinewidth": 0,
             "ticks": ""
            },
            "colorscale": [
             [
              0,
              "#0d0887"
             ],
             [
              0.1111111111111111,
              "#46039f"
             ],
             [
              0.2222222222222222,
              "#7201a8"
             ],
             [
              0.3333333333333333,
              "#9c179e"
             ],
             [
              0.4444444444444444,
              "#bd3786"
             ],
             [
              0.5555555555555556,
              "#d8576b"
             ],
             [
              0.6666666666666666,
              "#ed7953"
             ],
             [
              0.7777777777777778,
              "#fb9f3a"
             ],
             [
              0.8888888888888888,
              "#fdca26"
             ],
             [
              1,
              "#f0f921"
             ]
            ],
            "type": "heatmap"
           }
          ],
          "heatmapgl": [
           {
            "colorbar": {
             "outlinewidth": 0,
             "ticks": ""
            },
            "colorscale": [
             [
              0,
              "#0d0887"
             ],
             [
              0.1111111111111111,
              "#46039f"
             ],
             [
              0.2222222222222222,
              "#7201a8"
             ],
             [
              0.3333333333333333,
              "#9c179e"
             ],
             [
              0.4444444444444444,
              "#bd3786"
             ],
             [
              0.5555555555555556,
              "#d8576b"
             ],
             [
              0.6666666666666666,
              "#ed7953"
             ],
             [
              0.7777777777777778,
              "#fb9f3a"
             ],
             [
              0.8888888888888888,
              "#fdca26"
             ],
             [
              1,
              "#f0f921"
             ]
            ],
            "type": "heatmapgl"
           }
          ],
          "histogram": [
           {
            "marker": {
             "colorbar": {
              "outlinewidth": 0,
              "ticks": ""
             }
            },
            "type": "histogram"
           }
          ],
          "histogram2d": [
           {
            "colorbar": {
             "outlinewidth": 0,
             "ticks": ""
            },
            "colorscale": [
             [
              0,
              "#0d0887"
             ],
             [
              0.1111111111111111,
              "#46039f"
             ],
             [
              0.2222222222222222,
              "#7201a8"
             ],
             [
              0.3333333333333333,
              "#9c179e"
             ],
             [
              0.4444444444444444,
              "#bd3786"
             ],
             [
              0.5555555555555556,
              "#d8576b"
             ],
             [
              0.6666666666666666,
              "#ed7953"
             ],
             [
              0.7777777777777778,
              "#fb9f3a"
             ],
             [
              0.8888888888888888,
              "#fdca26"
             ],
             [
              1,
              "#f0f921"
             ]
            ],
            "type": "histogram2d"
           }
          ],
          "histogram2dcontour": [
           {
            "colorbar": {
             "outlinewidth": 0,
             "ticks": ""
            },
            "colorscale": [
             [
              0,
              "#0d0887"
             ],
             [
              0.1111111111111111,
              "#46039f"
             ],
             [
              0.2222222222222222,
              "#7201a8"
             ],
             [
              0.3333333333333333,
              "#9c179e"
             ],
             [
              0.4444444444444444,
              "#bd3786"
             ],
             [
              0.5555555555555556,
              "#d8576b"
             ],
             [
              0.6666666666666666,
              "#ed7953"
             ],
             [
              0.7777777777777778,
              "#fb9f3a"
             ],
             [
              0.8888888888888888,
              "#fdca26"
             ],
             [
              1,
              "#f0f921"
             ]
            ],
            "type": "histogram2dcontour"
           }
          ],
          "mesh3d": [
           {
            "colorbar": {
             "outlinewidth": 0,
             "ticks": ""
            },
            "type": "mesh3d"
           }
          ],
          "parcoords": [
           {
            "line": {
             "colorbar": {
              "outlinewidth": 0,
              "ticks": ""
             }
            },
            "type": "parcoords"
           }
          ],
          "pie": [
           {
            "automargin": true,
            "type": "pie"
           }
          ],
          "scatter": [
           {
            "marker": {
             "colorbar": {
              "outlinewidth": 0,
              "ticks": ""
             }
            },
            "type": "scatter"
           }
          ],
          "scatter3d": [
           {
            "line": {
             "colorbar": {
              "outlinewidth": 0,
              "ticks": ""
             }
            },
            "marker": {
             "colorbar": {
              "outlinewidth": 0,
              "ticks": ""
             }
            },
            "type": "scatter3d"
           }
          ],
          "scattercarpet": [
           {
            "marker": {
             "colorbar": {
              "outlinewidth": 0,
              "ticks": ""
             }
            },
            "type": "scattercarpet"
           }
          ],
          "scattergeo": [
           {
            "marker": {
             "colorbar": {
              "outlinewidth": 0,
              "ticks": ""
             }
            },
            "type": "scattergeo"
           }
          ],
          "scattergl": [
           {
            "marker": {
             "colorbar": {
              "outlinewidth": 0,
              "ticks": ""
             }
            },
            "type": "scattergl"
           }
          ],
          "scattermapbox": [
           {
            "marker": {
             "colorbar": {
              "outlinewidth": 0,
              "ticks": ""
             }
            },
            "type": "scattermapbox"
           }
          ],
          "scatterpolar": [
           {
            "marker": {
             "colorbar": {
              "outlinewidth": 0,
              "ticks": ""
             }
            },
            "type": "scatterpolar"
           }
          ],
          "scatterpolargl": [
           {
            "marker": {
             "colorbar": {
              "outlinewidth": 0,
              "ticks": ""
             }
            },
            "type": "scatterpolargl"
           }
          ],
          "scatterternary": [
           {
            "marker": {
             "colorbar": {
              "outlinewidth": 0,
              "ticks": ""
             }
            },
            "type": "scatterternary"
           }
          ],
          "surface": [
           {
            "colorbar": {
             "outlinewidth": 0,
             "ticks": ""
            },
            "colorscale": [
             [
              0,
              "#0d0887"
             ],
             [
              0.1111111111111111,
              "#46039f"
             ],
             [
              0.2222222222222222,
              "#7201a8"
             ],
             [
              0.3333333333333333,
              "#9c179e"
             ],
             [
              0.4444444444444444,
              "#bd3786"
             ],
             [
              0.5555555555555556,
              "#d8576b"
             ],
             [
              0.6666666666666666,
              "#ed7953"
             ],
             [
              0.7777777777777778,
              "#fb9f3a"
             ],
             [
              0.8888888888888888,
              "#fdca26"
             ],
             [
              1,
              "#f0f921"
             ]
            ],
            "type": "surface"
           }
          ],
          "table": [
           {
            "cells": {
             "fill": {
              "color": "#EBF0F8"
             },
             "line": {
              "color": "white"
             }
            },
            "header": {
             "fill": {
              "color": "#C8D4E3"
             },
             "line": {
              "color": "white"
             }
            },
            "type": "table"
           }
          ]
         },
         "layout": {
          "annotationdefaults": {
           "arrowcolor": "#2a3f5f",
           "arrowhead": 0,
           "arrowwidth": 1
          },
          "coloraxis": {
           "colorbar": {
            "outlinewidth": 0,
            "ticks": ""
           }
          },
          "colorscale": {
           "diverging": [
            [
             0,
             "#8e0152"
            ],
            [
             0.1,
             "#c51b7d"
            ],
            [
             0.2,
             "#de77ae"
            ],
            [
             0.3,
             "#f1b6da"
            ],
            [
             0.4,
             "#fde0ef"
            ],
            [
             0.5,
             "#f7f7f7"
            ],
            [
             0.6,
             "#e6f5d0"
            ],
            [
             0.7,
             "#b8e186"
            ],
            [
             0.8,
             "#7fbc41"
            ],
            [
             0.9,
             "#4d9221"
            ],
            [
             1,
             "#276419"
            ]
           ],
           "sequential": [
            [
             0,
             "#0d0887"
            ],
            [
             0.1111111111111111,
             "#46039f"
            ],
            [
             0.2222222222222222,
             "#7201a8"
            ],
            [
             0.3333333333333333,
             "#9c179e"
            ],
            [
             0.4444444444444444,
             "#bd3786"
            ],
            [
             0.5555555555555556,
             "#d8576b"
            ],
            [
             0.6666666666666666,
             "#ed7953"
            ],
            [
             0.7777777777777778,
             "#fb9f3a"
            ],
            [
             0.8888888888888888,
             "#fdca26"
            ],
            [
             1,
             "#f0f921"
            ]
           ],
           "sequentialminus": [
            [
             0,
             "#0d0887"
            ],
            [
             0.1111111111111111,
             "#46039f"
            ],
            [
             0.2222222222222222,
             "#7201a8"
            ],
            [
             0.3333333333333333,
             "#9c179e"
            ],
            [
             0.4444444444444444,
             "#bd3786"
            ],
            [
             0.5555555555555556,
             "#d8576b"
            ],
            [
             0.6666666666666666,
             "#ed7953"
            ],
            [
             0.7777777777777778,
             "#fb9f3a"
            ],
            [
             0.8888888888888888,
             "#fdca26"
            ],
            [
             1,
             "#f0f921"
            ]
           ]
          },
          "colorway": [
           "#636efa",
           "#EF553B",
           "#00cc96",
           "#ab63fa",
           "#FFA15A",
           "#19d3f3",
           "#FF6692",
           "#B6E880",
           "#FF97FF",
           "#FECB52"
          ],
          "font": {
           "color": "#2a3f5f"
          },
          "geo": {
           "bgcolor": "white",
           "lakecolor": "white",
           "landcolor": "#E5ECF6",
           "showlakes": true,
           "showland": true,
           "subunitcolor": "white"
          },
          "hoverlabel": {
           "align": "left"
          },
          "hovermode": "closest",
          "mapbox": {
           "style": "light"
          },
          "paper_bgcolor": "white",
          "plot_bgcolor": "#E5ECF6",
          "polar": {
           "angularaxis": {
            "gridcolor": "white",
            "linecolor": "white",
            "ticks": ""
           },
           "bgcolor": "#E5ECF6",
           "radialaxis": {
            "gridcolor": "white",
            "linecolor": "white",
            "ticks": ""
           }
          },
          "scene": {
           "xaxis": {
            "backgroundcolor": "#E5ECF6",
            "gridcolor": "white",
            "gridwidth": 2,
            "linecolor": "white",
            "showbackground": true,
            "ticks": "",
            "zerolinecolor": "white"
           },
           "yaxis": {
            "backgroundcolor": "#E5ECF6",
            "gridcolor": "white",
            "gridwidth": 2,
            "linecolor": "white",
            "showbackground": true,
            "ticks": "",
            "zerolinecolor": "white"
           },
           "zaxis": {
            "backgroundcolor": "#E5ECF6",
            "gridcolor": "white",
            "gridwidth": 2,
            "linecolor": "white",
            "showbackground": true,
            "ticks": "",
            "zerolinecolor": "white"
           }
          },
          "shapedefaults": {
           "line": {
            "color": "#2a3f5f"
           }
          },
          "ternary": {
           "aaxis": {
            "gridcolor": "white",
            "linecolor": "white",
            "ticks": ""
           },
           "baxis": {
            "gridcolor": "white",
            "linecolor": "white",
            "ticks": ""
           },
           "bgcolor": "#E5ECF6",
           "caxis": {
            "gridcolor": "white",
            "linecolor": "white",
            "ticks": ""
           }
          },
          "title": {
           "x": 0.05
          },
          "xaxis": {
           "automargin": true,
           "gridcolor": "white",
           "linecolor": "white",
           "ticks": "",
           "title": {
            "standoff": 15
           },
           "zerolinecolor": "white",
           "zerolinewidth": 2
          },
          "yaxis": {
           "automargin": true,
           "gridcolor": "white",
           "linecolor": "white",
           "ticks": "",
           "title": {
            "standoff": 15
           },
           "zerolinecolor": "white",
           "zerolinewidth": 2
          }
         }
        },
        "title": {
         "text": "Optimization History Plot"
        },
        "xaxis": {
         "title": {
          "text": "#Trials"
         }
        },
        "yaxis": {
         "title": {
          "text": "Objective Value"
         }
        }
       }
      }
     },
     "metadata": {}
    }
   ],
   "source": [
    "optuna.visualization.plot_optimization_history(study)"
   ]
  },
  {
   "cell_type": "code",
   "execution_count": 11,
   "metadata": {
    "tags": []
   },
   "outputs": [
    {
     "output_type": "stream",
     "name": "stderr",
     "text": "/Users/cody/miniconda3/envs/temp/lib/python3.7/site-packages/ipykernel/ipkernel.py:287: DeprecationWarning:\n\n`should_run_async` will not call `transform_cell` automatically in the future. Please pass the result to `transformed_cell` argument and any exception that happen during thetransform in `preprocessing_exc_tuple` in IPython 7.17 and above.\n\n"
    },
    {
     "output_type": "display_data",
     "data": {
      "application/vnd.plotly.v1+json": {
       "config": {
        "plotlyServerURL": "https://plot.ly"
       },
       "data": [
        {
         "cliponaxis": false,
         "hovertemplate": [
          "num_leaves (IntUniformDistribution): 0.004996764275489184<extra></extra>",
          "num_boost_round (IntUniformDistribution): 0.006014490103597847<extra></extra>",
          "num_iterations (IntUniformDistribution): 0.01971956693144446<extra></extra>",
          "boosting (CategoricalDistribution): 0.10368809001642218<extra></extra>",
          "learning_rate (LogUniformDistribution): 0.8655810886730461<extra></extra>"
         ],
         "marker": {
          "color": [
           "rgb(8,81,156)",
           "rgb(8,81,156)",
           "rgb(8,81,156)",
           "rgb(66,146,198)",
           "rgb(8,48,107)"
          ]
         },
         "orientation": "h",
         "text": [
          "0.004996764275489184",
          "0.006014490103597847",
          "0.01971956693144446",
          "0.10368809001642218",
          "0.8655810886730461"
         ],
         "textposition": "outside",
         "texttemplate": "%{text:.2f}",
         "type": "bar",
         "x": [
          0.004996764275489184,
          0.006014490103597847,
          0.01971956693144446,
          0.10368809001642218,
          0.8655810886730461
         ],
         "y": [
          "num_leaves",
          "num_boost_round",
          "num_iterations",
          "boosting",
          "learning_rate"
         ]
        }
       ],
       "layout": {
        "showlegend": false,
        "template": {
         "data": {
          "bar": [
           {
            "error_x": {
             "color": "#2a3f5f"
            },
            "error_y": {
             "color": "#2a3f5f"
            },
            "marker": {
             "line": {
              "color": "#E5ECF6",
              "width": 0.5
             }
            },
            "type": "bar"
           }
          ],
          "barpolar": [
           {
            "marker": {
             "line": {
              "color": "#E5ECF6",
              "width": 0.5
             }
            },
            "type": "barpolar"
           }
          ],
          "carpet": [
           {
            "aaxis": {
             "endlinecolor": "#2a3f5f",
             "gridcolor": "white",
             "linecolor": "white",
             "minorgridcolor": "white",
             "startlinecolor": "#2a3f5f"
            },
            "baxis": {
             "endlinecolor": "#2a3f5f",
             "gridcolor": "white",
             "linecolor": "white",
             "minorgridcolor": "white",
             "startlinecolor": "#2a3f5f"
            },
            "type": "carpet"
           }
          ],
          "choropleth": [
           {
            "colorbar": {
             "outlinewidth": 0,
             "ticks": ""
            },
            "type": "choropleth"
           }
          ],
          "contour": [
           {
            "colorbar": {
             "outlinewidth": 0,
             "ticks": ""
            },
            "colorscale": [
             [
              0,
              "#0d0887"
             ],
             [
              0.1111111111111111,
              "#46039f"
             ],
             [
              0.2222222222222222,
              "#7201a8"
             ],
             [
              0.3333333333333333,
              "#9c179e"
             ],
             [
              0.4444444444444444,
              "#bd3786"
             ],
             [
              0.5555555555555556,
              "#d8576b"
             ],
             [
              0.6666666666666666,
              "#ed7953"
             ],
             [
              0.7777777777777778,
              "#fb9f3a"
             ],
             [
              0.8888888888888888,
              "#fdca26"
             ],
             [
              1,
              "#f0f921"
             ]
            ],
            "type": "contour"
           }
          ],
          "contourcarpet": [
           {
            "colorbar": {
             "outlinewidth": 0,
             "ticks": ""
            },
            "type": "contourcarpet"
           }
          ],
          "heatmap": [
           {
            "colorbar": {
             "outlinewidth": 0,
             "ticks": ""
            },
            "colorscale": [
             [
              0,
              "#0d0887"
             ],
             [
              0.1111111111111111,
              "#46039f"
             ],
             [
              0.2222222222222222,
              "#7201a8"
             ],
             [
              0.3333333333333333,
              "#9c179e"
             ],
             [
              0.4444444444444444,
              "#bd3786"
             ],
             [
              0.5555555555555556,
              "#d8576b"
             ],
             [
              0.6666666666666666,
              "#ed7953"
             ],
             [
              0.7777777777777778,
              "#fb9f3a"
             ],
             [
              0.8888888888888888,
              "#fdca26"
             ],
             [
              1,
              "#f0f921"
             ]
            ],
            "type": "heatmap"
           }
          ],
          "heatmapgl": [
           {
            "colorbar": {
             "outlinewidth": 0,
             "ticks": ""
            },
            "colorscale": [
             [
              0,
              "#0d0887"
             ],
             [
              0.1111111111111111,
              "#46039f"
             ],
             [
              0.2222222222222222,
              "#7201a8"
             ],
             [
              0.3333333333333333,
              "#9c179e"
             ],
             [
              0.4444444444444444,
              "#bd3786"
             ],
             [
              0.5555555555555556,
              "#d8576b"
             ],
             [
              0.6666666666666666,
              "#ed7953"
             ],
             [
              0.7777777777777778,
              "#fb9f3a"
             ],
             [
              0.8888888888888888,
              "#fdca26"
             ],
             [
              1,
              "#f0f921"
             ]
            ],
            "type": "heatmapgl"
           }
          ],
          "histogram": [
           {
            "marker": {
             "colorbar": {
              "outlinewidth": 0,
              "ticks": ""
             }
            },
            "type": "histogram"
           }
          ],
          "histogram2d": [
           {
            "colorbar": {
             "outlinewidth": 0,
             "ticks": ""
            },
            "colorscale": [
             [
              0,
              "#0d0887"
             ],
             [
              0.1111111111111111,
              "#46039f"
             ],
             [
              0.2222222222222222,
              "#7201a8"
             ],
             [
              0.3333333333333333,
              "#9c179e"
             ],
             [
              0.4444444444444444,
              "#bd3786"
             ],
             [
              0.5555555555555556,
              "#d8576b"
             ],
             [
              0.6666666666666666,
              "#ed7953"
             ],
             [
              0.7777777777777778,
              "#fb9f3a"
             ],
             [
              0.8888888888888888,
              "#fdca26"
             ],
             [
              1,
              "#f0f921"
             ]
            ],
            "type": "histogram2d"
           }
          ],
          "histogram2dcontour": [
           {
            "colorbar": {
             "outlinewidth": 0,
             "ticks": ""
            },
            "colorscale": [
             [
              0,
              "#0d0887"
             ],
             [
              0.1111111111111111,
              "#46039f"
             ],
             [
              0.2222222222222222,
              "#7201a8"
             ],
             [
              0.3333333333333333,
              "#9c179e"
             ],
             [
              0.4444444444444444,
              "#bd3786"
             ],
             [
              0.5555555555555556,
              "#d8576b"
             ],
             [
              0.6666666666666666,
              "#ed7953"
             ],
             [
              0.7777777777777778,
              "#fb9f3a"
             ],
             [
              0.8888888888888888,
              "#fdca26"
             ],
             [
              1,
              "#f0f921"
             ]
            ],
            "type": "histogram2dcontour"
           }
          ],
          "mesh3d": [
           {
            "colorbar": {
             "outlinewidth": 0,
             "ticks": ""
            },
            "type": "mesh3d"
           }
          ],
          "parcoords": [
           {
            "line": {
             "colorbar": {
              "outlinewidth": 0,
              "ticks": ""
             }
            },
            "type": "parcoords"
           }
          ],
          "pie": [
           {
            "automargin": true,
            "type": "pie"
           }
          ],
          "scatter": [
           {
            "marker": {
             "colorbar": {
              "outlinewidth": 0,
              "ticks": ""
             }
            },
            "type": "scatter"
           }
          ],
          "scatter3d": [
           {
            "line": {
             "colorbar": {
              "outlinewidth": 0,
              "ticks": ""
             }
            },
            "marker": {
             "colorbar": {
              "outlinewidth": 0,
              "ticks": ""
             }
            },
            "type": "scatter3d"
           }
          ],
          "scattercarpet": [
           {
            "marker": {
             "colorbar": {
              "outlinewidth": 0,
              "ticks": ""
             }
            },
            "type": "scattercarpet"
           }
          ],
          "scattergeo": [
           {
            "marker": {
             "colorbar": {
              "outlinewidth": 0,
              "ticks": ""
             }
            },
            "type": "scattergeo"
           }
          ],
          "scattergl": [
           {
            "marker": {
             "colorbar": {
              "outlinewidth": 0,
              "ticks": ""
             }
            },
            "type": "scattergl"
           }
          ],
          "scattermapbox": [
           {
            "marker": {
             "colorbar": {
              "outlinewidth": 0,
              "ticks": ""
             }
            },
            "type": "scattermapbox"
           }
          ],
          "scatterpolar": [
           {
            "marker": {
             "colorbar": {
              "outlinewidth": 0,
              "ticks": ""
             }
            },
            "type": "scatterpolar"
           }
          ],
          "scatterpolargl": [
           {
            "marker": {
             "colorbar": {
              "outlinewidth": 0,
              "ticks": ""
             }
            },
            "type": "scatterpolargl"
           }
          ],
          "scatterternary": [
           {
            "marker": {
             "colorbar": {
              "outlinewidth": 0,
              "ticks": ""
             }
            },
            "type": "scatterternary"
           }
          ],
          "surface": [
           {
            "colorbar": {
             "outlinewidth": 0,
             "ticks": ""
            },
            "colorscale": [
             [
              0,
              "#0d0887"
             ],
             [
              0.1111111111111111,
              "#46039f"
             ],
             [
              0.2222222222222222,
              "#7201a8"
             ],
             [
              0.3333333333333333,
              "#9c179e"
             ],
             [
              0.4444444444444444,
              "#bd3786"
             ],
             [
              0.5555555555555556,
              "#d8576b"
             ],
             [
              0.6666666666666666,
              "#ed7953"
             ],
             [
              0.7777777777777778,
              "#fb9f3a"
             ],
             [
              0.8888888888888888,
              "#fdca26"
             ],
             [
              1,
              "#f0f921"
             ]
            ],
            "type": "surface"
           }
          ],
          "table": [
           {
            "cells": {
             "fill": {
              "color": "#EBF0F8"
             },
             "line": {
              "color": "white"
             }
            },
            "header": {
             "fill": {
              "color": "#C8D4E3"
             },
             "line": {
              "color": "white"
             }
            },
            "type": "table"
           }
          ]
         },
         "layout": {
          "annotationdefaults": {
           "arrowcolor": "#2a3f5f",
           "arrowhead": 0,
           "arrowwidth": 1
          },
          "coloraxis": {
           "colorbar": {
            "outlinewidth": 0,
            "ticks": ""
           }
          },
          "colorscale": {
           "diverging": [
            [
             0,
             "#8e0152"
            ],
            [
             0.1,
             "#c51b7d"
            ],
            [
             0.2,
             "#de77ae"
            ],
            [
             0.3,
             "#f1b6da"
            ],
            [
             0.4,
             "#fde0ef"
            ],
            [
             0.5,
             "#f7f7f7"
            ],
            [
             0.6,
             "#e6f5d0"
            ],
            [
             0.7,
             "#b8e186"
            ],
            [
             0.8,
             "#7fbc41"
            ],
            [
             0.9,
             "#4d9221"
            ],
            [
             1,
             "#276419"
            ]
           ],
           "sequential": [
            [
             0,
             "#0d0887"
            ],
            [
             0.1111111111111111,
             "#46039f"
            ],
            [
             0.2222222222222222,
             "#7201a8"
            ],
            [
             0.3333333333333333,
             "#9c179e"
            ],
            [
             0.4444444444444444,
             "#bd3786"
            ],
            [
             0.5555555555555556,
             "#d8576b"
            ],
            [
             0.6666666666666666,
             "#ed7953"
            ],
            [
             0.7777777777777778,
             "#fb9f3a"
            ],
            [
             0.8888888888888888,
             "#fdca26"
            ],
            [
             1,
             "#f0f921"
            ]
           ],
           "sequentialminus": [
            [
             0,
             "#0d0887"
            ],
            [
             0.1111111111111111,
             "#46039f"
            ],
            [
             0.2222222222222222,
             "#7201a8"
            ],
            [
             0.3333333333333333,
             "#9c179e"
            ],
            [
             0.4444444444444444,
             "#bd3786"
            ],
            [
             0.5555555555555556,
             "#d8576b"
            ],
            [
             0.6666666666666666,
             "#ed7953"
            ],
            [
             0.7777777777777778,
             "#fb9f3a"
            ],
            [
             0.8888888888888888,
             "#fdca26"
            ],
            [
             1,
             "#f0f921"
            ]
           ]
          },
          "colorway": [
           "#636efa",
           "#EF553B",
           "#00cc96",
           "#ab63fa",
           "#FFA15A",
           "#19d3f3",
           "#FF6692",
           "#B6E880",
           "#FF97FF",
           "#FECB52"
          ],
          "font": {
           "color": "#2a3f5f"
          },
          "geo": {
           "bgcolor": "white",
           "lakecolor": "white",
           "landcolor": "#E5ECF6",
           "showlakes": true,
           "showland": true,
           "subunitcolor": "white"
          },
          "hoverlabel": {
           "align": "left"
          },
          "hovermode": "closest",
          "mapbox": {
           "style": "light"
          },
          "paper_bgcolor": "white",
          "plot_bgcolor": "#E5ECF6",
          "polar": {
           "angularaxis": {
            "gridcolor": "white",
            "linecolor": "white",
            "ticks": ""
           },
           "bgcolor": "#E5ECF6",
           "radialaxis": {
            "gridcolor": "white",
            "linecolor": "white",
            "ticks": ""
           }
          },
          "scene": {
           "xaxis": {
            "backgroundcolor": "#E5ECF6",
            "gridcolor": "white",
            "gridwidth": 2,
            "linecolor": "white",
            "showbackground": true,
            "ticks": "",
            "zerolinecolor": "white"
           },
           "yaxis": {
            "backgroundcolor": "#E5ECF6",
            "gridcolor": "white",
            "gridwidth": 2,
            "linecolor": "white",
            "showbackground": true,
            "ticks": "",
            "zerolinecolor": "white"
           },
           "zaxis": {
            "backgroundcolor": "#E5ECF6",
            "gridcolor": "white",
            "gridwidth": 2,
            "linecolor": "white",
            "showbackground": true,
            "ticks": "",
            "zerolinecolor": "white"
           }
          },
          "shapedefaults": {
           "line": {
            "color": "#2a3f5f"
           }
          },
          "ternary": {
           "aaxis": {
            "gridcolor": "white",
            "linecolor": "white",
            "ticks": ""
           },
           "baxis": {
            "gridcolor": "white",
            "linecolor": "white",
            "ticks": ""
           },
           "bgcolor": "#E5ECF6",
           "caxis": {
            "gridcolor": "white",
            "linecolor": "white",
            "ticks": ""
           }
          },
          "title": {
           "x": 0.05
          },
          "xaxis": {
           "automargin": true,
           "gridcolor": "white",
           "linecolor": "white",
           "ticks": "",
           "title": {
            "standoff": 15
           },
           "zerolinecolor": "white",
           "zerolinewidth": 2
          },
          "yaxis": {
           "automargin": true,
           "gridcolor": "white",
           "linecolor": "white",
           "ticks": "",
           "title": {
            "standoff": 15
           },
           "zerolinecolor": "white",
           "zerolinewidth": 2
          }
         }
        },
        "title": {
         "text": "Hyperparameter Importances"
        },
        "xaxis": {
         "title": {
          "text": "Importance"
         }
        },
        "yaxis": {
         "title": {
          "text": "Hyperparameter"
         }
        }
       }
      }
     },
     "metadata": {}
    }
   ],
   "source": [
    "optuna.visualization.plot_param_importances(study)"
   ]
  },
  {
   "cell_type": "code",
   "execution_count": 12,
   "metadata": {
    "tags": []
   },
   "outputs": [
    {
     "output_type": "stream",
     "name": "stderr",
     "text": "/Users/cody/miniconda3/envs/temp/lib/python3.7/site-packages/ipykernel/ipkernel.py:287: DeprecationWarning:\n\n`should_run_async` will not call `transform_cell` automatically in the future. Please pass the result to `transformed_cell` argument and any exception that happen during thetransform in `preprocessing_exc_tuple` in IPython 7.17 and above.\n\n"
    },
    {
     "output_type": "display_data",
     "data": {
      "application/vnd.plotly.v1+json": {
       "config": {
        "plotlyServerURL": "https://plot.ly"
       },
       "data": [
        {
         "dimensions": [
          {
           "label": "Objective Value",
           "range": [
            0.01880866644078725,
            1.0915118642972395
           ],
           "values": [
            0.9920566914598196,
            0.6446180949375385,
            0.5891923103276839,
            1.0915118642972395,
            0.37075406956614493,
            1.0865452389592902,
            0.9041464669573975,
            1.0346828394986791,
            0.2755338518592219,
            0.5942625200079983,
            1.0908571739449466,
            0.0725957417543068,
            0.06557538538874312,
            0.10383748020862954,
            0.31602748254847407,
            0.06597584214368095,
            0.0695895479446675,
            0.06791891445619437,
            0.06942343404834245,
            0.2939785979936444,
            0.2955863314349144,
            0.2914488157486697,
            0.29034773356954513,
            0.10899966556662452,
            0.10737537280550595,
            0.0958784997322429,
            0.11632253126204352,
            0.6180739121559445,
            0.651423843286895,
            0.6051397687808998,
            0.8278980692514966,
            0.06496127367975243,
            0.06115030843509244,
            0.9934589253215835,
            0.0664477695574864,
            0.29833047881998914,
            0.31786302014339574,
            0.2980616012581145,
            0.317642651475001,
            1.0807915643170511,
            1.0443917976520583,
            0.054877322841793155,
            0.061229286375384516,
            0.1175038459483543,
            0.05520388421682513,
            0.061587611667084145,
            0.05488618581323399,
            0.07704487584117528,
            0.06999693826154155,
            0.06286528049364765,
            0.06351485120848437,
            0.07870364365257242,
            0.0640607347473599,
            0.05796204094144714,
            0.05966704239932348,
            0.32748689560704486,
            0.05744940550321209,
            0.3574377876060361,
            0.051072768071140424,
            0.07778119347609147,
            0.05730583779766256,
            0.06367258887589383,
            0.03463763241117728,
            0.06927301763066031,
            0.06727988055279331,
            0.05797374309761976,
            0.058864987126314265,
            0.05839871970113774,
            0.26489598130054903,
            0.6047031539189047,
            0.03265878639928048,
            0.04035783403639312,
            0.0619408264237322,
            0.04461759327542696,
            0.03566719576224502,
            0.03090374053458798,
            0.05960601165894716,
            0.0569873347503373,
            0.7601967839103839,
            0.8188997041074827,
            0.24762178800227125,
            0.24832765097203374,
            0.04000110463492505,
            0.034859867676792944,
            0.030852289419852352,
            0.03432381833559358,
            0.028317938926595544,
            0.03129470276650477,
            0.06553907402837239,
            0.03155693796480865,
            1.0763454230464895,
            0.05131919642198546,
            0.027006128378925427,
            0.02560527254353355,
            0.02642845554560759,
            0.04818547952479941,
            0.04980806739233505,
            0.039395305020276286,
            0.04545972808335883,
            0.034530103119157274,
            0.031257110157220123,
            0.03486082923489602,
            0.04104003459287939,
            0.030871154466067904,
            0.03578555393408676,
            0.03148079956635566,
            0.03835485310688959,
            0.033091501569559575,
            0.05824965676145276,
            0.05789963216905877,
            0.0574012974961058,
            0.05503156092490033,
            0.027198997641475497,
            1.006016050446949,
            0.030659672161016577,
            0.02392385581102735,
            0.03545650588099163,
            0.03358950453897121,
            0.026309940821969056,
            0.03423238230678227,
            0.03694067641213638,
            0.4205274777023239,
            0.024263018723792835,
            0.02550067591692978,
            0.027630552419125893,
            0.035925455052443794,
            0.029815046522371474,
            0.034974044839867054,
            0.02627218738323703,
            0.028555790244459166,
            0.031207834188104137,
            0.02470618131956277,
            0.021800073234630145,
            0.041120047832096766,
            0.033136096856835454,
            0.035025369581908584,
            0.018808943535112324,
            0.03872713234719291,
            0.04316915836119431,
            0.04297002293183785,
            0.03480128649757554,
            0.01929563199373263,
            0.04515351223145501,
            0.027658877946438783,
            0.030861154893854017,
            0.03231408900321752,
            0.028048926797438985,
            0.029149169618679714,
            0.04075932246801216,
            0.02820841682758282,
            0.03078670511926283,
            0.027576393025806594,
            0.029091034381613375,
            0.03239756416194484,
            0.023788860234564158,
            0.026122850194785753,
            0.030170629627276516,
            0.030685205287297002,
            0.040653599259341276,
            0.033226160929939685,
            0.03604162722102101,
            0.046276966638777936,
            0.03605763952433016,
            0.03721048315385502,
            0.02887176109897707,
            0.03150952011710907,
            0.0330443399060709,
            0.030688069323113593,
            0.03952368226958277,
            0.25720276543816484,
            0.2617877357421936,
            0.027418966657548165,
            0.034460400706976056,
            0.031303610032388504,
            0.029531234738439296,
            0.02686029553004703,
            0.03380463533842431,
            0.04176752664083584,
            0.03836438743157163,
            0.586444223729343,
            0.6335375315322491,
            0.024061762903650905,
            0.04309379400557234,
            0.03664122485225561,
            0.024241124855898626,
            0.03663585448098139,
            0.03437408812008611,
            0.8899757381443438,
            0.03928108504767917,
            0.9087002443666493,
            0.02833853577011647,
            0.028503491778100378,
            0.02637216337369291,
            0.026741132905076792,
            0.03564095382021923,
            0.037677351626292925,
            0.03946794394356853,
            0.03405683273397979,
            0.029471992440440044,
            0.01880866644078725,
            0.0346657836760954,
            0.03536156864919959,
            0.03652638493588218
           ]
          },
          {
           "label": "boosting",
           "range": [
            0,
            2
           ],
           "ticktext": [
            [
             "gbdt",
             0
            ],
            [
             "dart",
             1
            ],
            [
             "goss",
             2
            ]
           ],
           "tickvals": [
            0,
            1,
            2
           ],
           "values": [
            0,
            0,
            1,
            1,
            2,
            0,
            0,
            1,
            1,
            0,
            0,
            1,
            1,
            1,
            2,
            1,
            1,
            1,
            1,
            2,
            2,
            2,
            2,
            1,
            1,
            1,
            1,
            1,
            1,
            1,
            1,
            1,
            1,
            1,
            1,
            1,
            1,
            1,
            1,
            1,
            0,
            0,
            0,
            1,
            0,
            0,
            0,
            0,
            0,
            0,
            0,
            0,
            0,
            0,
            0,
            0,
            0,
            0,
            0,
            0,
            0,
            0,
            0,
            0,
            0,
            0,
            0,
            0,
            0,
            0,
            0,
            0,
            0,
            0,
            0,
            0,
            0,
            0,
            2,
            2,
            2,
            2,
            0,
            0,
            0,
            0,
            0,
            0,
            0,
            0,
            0,
            0,
            0,
            0,
            0,
            0,
            0,
            0,
            0,
            0,
            0,
            0,
            0,
            0,
            0,
            0,
            0,
            0,
            0,
            0,
            0,
            0,
            0,
            0,
            0,
            0,
            0,
            0,
            0,
            0,
            0,
            0,
            0,
            0,
            0,
            0,
            0,
            0,
            0,
            0,
            0,
            0,
            0,
            0,
            0,
            0,
            0,
            0,
            0,
            0,
            0,
            0,
            0,
            0,
            0,
            0,
            0,
            0,
            0,
            0,
            0,
            0,
            0,
            0,
            0,
            0,
            0,
            0,
            0,
            0,
            0,
            0,
            0,
            0,
            0,
            0,
            0,
            0,
            0,
            2,
            2,
            0,
            0,
            0,
            0,
            0,
            0,
            0,
            0,
            0,
            0,
            0,
            0,
            0,
            0,
            0,
            0,
            0,
            0,
            0,
            0,
            0,
            0,
            0,
            0,
            0,
            0,
            0,
            0,
            0,
            0,
            0,
            0
           ]
          },
          {
           "label": "learning_rate",
           "range": [
            0.00011209150824033471,
            0.09999193059049465
           ],
           "values": [
            0.000973838179866693,
            0.005932544407188699,
            0.014556438704316377,
            0.00011209150824033471,
            0.035534965022943114,
            0.0003284878232636876,
            0.005969115506201001,
            0.0009980024711503793,
            0.04047616341572633,
            0.01555348110642586,
            0.0001324686394843795,
            0.09763699876011324,
            0.09516980831581429,
            0.06900226672428637,
            0.07507332344727705,
            0.0985395273911424,
            0.08740928258247638,
            0.08446005037521542,
            0.08819274459466933,
            0.022755662386684708,
            0.03134869609401221,
            0.01898289090546114,
            0.021059882538375426,
            0.05134727348616089,
            0.04852024361899324,
            0.054086217658862644,
            0.04590165049182795,
            0.010049014965201428,
            0.008900992787500724,
            0.010459855863528381,
            0.004663232252801665,
            0.08403040276271537,
            0.0964419777003793,
            0.0016631184870781355,
            0.08795656431362214,
            0.028751094689747216,
            0.028361289409549562,
            0.029381020079826233,
            0.027967342452102383,
            0.00033074047040845947,
            0.00044053533581931207,
            0.06338186707178632,
            0.059373709472015306,
            0.059267002053226846,
            0.06232533844836244,
            0.05991404380459472,
            0.06462164764372576,
            0.03785228902848541,
            0.040856100471307236,
            0.03785203780380702,
            0.037497236139174474,
            0.05929878232161427,
            0.06253894143927359,
            0.06348034772350263,
            0.06528763543960502,
            0.01349775134606429,
            0.07492242356659795,
            0.014897129999897424,
            0.06953997523146487,
            0.07241346486267926,
            0.09961372024775145,
            0.07499334414997016,
            0.09834662753798042,
            0.0976082430387677,
            0.09961320352597179,
            0.04640041663920793,
            0.043608424538277735,
            0.04685267560132643,
            0.022720652519223436,
            0.022547283858489333,
            0.07570541695788413,
            0.08006730385210724,
            0.07780149181818594,
            0.07757222601332867,
            0.0818989511319846,
            0.09984101784956037,
            0.05053531637187231,
            0.051182291717081545,
            0.0025947949968745275,
            0.0024337075840439705,
            0.09678294816551071,
            0.09656892095677876,
            0.07978625787588002,
            0.08052363698065408,
            0.07915422107906413,
            0.07933150270234064,
            0.08538883341286208,
            0.08518296449427432,
            0.032455593813865896,
            0.08534312040359845,
            0.0001561680106735738,
            0.05060754533256848,
            0.09217427671438849,
            0.08906442066525594,
            0.08704740712693125,
            0.05521840428456832,
            0.054041739585646176,
            0.05632294693254318,
            0.05372591174081969,
            0.09133691015484678,
            0.08777834744000176,
            0.09060371109559535,
            0.08845851702284634,
            0.06957496539268924,
            0.07179389264266192,
            0.0685330516412921,
            0.06913703548587086,
            0.0665107372676096,
            0.03448036937185752,
            0.03383698372684619,
            0.04293614642327056,
            0.04259861634464259,
            0.09643106641212398,
            0.0006953011383437108,
            0.08814848386404037,
            0.09939253019961392,
            0.09999193059049465,
            0.09913326114181739,
            0.09654428969246605,
            0.09112770494258983,
            0.05960622723508077,
            0.006889945249796347,
            0.099646794604418,
            0.08993832028296289,
            0.09757458508673833,
            0.06902741760940057,
            0.09935954316285825,
            0.06967874167126127,
            0.09716079984646031,
            0.09633036447193954,
            0.09519418767092312,
            0.09931169605150046,
            0.099907880606842,
            0.09944592146762922,
            0.08219879839643078,
            0.09790656568066455,
            0.09965635443783213,
            0.061164155117767356,
            0.06129190259294109,
            0.062294530130682604,
            0.07981853870129164,
            0.09994454506903266,
            0.09671000299358548,
            0.08522976357793091,
            0.09829362358916463,
            0.07531244931094398,
            0.07521721895413169,
            0.07365779047214294,
            0.07512283592268355,
            0.08765939382745365,
            0.08667719256603193,
            0.08652405335832171,
            0.09895479902022926,
            0.09797159804303228,
            0.09938802608332888,
            0.09898368197615776,
            0.08532153520790399,
            0.09927871781535502,
            0.06685978476468729,
            0.067223721695811,
            0.09926023083416817,
            0.056039139012518634,
            0.08160516975052998,
            0.0822537452953187,
            0.08575281770278533,
            0.09827817324403601,
            0.09765241808555085,
            0.09725025638148352,
            0.07253807152956042,
            0.07632269249146423,
            0.07524707797051161,
            0.09947821515205432,
            0.09974150771983835,
            0.08794421033277743,
            0.08603938436371308,
            0.08766318350797402,
            0.09910422265791194,
            0.06409116840816667,
            0.06235998271687363,
            0.004321022802078324,
            0.0037503749448354424,
            0.09874678255769799,
            0.09954773236533927,
            0.09983003538257251,
            0.08734880383838825,
            0.08429898503153624,
            0.07517700744916812,
            0.0013895925782880594,
            0.07309278862040415,
            0.001248801717010185,
            0.08674356985024105,
            0.08838080398538882,
            0.0990806435562935,
            0.08830315115451834,
            0.09867171276706015,
            0.07786766543957835,
            0.07789620544051032,
            0.07762964569970944,
            0.09948978755130046,
            0.09962117068042924,
            0.06745037920582622,
            0.06563850528141979,
            0.06601964192317258
           ]
          },
          {
           "label": "num_boost_round",
           "range": [
            2,
            100
           ],
           "values": [
            95,
            99,
            83,
            80,
            55,
            9,
            100,
            94,
            74,
            87,
            24,
            20,
            54,
            51,
            57,
            33,
            30,
            37,
            29,
            66,
            66,
            65,
            67,
            42,
            40,
            40,
            41,
            11,
            2,
            9,
            9,
            32,
            31,
            32,
            32,
            32,
            47,
            19,
            48,
            17,
            20,
            58,
            17,
            55,
            55,
            26,
            24,
            61,
            26,
            60,
            74,
            73,
            72,
            14,
            15,
            15,
            25,
            13,
            12,
            2,
            4,
            3,
            3,
            6,
            5,
            6,
            52,
            45,
            22,
            23,
            23,
            57,
            59,
            58,
            64,
            54,
            63,
            63,
            69,
            52,
            57,
            69,
            48,
            50,
            78,
            83,
            49,
            85,
            84,
            80,
            82,
            93,
            93,
            92,
            94,
            91,
            88,
            91,
            90,
            100,
            98,
            99,
            98,
            76,
            96,
            96,
            78,
            79,
            77,
            79,
            78,
            87,
            85,
            86,
            85,
            96,
            95,
            97,
            95,
            93,
            93,
            89,
            89,
            89,
            89,
            87,
            81,
            81,
            82,
            82,
            91,
            92,
            90,
            90,
            85,
            92,
            94,
            94,
            94,
            94,
            94,
            89,
            88,
            89,
            89,
            88,
            89,
            100,
            89,
            100,
            100,
            96,
            92,
            91,
            91,
            96,
            95,
            96,
            96,
            97,
            97,
            98,
            98,
            92,
            86,
            92,
            92,
            86,
            84,
            84,
            84,
            84,
            95,
            94,
            90,
            94,
            90,
            90,
            87,
            87,
            93,
            87,
            93,
            95,
            95,
            95,
            96,
            91,
            92,
            91,
            91,
            87,
            88,
            88,
            87,
            83,
            88,
            88,
            88,
            98,
            98,
            98,
            99
           ]
          },
          {
           "label": "num_iterations",
           "range": [
            12,
            100
           ],
           "values": [
            67,
            61,
            39,
            80,
            22,
            24,
            21,
            69,
            32,
            27,
            41,
            92,
            98,
            46,
            12,
            98,
            96,
            98,
            96,
            82,
            84,
            82,
            83,
            98,
            100,
            100,
            100,
            90,
            89,
            90,
            91,
            73,
            75,
            72,
            73,
            62,
            59,
            58,
            61,
            52,
            74,
            77,
            51,
            51,
            65,
            66,
            67,
            67,
            66,
            77,
            77,
            41,
            64,
            66,
            55,
            66,
            46,
            55,
            69,
            34,
            33,
            37,
            69,
            27,
            27,
            70,
            70,
            70,
            47,
            18,
            80,
            77,
            47,
            79,
            87,
            86,
            86,
            85,
            94,
            79,
            79,
            79,
            82,
            87,
            86,
            86,
            89,
            87,
            87,
            87,
            88,
            94,
            94,
            93,
            93,
            92,
            92,
            94,
            92,
            84,
            84,
            84,
            96,
            96,
            89,
            90,
            90,
            98,
            98,
            98,
            97,
            96,
            82,
            81,
            82,
            100,
            94,
            100,
            100,
            83,
            94,
            100,
            83,
            100,
            92,
            92,
            100,
            100,
            96,
            100,
            89,
            89,
            99,
            95,
            95,
            95,
            96,
            92,
            92,
            91,
            91,
            97,
            98,
            98,
            98,
            97,
            97,
            97,
            97,
            93,
            100,
            93,
            100,
            99,
            95,
            94,
            95,
            94,
            95,
            94,
            93,
            93,
            90,
            90,
            96,
            96,
            96,
            91,
            88,
            89,
            88,
            93,
            93,
            93,
            93,
            99,
            99,
            99,
            100,
            100,
            100,
            100,
            96,
            95,
            95,
            96,
            97,
            98,
            97,
            98,
            98,
            91,
            95,
            91,
            91,
            95,
            95,
            95,
            95,
            100,
            100,
            100,
            100
           ]
          },
          {
           "label": "num_leaves",
           "range": [
            15,
            63
           ],
           "values": [
            36,
            31,
            41,
            58,
            15,
            26,
            55,
            38,
            62,
            58,
            58,
            45,
            15,
            18,
            20,
            46,
            46,
            47,
            47,
            28,
            52,
            52,
            52,
            42,
            42,
            42,
            42,
            34,
            49,
            34,
            34,
            47,
            46,
            49,
            47,
            39,
            38,
            37,
            37,
            50,
            50,
            55,
            44,
            61,
            60,
            56,
            63,
            63,
            61,
            60,
            63,
            55,
            54,
            56,
            57,
            55,
            57,
            58,
            58,
            58,
            60,
            59,
            60,
            60,
            63,
            63,
            53,
            62,
            61,
            53,
            59,
            59,
            57,
            59,
            60,
            59,
            59,
            59,
            55,
            55,
            55,
            56,
            62,
            62,
            62,
            62,
            62,
            62,
            62,
            61,
            62,
            62,
            62,
            61,
            61,
            61,
            61,
            24,
            61,
            63,
            57,
            57,
            57,
            63,
            63,
            63,
            63,
            63,
            61,
            60,
            60,
            58,
            58,
            58,
            59,
            61,
            59,
            59,
            59,
            56,
            56,
            56,
            58,
            60,
            58,
            58,
            60,
            60,
            60,
            54,
            53,
            58,
            54,
            54,
            54,
            50,
            51,
            57,
            58,
            58,
            51,
            61,
            54,
            52,
            51,
            61,
            48,
            48,
            49,
            52,
            57,
            57,
            52,
            60,
            60,
            60,
            60,
            61,
            61,
            61,
            61,
            59,
            59,
            58,
            58,
            56,
            56,
            56,
            57,
            60,
            59,
            59,
            59,
            58,
            58,
            58,
            58,
            60,
            60,
            60,
            60,
            62,
            62,
            62,
            62,
            44,
            44,
            63,
            63,
            63,
            61,
            61,
            61,
            61,
            62,
            62,
            62,
            62,
            62,
            61,
            61,
            61,
            61
           ]
          }
         ],
         "labelangle": 30,
         "labelside": "bottom",
         "line": {
          "color": [
           0.9920566914598196,
           0.6446180949375385,
           0.5891923103276839,
           1.0915118642972395,
           0.37075406956614493,
           1.0865452389592902,
           0.9041464669573975,
           1.0346828394986791,
           0.2755338518592219,
           0.5942625200079983,
           1.0908571739449466,
           0.0725957417543068,
           0.06557538538874312,
           0.10383748020862954,
           0.31602748254847407,
           0.06597584214368095,
           0.0695895479446675,
           0.06791891445619437,
           0.06942343404834245,
           0.2939785979936444,
           0.2955863314349144,
           0.2914488157486697,
           0.29034773356954513,
           0.10899966556662452,
           0.10737537280550595,
           0.0958784997322429,
           0.11632253126204352,
           0.6180739121559445,
           0.651423843286895,
           0.6051397687808998,
           0.8278980692514966,
           0.06496127367975243,
           0.06115030843509244,
           0.9934589253215835,
           0.0664477695574864,
           0.29833047881998914,
           0.31786302014339574,
           0.2980616012581145,
           0.317642651475001,
           1.0807915643170511,
           1.0443917976520583,
           0.054877322841793155,
           0.061229286375384516,
           0.1175038459483543,
           0.05520388421682513,
           0.061587611667084145,
           0.05488618581323399,
           0.07704487584117528,
           0.06999693826154155,
           0.06286528049364765,
           0.06351485120848437,
           0.07870364365257242,
           0.0640607347473599,
           0.05796204094144714,
           0.05966704239932348,
           0.32748689560704486,
           0.05744940550321209,
           0.3574377876060361,
           0.051072768071140424,
           0.07778119347609147,
           0.05730583779766256,
           0.06367258887589383,
           0.03463763241117728,
           0.06927301763066031,
           0.06727988055279331,
           0.05797374309761976,
           0.058864987126314265,
           0.05839871970113774,
           0.26489598130054903,
           0.6047031539189047,
           0.03265878639928048,
           0.04035783403639312,
           0.0619408264237322,
           0.04461759327542696,
           0.03566719576224502,
           0.03090374053458798,
           0.05960601165894716,
           0.0569873347503373,
           0.7601967839103839,
           0.8188997041074827,
           0.24762178800227125,
           0.24832765097203374,
           0.04000110463492505,
           0.034859867676792944,
           0.030852289419852352,
           0.03432381833559358,
           0.028317938926595544,
           0.03129470276650477,
           0.06553907402837239,
           0.03155693796480865,
           1.0763454230464895,
           0.05131919642198546,
           0.027006128378925427,
           0.02560527254353355,
           0.02642845554560759,
           0.04818547952479941,
           0.04980806739233505,
           0.039395305020276286,
           0.04545972808335883,
           0.034530103119157274,
           0.031257110157220123,
           0.03486082923489602,
           0.04104003459287939,
           0.030871154466067904,
           0.03578555393408676,
           0.03148079956635566,
           0.03835485310688959,
           0.033091501569559575,
           0.05824965676145276,
           0.05789963216905877,
           0.0574012974961058,
           0.05503156092490033,
           0.027198997641475497,
           1.006016050446949,
           0.030659672161016577,
           0.02392385581102735,
           0.03545650588099163,
           0.03358950453897121,
           0.026309940821969056,
           0.03423238230678227,
           0.03694067641213638,
           0.4205274777023239,
           0.024263018723792835,
           0.02550067591692978,
           0.027630552419125893,
           0.035925455052443794,
           0.029815046522371474,
           0.034974044839867054,
           0.02627218738323703,
           0.028555790244459166,
           0.031207834188104137,
           0.02470618131956277,
           0.021800073234630145,
           0.041120047832096766,
           0.033136096856835454,
           0.035025369581908584,
           0.018808943535112324,
           0.03872713234719291,
           0.04316915836119431,
           0.04297002293183785,
           0.03480128649757554,
           0.01929563199373263,
           0.04515351223145501,
           0.027658877946438783,
           0.030861154893854017,
           0.03231408900321752,
           0.028048926797438985,
           0.029149169618679714,
           0.04075932246801216,
           0.02820841682758282,
           0.03078670511926283,
           0.027576393025806594,
           0.029091034381613375,
           0.03239756416194484,
           0.023788860234564158,
           0.026122850194785753,
           0.030170629627276516,
           0.030685205287297002,
           0.040653599259341276,
           0.033226160929939685,
           0.03604162722102101,
           0.046276966638777936,
           0.03605763952433016,
           0.03721048315385502,
           0.02887176109897707,
           0.03150952011710907,
           0.0330443399060709,
           0.030688069323113593,
           0.03952368226958277,
           0.25720276543816484,
           0.2617877357421936,
           0.027418966657548165,
           0.034460400706976056,
           0.031303610032388504,
           0.029531234738439296,
           0.02686029553004703,
           0.03380463533842431,
           0.04176752664083584,
           0.03836438743157163,
           0.586444223729343,
           0.6335375315322491,
           0.024061762903650905,
           0.04309379400557234,
           0.03664122485225561,
           0.024241124855898626,
           0.03663585448098139,
           0.03437408812008611,
           0.8899757381443438,
           0.03928108504767917,
           0.9087002443666493,
           0.02833853577011647,
           0.028503491778100378,
           0.02637216337369291,
           0.026741132905076792,
           0.03564095382021923,
           0.037677351626292925,
           0.03946794394356853,
           0.03405683273397979,
           0.029471992440440044,
           0.01880866644078725,
           0.0346657836760954,
           0.03536156864919959,
           0.03652638493588218
          ],
          "colorbar": {
           "title": {
            "text": "Objective Value"
           }
          },
          "colorscale": [
           [
            0,
            "rgb(247,251,255)"
           ],
           [
            0.125,
            "rgb(222,235,247)"
           ],
           [
            0.25,
            "rgb(198,219,239)"
           ],
           [
            0.375,
            "rgb(158,202,225)"
           ],
           [
            0.5,
            "rgb(107,174,214)"
           ],
           [
            0.625,
            "rgb(66,146,198)"
           ],
           [
            0.75,
            "rgb(33,113,181)"
           ],
           [
            0.875,
            "rgb(8,81,156)"
           ],
           [
            1,
            "rgb(8,48,107)"
           ]
          ],
          "reversescale": true,
          "showscale": true
         },
         "type": "parcoords"
        }
       ],
       "layout": {
        "template": {
         "data": {
          "bar": [
           {
            "error_x": {
             "color": "#2a3f5f"
            },
            "error_y": {
             "color": "#2a3f5f"
            },
            "marker": {
             "line": {
              "color": "#E5ECF6",
              "width": 0.5
             }
            },
            "type": "bar"
           }
          ],
          "barpolar": [
           {
            "marker": {
             "line": {
              "color": "#E5ECF6",
              "width": 0.5
             }
            },
            "type": "barpolar"
           }
          ],
          "carpet": [
           {
            "aaxis": {
             "endlinecolor": "#2a3f5f",
             "gridcolor": "white",
             "linecolor": "white",
             "minorgridcolor": "white",
             "startlinecolor": "#2a3f5f"
            },
            "baxis": {
             "endlinecolor": "#2a3f5f",
             "gridcolor": "white",
             "linecolor": "white",
             "minorgridcolor": "white",
             "startlinecolor": "#2a3f5f"
            },
            "type": "carpet"
           }
          ],
          "choropleth": [
           {
            "colorbar": {
             "outlinewidth": 0,
             "ticks": ""
            },
            "type": "choropleth"
           }
          ],
          "contour": [
           {
            "colorbar": {
             "outlinewidth": 0,
             "ticks": ""
            },
            "colorscale": [
             [
              0,
              "#0d0887"
             ],
             [
              0.1111111111111111,
              "#46039f"
             ],
             [
              0.2222222222222222,
              "#7201a8"
             ],
             [
              0.3333333333333333,
              "#9c179e"
             ],
             [
              0.4444444444444444,
              "#bd3786"
             ],
             [
              0.5555555555555556,
              "#d8576b"
             ],
             [
              0.6666666666666666,
              "#ed7953"
             ],
             [
              0.7777777777777778,
              "#fb9f3a"
             ],
             [
              0.8888888888888888,
              "#fdca26"
             ],
             [
              1,
              "#f0f921"
             ]
            ],
            "type": "contour"
           }
          ],
          "contourcarpet": [
           {
            "colorbar": {
             "outlinewidth": 0,
             "ticks": ""
            },
            "type": "contourcarpet"
           }
          ],
          "heatmap": [
           {
            "colorbar": {
             "outlinewidth": 0,
             "ticks": ""
            },
            "colorscale": [
             [
              0,
              "#0d0887"
             ],
             [
              0.1111111111111111,
              "#46039f"
             ],
             [
              0.2222222222222222,
              "#7201a8"
             ],
             [
              0.3333333333333333,
              "#9c179e"
             ],
             [
              0.4444444444444444,
              "#bd3786"
             ],
             [
              0.5555555555555556,
              "#d8576b"
             ],
             [
              0.6666666666666666,
              "#ed7953"
             ],
             [
              0.7777777777777778,
              "#fb9f3a"
             ],
             [
              0.8888888888888888,
              "#fdca26"
             ],
             [
              1,
              "#f0f921"
             ]
            ],
            "type": "heatmap"
           }
          ],
          "heatmapgl": [
           {
            "colorbar": {
             "outlinewidth": 0,
             "ticks": ""
            },
            "colorscale": [
             [
              0,
              "#0d0887"
             ],
             [
              0.1111111111111111,
              "#46039f"
             ],
             [
              0.2222222222222222,
              "#7201a8"
             ],
             [
              0.3333333333333333,
              "#9c179e"
             ],
             [
              0.4444444444444444,
              "#bd3786"
             ],
             [
              0.5555555555555556,
              "#d8576b"
             ],
             [
              0.6666666666666666,
              "#ed7953"
             ],
             [
              0.7777777777777778,
              "#fb9f3a"
             ],
             [
              0.8888888888888888,
              "#fdca26"
             ],
             [
              1,
              "#f0f921"
             ]
            ],
            "type": "heatmapgl"
           }
          ],
          "histogram": [
           {
            "marker": {
             "colorbar": {
              "outlinewidth": 0,
              "ticks": ""
             }
            },
            "type": "histogram"
           }
          ],
          "histogram2d": [
           {
            "colorbar": {
             "outlinewidth": 0,
             "ticks": ""
            },
            "colorscale": [
             [
              0,
              "#0d0887"
             ],
             [
              0.1111111111111111,
              "#46039f"
             ],
             [
              0.2222222222222222,
              "#7201a8"
             ],
             [
              0.3333333333333333,
              "#9c179e"
             ],
             [
              0.4444444444444444,
              "#bd3786"
             ],
             [
              0.5555555555555556,
              "#d8576b"
             ],
             [
              0.6666666666666666,
              "#ed7953"
             ],
             [
              0.7777777777777778,
              "#fb9f3a"
             ],
             [
              0.8888888888888888,
              "#fdca26"
             ],
             [
              1,
              "#f0f921"
             ]
            ],
            "type": "histogram2d"
           }
          ],
          "histogram2dcontour": [
           {
            "colorbar": {
             "outlinewidth": 0,
             "ticks": ""
            },
            "colorscale": [
             [
              0,
              "#0d0887"
             ],
             [
              0.1111111111111111,
              "#46039f"
             ],
             [
              0.2222222222222222,
              "#7201a8"
             ],
             [
              0.3333333333333333,
              "#9c179e"
             ],
             [
              0.4444444444444444,
              "#bd3786"
             ],
             [
              0.5555555555555556,
              "#d8576b"
             ],
             [
              0.6666666666666666,
              "#ed7953"
             ],
             [
              0.7777777777777778,
              "#fb9f3a"
             ],
             [
              0.8888888888888888,
              "#fdca26"
             ],
             [
              1,
              "#f0f921"
             ]
            ],
            "type": "histogram2dcontour"
           }
          ],
          "mesh3d": [
           {
            "colorbar": {
             "outlinewidth": 0,
             "ticks": ""
            },
            "type": "mesh3d"
           }
          ],
          "parcoords": [
           {
            "line": {
             "colorbar": {
              "outlinewidth": 0,
              "ticks": ""
             }
            },
            "type": "parcoords"
           }
          ],
          "pie": [
           {
            "automargin": true,
            "type": "pie"
           }
          ],
          "scatter": [
           {
            "marker": {
             "colorbar": {
              "outlinewidth": 0,
              "ticks": ""
             }
            },
            "type": "scatter"
           }
          ],
          "scatter3d": [
           {
            "line": {
             "colorbar": {
              "outlinewidth": 0,
              "ticks": ""
             }
            },
            "marker": {
             "colorbar": {
              "outlinewidth": 0,
              "ticks": ""
             }
            },
            "type": "scatter3d"
           }
          ],
          "scattercarpet": [
           {
            "marker": {
             "colorbar": {
              "outlinewidth": 0,
              "ticks": ""
             }
            },
            "type": "scattercarpet"
           }
          ],
          "scattergeo": [
           {
            "marker": {
             "colorbar": {
              "outlinewidth": 0,
              "ticks": ""
             }
            },
            "type": "scattergeo"
           }
          ],
          "scattergl": [
           {
            "marker": {
             "colorbar": {
              "outlinewidth": 0,
              "ticks": ""
             }
            },
            "type": "scattergl"
           }
          ],
          "scattermapbox": [
           {
            "marker": {
             "colorbar": {
              "outlinewidth": 0,
              "ticks": ""
             }
            },
            "type": "scattermapbox"
           }
          ],
          "scatterpolar": [
           {
            "marker": {
             "colorbar": {
              "outlinewidth": 0,
              "ticks": ""
             }
            },
            "type": "scatterpolar"
           }
          ],
          "scatterpolargl": [
           {
            "marker": {
             "colorbar": {
              "outlinewidth": 0,
              "ticks": ""
             }
            },
            "type": "scatterpolargl"
           }
          ],
          "scatterternary": [
           {
            "marker": {
             "colorbar": {
              "outlinewidth": 0,
              "ticks": ""
             }
            },
            "type": "scatterternary"
           }
          ],
          "surface": [
           {
            "colorbar": {
             "outlinewidth": 0,
             "ticks": ""
            },
            "colorscale": [
             [
              0,
              "#0d0887"
             ],
             [
              0.1111111111111111,
              "#46039f"
             ],
             [
              0.2222222222222222,
              "#7201a8"
             ],
             [
              0.3333333333333333,
              "#9c179e"
             ],
             [
              0.4444444444444444,
              "#bd3786"
             ],
             [
              0.5555555555555556,
              "#d8576b"
             ],
             [
              0.6666666666666666,
              "#ed7953"
             ],
             [
              0.7777777777777778,
              "#fb9f3a"
             ],
             [
              0.8888888888888888,
              "#fdca26"
             ],
             [
              1,
              "#f0f921"
             ]
            ],
            "type": "surface"
           }
          ],
          "table": [
           {
            "cells": {
             "fill": {
              "color": "#EBF0F8"
             },
             "line": {
              "color": "white"
             }
            },
            "header": {
             "fill": {
              "color": "#C8D4E3"
             },
             "line": {
              "color": "white"
             }
            },
            "type": "table"
           }
          ]
         },
         "layout": {
          "annotationdefaults": {
           "arrowcolor": "#2a3f5f",
           "arrowhead": 0,
           "arrowwidth": 1
          },
          "coloraxis": {
           "colorbar": {
            "outlinewidth": 0,
            "ticks": ""
           }
          },
          "colorscale": {
           "diverging": [
            [
             0,
             "#8e0152"
            ],
            [
             0.1,
             "#c51b7d"
            ],
            [
             0.2,
             "#de77ae"
            ],
            [
             0.3,
             "#f1b6da"
            ],
            [
             0.4,
             "#fde0ef"
            ],
            [
             0.5,
             "#f7f7f7"
            ],
            [
             0.6,
             "#e6f5d0"
            ],
            [
             0.7,
             "#b8e186"
            ],
            [
             0.8,
             "#7fbc41"
            ],
            [
             0.9,
             "#4d9221"
            ],
            [
             1,
             "#276419"
            ]
           ],
           "sequential": [
            [
             0,
             "#0d0887"
            ],
            [
             0.1111111111111111,
             "#46039f"
            ],
            [
             0.2222222222222222,
             "#7201a8"
            ],
            [
             0.3333333333333333,
             "#9c179e"
            ],
            [
             0.4444444444444444,
             "#bd3786"
            ],
            [
             0.5555555555555556,
             "#d8576b"
            ],
            [
             0.6666666666666666,
             "#ed7953"
            ],
            [
             0.7777777777777778,
             "#fb9f3a"
            ],
            [
             0.8888888888888888,
             "#fdca26"
            ],
            [
             1,
             "#f0f921"
            ]
           ],
           "sequentialminus": [
            [
             0,
             "#0d0887"
            ],
            [
             0.1111111111111111,
             "#46039f"
            ],
            [
             0.2222222222222222,
             "#7201a8"
            ],
            [
             0.3333333333333333,
             "#9c179e"
            ],
            [
             0.4444444444444444,
             "#bd3786"
            ],
            [
             0.5555555555555556,
             "#d8576b"
            ],
            [
             0.6666666666666666,
             "#ed7953"
            ],
            [
             0.7777777777777778,
             "#fb9f3a"
            ],
            [
             0.8888888888888888,
             "#fdca26"
            ],
            [
             1,
             "#f0f921"
            ]
           ]
          },
          "colorway": [
           "#636efa",
           "#EF553B",
           "#00cc96",
           "#ab63fa",
           "#FFA15A",
           "#19d3f3",
           "#FF6692",
           "#B6E880",
           "#FF97FF",
           "#FECB52"
          ],
          "font": {
           "color": "#2a3f5f"
          },
          "geo": {
           "bgcolor": "white",
           "lakecolor": "white",
           "landcolor": "#E5ECF6",
           "showlakes": true,
           "showland": true,
           "subunitcolor": "white"
          },
          "hoverlabel": {
           "align": "left"
          },
          "hovermode": "closest",
          "mapbox": {
           "style": "light"
          },
          "paper_bgcolor": "white",
          "plot_bgcolor": "#E5ECF6",
          "polar": {
           "angularaxis": {
            "gridcolor": "white",
            "linecolor": "white",
            "ticks": ""
           },
           "bgcolor": "#E5ECF6",
           "radialaxis": {
            "gridcolor": "white",
            "linecolor": "white",
            "ticks": ""
           }
          },
          "scene": {
           "xaxis": {
            "backgroundcolor": "#E5ECF6",
            "gridcolor": "white",
            "gridwidth": 2,
            "linecolor": "white",
            "showbackground": true,
            "ticks": "",
            "zerolinecolor": "white"
           },
           "yaxis": {
            "backgroundcolor": "#E5ECF6",
            "gridcolor": "white",
            "gridwidth": 2,
            "linecolor": "white",
            "showbackground": true,
            "ticks": "",
            "zerolinecolor": "white"
           },
           "zaxis": {
            "backgroundcolor": "#E5ECF6",
            "gridcolor": "white",
            "gridwidth": 2,
            "linecolor": "white",
            "showbackground": true,
            "ticks": "",
            "zerolinecolor": "white"
           }
          },
          "shapedefaults": {
           "line": {
            "color": "#2a3f5f"
           }
          },
          "ternary": {
           "aaxis": {
            "gridcolor": "white",
            "linecolor": "white",
            "ticks": ""
           },
           "baxis": {
            "gridcolor": "white",
            "linecolor": "white",
            "ticks": ""
           },
           "bgcolor": "#E5ECF6",
           "caxis": {
            "gridcolor": "white",
            "linecolor": "white",
            "ticks": ""
           }
          },
          "title": {
           "x": 0.05
          },
          "xaxis": {
           "automargin": true,
           "gridcolor": "white",
           "linecolor": "white",
           "ticks": "",
           "title": {
            "standoff": 15
           },
           "zerolinecolor": "white",
           "zerolinewidth": 2
          },
          "yaxis": {
           "automargin": true,
           "gridcolor": "white",
           "linecolor": "white",
           "ticks": "",
           "title": {
            "standoff": 15
           },
           "zerolinecolor": "white",
           "zerolinewidth": 2
          }
         }
        },
        "title": {
         "text": "Parallel Coordinate Plot"
        }
       }
      }
     },
     "metadata": {}
    }
   ],
   "source": [
    "optuna.visualization.plot_parallel_coordinate(study)"
   ]
  },
  {
   "cell_type": "code",
   "execution_count": 13,
   "metadata": {
    "tags": []
   },
   "outputs": [
    {
     "output_type": "execute_result",
     "data": {
      "text/plain": "   number     value             datetime_start          datetime_complete  \\\n0       0       NaN 2020-10-05 16:23:17.249697 2020-10-05 16:23:17.964861   \n1       1  0.992057 2020-10-05 16:23:17.253145 2020-10-05 16:23:21.767566   \n2       2       NaN 2020-10-05 16:23:17.281393 2020-10-05 16:23:18.014320   \n3       3  0.644618 2020-10-05 16:23:17.281561 2020-10-05 16:23:21.374396   \n4       4  0.589192 2020-10-05 16:23:17.290011 2020-10-05 16:23:20.724239   \n\n                duration params_boosting  params_learning_rate  \\\n0 0 days 00:00:00.715164            dart              0.000807   \n1 0 days 00:00:04.514421            gbdt              0.000974   \n2 0 days 00:00:00.732927            gbdt              0.038392   \n3 0 days 00:00:04.092835            gbdt              0.005933   \n4 0 days 00:00:03.434228            dart              0.014556   \n\n   params_num_boost_round  params_num_iterations  params_num_leaves  \\\n0                     8.0                   64.0               36.0   \n1                    95.0                   67.0               36.0   \n2                    71.0                   78.0               52.0   \n3                    99.0                   61.0               31.0   \n4                    83.0                   39.0               41.0   \n\n                            system_attrs_fail_reason     state  \n0  Trial 0 failed, because the returned value fro...      FAIL  \n1                                                NaN  COMPLETE  \n2  Trial 2 failed, because the returned value fro...      FAIL  \n3                                                NaN  COMPLETE  \n4                                                NaN  COMPLETE  ",
      "text/html": "<div>\n<style scoped>\n    .dataframe tbody tr th:only-of-type {\n        vertical-align: middle;\n    }\n\n    .dataframe tbody tr th {\n        vertical-align: top;\n    }\n\n    .dataframe thead th {\n        text-align: right;\n    }\n</style>\n<table border=\"1\" class=\"dataframe\">\n  <thead>\n    <tr style=\"text-align: right;\">\n      <th></th>\n      <th>number</th>\n      <th>value</th>\n      <th>datetime_start</th>\n      <th>datetime_complete</th>\n      <th>duration</th>\n      <th>params_boosting</th>\n      <th>params_learning_rate</th>\n      <th>params_num_boost_round</th>\n      <th>params_num_iterations</th>\n      <th>params_num_leaves</th>\n      <th>system_attrs_fail_reason</th>\n      <th>state</th>\n    </tr>\n  </thead>\n  <tbody>\n    <tr>\n      <th>0</th>\n      <td>0</td>\n      <td>NaN</td>\n      <td>2020-10-05 16:23:17.249697</td>\n      <td>2020-10-05 16:23:17.964861</td>\n      <td>0 days 00:00:00.715164</td>\n      <td>dart</td>\n      <td>0.000807</td>\n      <td>8.0</td>\n      <td>64.0</td>\n      <td>36.0</td>\n      <td>Trial 0 failed, because the returned value fro...</td>\n      <td>FAIL</td>\n    </tr>\n    <tr>\n      <th>1</th>\n      <td>1</td>\n      <td>0.992057</td>\n      <td>2020-10-05 16:23:17.253145</td>\n      <td>2020-10-05 16:23:21.767566</td>\n      <td>0 days 00:00:04.514421</td>\n      <td>gbdt</td>\n      <td>0.000974</td>\n      <td>95.0</td>\n      <td>67.0</td>\n      <td>36.0</td>\n      <td>NaN</td>\n      <td>COMPLETE</td>\n    </tr>\n    <tr>\n      <th>2</th>\n      <td>2</td>\n      <td>NaN</td>\n      <td>2020-10-05 16:23:17.281393</td>\n      <td>2020-10-05 16:23:18.014320</td>\n      <td>0 days 00:00:00.732927</td>\n      <td>gbdt</td>\n      <td>0.038392</td>\n      <td>71.0</td>\n      <td>78.0</td>\n      <td>52.0</td>\n      <td>Trial 2 failed, because the returned value fro...</td>\n      <td>FAIL</td>\n    </tr>\n    <tr>\n      <th>3</th>\n      <td>3</td>\n      <td>0.644618</td>\n      <td>2020-10-05 16:23:17.281561</td>\n      <td>2020-10-05 16:23:21.374396</td>\n      <td>0 days 00:00:04.092835</td>\n      <td>gbdt</td>\n      <td>0.005933</td>\n      <td>99.0</td>\n      <td>61.0</td>\n      <td>31.0</td>\n      <td>NaN</td>\n      <td>COMPLETE</td>\n    </tr>\n    <tr>\n      <th>4</th>\n      <td>4</td>\n      <td>0.589192</td>\n      <td>2020-10-05 16:23:17.290011</td>\n      <td>2020-10-05 16:23:20.724239</td>\n      <td>0 days 00:00:03.434228</td>\n      <td>dart</td>\n      <td>0.014556</td>\n      <td>83.0</td>\n      <td>39.0</td>\n      <td>41.0</td>\n      <td>NaN</td>\n      <td>COMPLETE</td>\n    </tr>\n  </tbody>\n</table>\n</div>"
     },
     "metadata": {},
     "execution_count": 13
    }
   ],
   "source": [
    "df = study.trials_dataframe()\n",
    "df.head()"
   ]
  }
 ],
 "metadata": {
  "kernelspec": {
   "display_name": "Python 3.7.6 64-bit ('temp': conda)",
   "metadata": {
    "interpreter": {
     "hash": "ee542e58b9e48d64b181316c44da28c3cc0b18445c18860dd41752baf840b46a"
    }
   },
   "name": "Python 3.7.6 64-bit ('temp': conda)"
  },
  "language_info": {
   "codemirror_mode": {
    "name": "ipython",
    "version": 3
   },
   "file_extension": ".py",
   "mimetype": "text/x-python",
   "name": "python",
   "nbconvert_exporter": "python",
   "pygments_lexer": "ipython3",
   "version": "3.7.6-final"
  }
 },
 "nbformat": 4,
 "nbformat_minor": 2
}