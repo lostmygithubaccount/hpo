{
 "cells": [
  {
   "cell_type": "code",
   "execution_count": 1,
   "metadata": {
    "tags": []
   },
   "outputs": [
    {
     "output_type": "execute_result",
     "data": {
      "text/plain": [
       "Workspace.create(name='AzureML', subscription_id='6560575d-fa06-4e7d-95fb-f962e74efd7a', resource_group='cody-eastus-rg')"
      ]
     },
     "metadata": {},
     "execution_count": 1
    }
   ],
   "source": [
    "from azureml.core import Workspace\n",
    "\n",
    "ws = Workspace.from_config()\n",
    "ws"
   ]
  },
  {
   "cell_type": "code",
   "execution_count": 2,
   "metadata": {
    "tags": []
   },
   "outputs": [],
   "source": [
    "import mlflow\n",
    "\n",
    "mlflow.set_tracking_uri(ws.get_mlflow_tracking_uri())\n",
    "mlflow.set_experiment(\"lightgbm-mlflow-optuna-dask\")"
   ]
  },
  {
   "cell_type": "code",
   "execution_count": 3,
   "metadata": {
    "tags": []
   },
   "outputs": [
    {
     "output_type": "stream",
     "name": "stderr",
     "text": [
      "/Users/cody/miniconda3/envs/temp/lib/python3.7/site-packages/ipykernel/ipkernel.py:287: DeprecationWarning: `should_run_async` will not call `transform_cell` automatically in the future. Please pass the result to `transformed_cell` argument and any exception that happen during thetransform in `preprocessing_exc_tuple` in IPython 7.17 and above.\n  and should_run_async(code)\n"
     ]
    }
   ],
   "source": [
    "# imports\n",
    "import os\n",
    "import time\n",
    "import mlflow\n",
    "import argparse\n",
    "\n",
    "import pandas as pd\n",
    "import lightgbm as lgb\n",
    "import matplotlib.pyplot as plt\n",
    "\n",
    "from sklearn.metrics import log_loss, accuracy_score\n",
    "from sklearn.preprocessing import LabelEncoder\n",
    "from sklearn.model_selection import train_test_split"
   ]
  },
  {
   "cell_type": "code",
   "execution_count": 4,
   "metadata": {
    "tags": []
   },
   "outputs": [
    {
     "output_type": "stream",
     "name": "stderr",
     "text": [
      "/Users/cody/miniconda3/envs/temp/lib/python3.7/site-packages/ipykernel/ipkernel.py:287: DeprecationWarning: `should_run_async` will not call `transform_cell` automatically in the future. Please pass the result to `transformed_cell` argument and any exception that happen during thetransform in `preprocessing_exc_tuple` in IPython 7.17 and above.\n  and should_run_async(code)\n"
     ]
    }
   ],
   "source": [
    "# define functions\n",
    "def preprocess_data(df):\n",
    "    X = df.drop([\"species\"], axis=1)\n",
    "    y = df[\"species\"]\n",
    "\n",
    "    enc = LabelEncoder()\n",
    "    y = enc.fit_transform(y)\n",
    "\n",
    "    X_train, X_test, y_train, y_test = train_test_split(\n",
    "        X, y, test_size=0.2, random_state=42\n",
    "    )\n",
    "\n",
    "    return X_train, X_test, y_train, y_test, enc\n",
    "\n",
    "\n",
    "def train_model(params, num_boost_round, X_train, X_test, y_train, y_test):\n",
    "    t1 = time.time()\n",
    "    train_data = lgb.Dataset(X_train, label=y_train)\n",
    "    test_data = lgb.Dataset(X_test, label=y_test)\n",
    "    model = lgb.train(\n",
    "        params,\n",
    "        train_data,\n",
    "        num_boost_round=num_boost_round,\n",
    "        valid_sets=[test_data],\n",
    "        valid_names=[\"test\"],\n",
    "    )\n",
    "    t2 = time.time()\n",
    "\n",
    "    return model, t2 - t1\n",
    "\n",
    "\n",
    "def evaluate_model(model, X_test, y_test):\n",
    "    y_proba = model.predict(X_test)\n",
    "    y_pred = y_proba.argmax(axis=1)\n",
    "    loss = log_loss(y_test, y_proba)\n",
    "    acc = accuracy_score(y_test, y_pred)\n",
    "\n",
    "    return loss, acc"
   ]
  },
  {
   "cell_type": "code",
   "execution_count": 5,
   "metadata": {
    "tags": []
   },
   "outputs": [],
   "source": [
    "# define an objective for optuna to optimize \n",
    "def objective(trial):\n",
    "    try:\n",
    "        #mlflow.set_tracking_uri(ws.get_mlflow_tracking_uri())\n",
    "        #mlflow.set_experiment(\"lightgbm-mlflow-optuna-dask\")\n",
    "        # start mlflow run\n",
    "        with mlflow.start_run():\n",
    "            # enable autologging\n",
    "            mlflow.lightgbm.autolog()\n",
    "\n",
    "            # generate parameters \n",
    "            num_boost_round = trial.suggest_int(\"num_boost_round\", 1, 100)\n",
    "            params = {\n",
    "                \"objective\": \"multiclass\",\n",
    "                \"num_class\": 3,\n",
    "                \"boosting\":  trial.suggest_categorical(\n",
    "                    \"boosting\", [\"gbdt\", \"dart\", \"goss\"]\n",
    "                ),\n",
    "                \"num_iterations\": trial.suggest_int(\"num_iterations\", 10, 100),\n",
    "                \"num_leaves\": trial.suggest_int(\"num_leaves\", 15, 63),\n",
    "                #\"num_threads\": trial.suggest_categorical(\"num_threads\", [1, 2, 4]),\n",
    "                \"learning_rate\": trial.suggest_loguniform(\"learning_rate\", 10e-5, .1),\n",
    "                \"metric\": \"multi_logloss\",\n",
    "                #\"seed\": trial.suggest_categorical(\"seed\", [1, 3, 5, 7, 11, 13, 42]),\n",
    "                \"verbose\": 0,\n",
    "            }\n",
    "            mlflow.log_param(\"num_boost_round\", num_boost_round)\n",
    "            mlflow.log_params(params)\n",
    "\n",
    "            # read in dataset \n",
    "            df = pd.read_csv(\"../data/iris/iris.csv\")\n",
    "\n",
    "            # preprocess data\n",
    "            X_train, X_test, y_train, y_test, enc = preprocess_data(df)\n",
    "\n",
    "            # train model\n",
    "            model, train_time = train_model(\n",
    "                params, num_boost_round, X_train, X_test, y_train, y_test\n",
    "            )\n",
    "            mlflow.log_metric(\"training_time\", train_time)\n",
    "\n",
    "            # evaluate model\n",
    "            loss, acc = evaluate_model(model, X_test, y_test)\n",
    "            mlflow.log_metrics({\"loss\": loss, \"accuracy\": acc})\n",
    "\n",
    "            return loss\n",
    "    except:\n",
    "        return None "
   ]
  },
  {
   "cell_type": "code",
   "execution_count": 6,
   "metadata": {
    "tags": []
   },
   "outputs": [
    {
     "output_type": "stream",
     "name": "stderr",
     "text": [
      "[I 2020-10-08 10:13:14,511] A new study created in memory with name: test\n",
      "[W 2020-10-08 10:13:16,585] Trial 5 failed, because the returned value from the objective function cannot be cast to float. Returned value is: None\n",
      "[W 2020-10-08 10:13:16,704] Trial 6 failed, because the returned value from the objective function cannot be cast to float. Returned value is: None\n",
      "[W 2020-10-08 10:13:16,748] Trial 4 failed, because the returned value from the objective function cannot be cast to float. Returned value is: None\n",
      "[W 2020-10-08 10:13:16,900] Trial 7 failed, because the returned value from the objective function cannot be cast to float. Returned value is: None\n",
      "[W 2020-10-08 10:13:16,918] Trial 0 failed, because the returned value from the objective function cannot be cast to float. Returned value is: None\n",
      "[W 2020-10-08 10:13:16,933] Trial 1 failed, because the returned value from the objective function cannot be cast to float. Returned value is: None\n",
      "[W 2020-10-08 10:13:16,937] Trial 3 failed, because the returned value from the objective function cannot be cast to float. Returned value is: None\n",
      "/Users/cody/miniconda3/envs/temp/lib/python3.7/site-packages/mlflow/lightgbm.py:366: DeprecationWarning: inspect.getargspec() is deprecated since Python 3.0, use inspect.signature() or inspect.getfullargspec()\n",
      "  all_arg_names = inspect.getargspec(original)[0]  # pylint: disable=W1505\n",
      "[1]\ttest's multi_logloss: 1.09438\n",
      "[2]\ttest's multi_logloss: 1.08832\n",
      "[3]\ttest's multi_logloss: 1.08231\n",
      "[4]\ttest's multi_logloss: 1.07635\n",
      "[5]\ttest's multi_logloss: 1.07043\n",
      "[6]\ttest's multi_logloss: 1.06455\n",
      "[7]\ttest's multi_logloss: 1.05872\n",
      "[8]\ttest's multi_logloss: 1.05294\n",
      "[9]\ttest's multi_logloss: 1.0472\n",
      "[10]\ttest's multi_logloss: 1.0415\n",
      "[11]\ttest's multi_logloss: 1.03584\n",
      "[12]\ttest's multi_logloss: 1.03023\n",
      "[13]\ttest's multi_logloss: 1.02466\n",
      "[14]\ttest's multi_logloss: 1.01913\n",
      "[15]\ttest's multi_logloss: 1.01364\n",
      "[16]\ttest's multi_logloss: 1.00819\n",
      "[17]\ttest's multi_logloss: 1.00278\n",
      "[18]\ttest's multi_logloss: 0.99741\n",
      "[19]\ttest's multi_logloss: 0.992079\n",
      "[20]\ttest's multi_logloss: 0.986787\n",
      "[21]\ttest's multi_logloss: 0.981534\n",
      "[22]\ttest's multi_logloss: 0.976318\n",
      "[23]\ttest's multi_logloss: 0.97114\n",
      "[24]\ttest's multi_logloss: 0.965999\n",
      "[25]\ttest's multi_logloss: 0.960895\n",
      "[26]\ttest's multi_logloss: 0.955827\n",
      "[27]\ttest's multi_logloss: 0.950795\n",
      "[28]\ttest's multi_logloss: 0.945799\n",
      "[29]\ttest's multi_logloss: 0.940839\n",
      "[30]\ttest's multi_logloss: 0.935913\n",
      "[31]\ttest's multi_logloss: 0.931022\n",
      "[32]\ttest's multi_logloss: 0.926165\n",
      "[33]\ttest's multi_logloss: 0.921343\n",
      "[34]\ttest's multi_logloss: 0.916553\n",
      "[35]\ttest's multi_logloss: 0.911797\n",
      "[36]\ttest's multi_logloss: 0.907073\n",
      "[37]\ttest's multi_logloss: 0.902382\n",
      "[38]\ttest's multi_logloss: 0.897724\n",
      "[39]\ttest's multi_logloss: 0.893097\n",
      "[40]\ttest's multi_logloss: 0.888502\n",
      "[41]\ttest's multi_logloss: 0.883938\n",
      "[42]\ttest's multi_logloss: 0.879405\n",
      "[43]\ttest's multi_logloss: 0.874903\n",
      "[44]\ttest's multi_logloss: 0.870431\n",
      "[45]\ttest's multi_logloss: 0.865989\n",
      "[46]\ttest's multi_logloss: 0.861577\n",
      "[47]\ttest's multi_logloss: 0.857195\n",
      "[48]\ttest's multi_logloss: 0.852842\n",
      "[49]\ttest's multi_logloss: 0.848518\n",
      "[50]\ttest's multi_logloss: 0.844223\n",
      "[51]\ttest's multi_logloss: 0.839956\n",
      "[52]\ttest's multi_logloss: 0.835717\n",
      "[53]\ttest's multi_logloss: 0.831507\n",
      "[54]\ttest's multi_logloss: 0.827324\n",
      "[55]\ttest's multi_logloss: 0.82323\n",
      "[56]\ttest's multi_logloss: 0.819102\n",
      "[57]\ttest's multi_logloss: 0.815062\n",
      "[58]\ttest's multi_logloss: 0.810986\n",
      "[59]\ttest's multi_logloss: 0.806999\n",
      "[60]\ttest's multi_logloss: 0.802975\n",
      "[61]\ttest's multi_logloss: 0.798978\n",
      "[62]\ttest's multi_logloss: 0.795067\n",
      "[63]\ttest's multi_logloss: 0.791121\n",
      "[64]\ttest's multi_logloss: 0.787261\n",
      "[65]\ttest's multi_logloss: 0.783364\n",
      "[66]\ttest's multi_logloss: 0.779553\n",
      "[67]\ttest's multi_logloss: 0.775706\n",
      "[68]\ttest's multi_logloss: 0.771883\n",
      "[69]\ttest's multi_logloss: 0.768144\n",
      "[70]\ttest's multi_logloss: 0.764369\n",
      "[71]\ttest's multi_logloss: 0.760677\n",
      "[72]\ttest's multi_logloss: 0.756949\n",
      "[73]\ttest's multi_logloss: 0.753245\n",
      "[74]\ttest's multi_logloss: 0.749622\n",
      "[75]\ttest's multi_logloss: 0.745964\n",
      "[76]\ttest's multi_logloss: 0.742386\n",
      "[77]\ttest's multi_logloss: 0.738773\n",
      "[78]\ttest's multi_logloss: 0.73524\n",
      "[79]\ttest's multi_logloss: 0.731671\n",
      "[80]\ttest's multi_logloss: 0.728124\n",
      "[81]\ttest's multi_logloss: 0.724657\n",
      "[82]\ttest's multi_logloss: 0.721153\n",
      "[83]\ttest's multi_logloss: 0.717729\n",
      "[84]\ttest's multi_logloss: 0.714268\n",
      "[85]\ttest's multi_logloss: 0.710828\n",
      "2020/10/08 10:14:16 WARNING mlflow.models.model: Logging model metadata to the tracking server has failed, possibly due older server version. The model artifacts have been logged successfully under azureml://experiments/lightgbm-mlflow-optuna-dask/runs/978b82f5-8159-42bb-83f1-917b9c1e90f7/artifacts. In addition to exporting model artifacts, MLflow clients 1.7.0 and above attempt to record model metadata to the  tracking store. If logging to a mlflow server via REST, consider  upgrading the server version to MLflow 1.7.0 or above.\n",
      "[I 2020-10-08 10:14:17,825] Trial 2 finished with value: 0.7108281124880419 and parameters: {'num_boost_round': 83, 'boosting': 'gbdt', 'num_iterations': 85, 'num_leaves': 60, 'learning_rate': 0.0034279586754119226}. Best is trial 2 with value: 0.7108281124880419.\n",
      "CPU times: user 9.32 s, sys: 1.08 s, total: 10.4 s\n",
      "Wall time: 1min 4s\n"
     ]
    }
   ],
   "source": [
    "%%time \n",
    "\n",
    "import optuna\n",
    "\n",
    "study = optuna.create_study(direction=\"minimize\", study_name=\"test\")\n",
    "study.optimize(objective, n_trials=8, n_jobs=-1)"
   ]
  },
  {
   "cell_type": "code",
   "execution_count": 7,
   "metadata": {
    "tags": []
   },
   "outputs": [
    {
     "output_type": "stream",
     "name": "stderr",
     "text": [
      "/Users/cody/miniconda3/envs/temp/lib/python3.7/site-packages/ipykernel/ipkernel.py:287: DeprecationWarning: `should_run_async` will not call `transform_cell` automatically in the future. Please pass the result to `transformed_cell` argument and any exception that happen during thetransform in `preprocessing_exc_tuple` in IPython 7.17 and above.\n",
      "  and should_run_async(code)\n",
      "<Client: 'tcp://127.0.0.1:54821' processes=4 threads=8, memory=34.36 GB>\n",
      "http://127.0.0.1:8787/status\n",
      "[I 2020-10-08 10:14:27,685] A new study created in memory with name: test-dask\n",
      "CPU times: user 4min 7s, sys: 6.99 s, total: 4min 14s\n",
      "Wall time: 5min 2s\n"
     ]
    }
   ],
   "source": [
    "%%time \n",
    "\n",
    "import joblib\n",
    "import optuna\n",
    "import dask_optuna\n",
    "from dask.distributed import Client\n",
    "\n",
    "c = Client()\n",
    "print(c)\n",
    "print(c.dashboard_link)\n",
    "\n",
    "sampler = optuna.samplers.TPESampler()\n",
    "storage = dask_optuna.DaskStorage()\n",
    "study = optuna.create_study(\n",
    "    direction=\"minimize\", study_name=\"test-dask\", sampler=sampler, storage=storage\n",
    ")\n",
    "with joblib.parallel_backend(\"dask\"):\n",
    "    study.optimize(objective, n_trials=2000, n_jobs=-1)"
   ]
  },
  {
   "cell_type": "code",
   "execution_count": 8,
   "metadata": {
    "tags": []
   },
   "outputs": [
    {
     "output_type": "stream",
     "name": "stderr",
     "text": [
      "/Users/cody/miniconda3/envs/temp/lib/python3.7/site-packages/ipykernel/ipkernel.py:287: DeprecationWarning: `should_run_async` will not call `transform_cell` automatically in the future. Please pass the result to `transformed_cell` argument and any exception that happen during thetransform in `preprocessing_exc_tuple` in IPython 7.17 and above.\n  and should_run_async(code)\n"
     ]
    },
    {
     "output_type": "execute_result",
     "data": {
      "text/plain": [
       "{'num_boost_round': 85,\n",
       " 'boosting': 'gbdt',\n",
       " 'num_iterations': 100,\n",
       " 'num_leaves': 38,\n",
       " 'learning_rate': 0.09998570960648047}"
      ]
     },
     "metadata": {},
     "execution_count": 8
    }
   ],
   "source": [
    "study.best_params"
   ]
  },
  {
   "cell_type": "code",
   "execution_count": 9,
   "metadata": {
    "tags": []
   },
   "outputs": [
    {
     "output_type": "execute_result",
     "data": {
      "text/plain": [
       "0.017809971521718523"
      ]
     },
     "metadata": {},
     "execution_count": 9
    }
   ],
   "source": [
    "study.best_value"
   ]
  },
  {
   "cell_type": "code",
   "execution_count": 10,
   "metadata": {},
   "outputs": [
    {
     "output_type": "display_data",
     "data": {
      "application/vnd.plotly.v1+json": {
       "config": {
        "plotlyServerURL": "https://plot.ly"
       },
       "data": [
        {
         "mode": "markers",
         "name": "Objective Value",
         "type": "scatter",
         "x": [
          1,
          3,
          5,
          7,
          86,
          93,
          110,
          132,
          159,
          161,
          168,
          170,
          193,
          206,
          207,
          223,
          244,
          246,
          250,
          268,
          298,
          300,
          307,
          320,
          332,
          334,
          338,
          347,
          367,
          370,
          376,
          383,
          403,
          408,
          415,
          423,
          437,
          442,
          449,
          459,
          468,
          475,
          485,
          494,
          501,
          505,
          516,
          522,
          534,
          537,
          547,
          551,
          570,
          572,
          581,
          587,
          604,
          605,
          608,
          617,
          639,
          642,
          644,
          655,
          680,
          683,
          684,
          697,
          717,
          719,
          723,
          725,
          758,
          760,
          764,
          766,
          798,
          804,
          806,
          807,
          827,
          842,
          843,
          845,
          858,
          876,
          877,
          878,
          891,
          907,
          909,
          911,
          923,
          938,
          942,
          945,
          948,
          970,
          982,
          984,
          986,
          1002,
          1013,
          1017,
          1018,
          1030,
          1045,
          1053,
          1054,
          1062,
          1077,
          1082,
          1083,
          1089,
          1102,
          1111,
          1114,
          1121,
          1128,
          1140,
          1144,
          1151,
          1156,
          1169,
          1179,
          1182,
          1188,
          1197,
          1209,
          1212,
          1218,
          1225,
          1232,
          1246,
          1248,
          1257,
          1262,
          1277,
          1280,
          1284,
          1293,
          1305,
          1311,
          1313,
          1321,
          1329,
          1345,
          1346,
          1353,
          1363,
          1369,
          1373,
          1382,
          1389,
          1396,
          1400,
          1409,
          1415,
          1423,
          1428,
          1439,
          1442,
          1446,
          1463,
          1469,
          1471,
          1472,
          1486,
          1499,
          1500,
          1502,
          1516,
          1526,
          1529,
          1534,
          1541,
          1549,
          1559,
          1563,
          1568,
          1579,
          1586,
          1589,
          1599,
          1605,
          1614,
          1619,
          1624,
          1633,
          1640,
          1648,
          1651,
          1657,
          1662,
          1673,
          1680,
          1684,
          1686,
          1694,
          1706,
          1709,
          1712,
          1720,
          1729,
          1732,
          1737,
          1744,
          1760,
          1761,
          1763,
          1769,
          1785,
          1789,
          1793,
          1795,
          1811,
          1815,
          1820,
          1825,
          1834,
          1841,
          1845,
          1847,
          1859,
          1868,
          1871,
          1875,
          1884,
          1895,
          1896,
          1901,
          1907,
          1922,
          1923,
          1930,
          1931,
          1945,
          1946,
          1955,
          1958,
          1972,
          1974,
          1979,
          1981,
          1997
         ],
         "y": [
          0.031207322347233824,
          0.12012980956840244,
          0.2994377058279684,
          0.28880477551081807,
          0.6010487490033912,
          0.4134225094348077,
          1.0909063404021166,
          1.0436050354356192,
          1.0531044983730316,
          1.0618200519191263,
          1.0661581325951903,
          0.9904443619182745,
          0.5583350281921778,
          0.05900531559852726,
          0.057718973578019986,
          0.09809547963211182,
          0.08847477968334641,
          0.8981241165523517,
          0.8891720997013925,
          0.857734421603522,
          0.7457744589061825,
          0.7379894238684165,
          0.7925488422594923,
          0.08622471044683218,
          0.055305829605040525,
          0.05572367235719085,
          0.04935918664280899,
          0.16222173423578976,
          0.1888562251215816,
          0.09021076552487581,
          0.09702655517903844,
          0.0906889164739115,
          0.057702586985030745,
          0.06650847956591735,
          0.055718075742767666,
          0.05238191894727625,
          0.06314828201089764,
          0.2852510747067579,
          0.3260847134954465,
          0.2927923825286391,
          0.2871955527453302,
          0.28783093090890716,
          0.26069054170239125,
          0.0499629570272034,
          0.061854564862024154,
          0.09001606469315075,
          0.08035242437286287,
          0.20826157279642638,
          0.3684287470304853,
          0.08802822898605737,
          0.3568397346147176,
          0.09397734258926062,
          0.03001260804608201,
          0.05302839535374791,
          0.057451055698401525,
          1.0918312861355557,
          1.0827609647562828,
          0.954115870742346,
          0.053901111197357486,
          0.037216081619481874,
          0.06114366046792625,
          0.6186747591684661,
          0.060481472914474706,
          0.21755983725030278,
          0.03622814669193932,
          0.03822138006821,
          0.020562091019169386,
          0.061572691087214707,
          0.040020572475723465,
          0.048053786315009735,
          0.04794782053611068,
          0.0451756162571092,
          0.0667893752143979,
          0.02715441279589902,
          0.08034156315575904,
          0.03322012989548076,
          0.058952020479561815,
          0.061759338358021915,
          0.060094474825411644,
          0.03154257661051349,
          0.03681846487617731,
          0.03435125801438408,
          0.04556342177957814,
          0.032990392286090235,
          0.05913232776896214,
          0.04265988013544797,
          0.05415711058067171,
          0.03620327823834944,
          0.05524584818636346,
          0.28948537705714833,
          0.2495971221677129,
          0.30110367519897074,
          0.29701777592333206,
          0.03577515364772329,
          0.03697927108621119,
          0.029109625555938545,
          0.03072515300611207,
          0.028236262547656446,
          0.028094775359653264,
          0.04415267899611306,
          0.050962355876746156,
          0.039786782118446204,
          0.02921836482508267,
          0.02464300286931203,
          0.022500416841108452,
          0.035995511768231125,
          0.03524462523521136,
          0.029086232941513992,
          0.031716290490617395,
          1.068677518793843,
          0.03454520457867071,
          0.042556913483821214,
          0.04608169415111617,
          0.9969152150613177,
          0.9877885022592451,
          0.038788434793858836,
          0.03607490557530761,
          0.03856206695388413,
          0.029795265839519504,
          0.026353057774091575,
          0.02713430524312434,
          0.7039159570871889,
          0.04827975453881176,
          0.038145344780637774,
          0.03816915460319303,
          0.029445058892617185,
          0.03884347367562468,
          0.0371939937132769,
          0.024301754562319047,
          0.09452884532182113,
          0.08905996418159921,
          0.8401597910749035,
          0.03669950446192046,
          0.029283855321417293,
          0.04153120901466166,
          0.028830748071901134,
          0.0355679808368883,
          0.0360172572599789,
          0.03627488452769216,
          0.032925173901310216,
          0.03527172655503319,
          0.024893781826098287,
          0.01947381693873203,
          0.026179486720766077,
          0.028371765400931562,
          0.04241424203152324,
          0.03477238126455958,
          0.04431387926742021,
          0.03905529189642477,
          0.03940137035451139,
          0.025168839197863,
          0.029560977538305815,
          0.0273653410608386,
          0.021457689919071113,
          0.03721440476084243,
          0.028102034221155973,
          0.04473470114833491,
          0.04680798418545774,
          0.18090311311325905,
          0.04110439129531152,
          0.030340446272175196,
          0.027150221258316985,
          0.03209623245856621,
          0.03835905776243597,
          0.029595492255392455,
          0.040854779323599676,
          0.026630356016479673,
          0.03988616007736081,
          0.03761968220895259,
          0.05700315781498724,
          0.03139866333035715,
          0.03180950889579754,
          0.02510271381295833,
          0.0233721541746714,
          0.018483847128070604,
          0.024058523864249278,
          0.03386558000212739,
          0.03444280156595145,
          0.03444333683520775,
          0.027173755298498706,
          0.41988071148276335,
          0.028417110248473192,
          0.789945353089444,
          0.03614825383211628,
          0.02326211018505169,
          0.03392278358197355,
          0.03163245533941394,
          0.03793939763688155,
          0.03451818772843193,
          0.03103687562983354,
          0.02370423941385263,
          0.037125963918994476,
          0.025486269575963904,
          0.029702443889217656,
          0.030502877064955764,
          0.032499603101158285,
          0.03892494845668521,
          0.23438205128365502,
          0.03428477033107629,
          0.03824413319952876,
          0.033223283484228205,
          0.028403621232859364,
          0.03578256889614147,
          0.03754984747159343,
          0.0362107525450731,
          0.042463872863592766,
          0.04073190085923963,
          0.26100317199814277,
          0.028136789059182647,
          0.2469830797113991,
          0.26117713663301545,
          0.022145764497728048,
          0.027279924784758144,
          0.02171711226232945,
          0.025782873136119332,
          0.026475531407278815,
          0.020815331041857888,
          0.02642093477562285,
          0.023815866572049132,
          0.028913569760538955,
          0.03116770915507291,
          0.017809971521718523,
          0.033171527234802885,
          0.02380040837681824,
          0.025602809995698347,
          0.039230998606803874,
          0.03265847577681195,
          0.02584788881908544,
          0.029375235291057563,
          0.02428258512935064,
          0.036463019314980645,
          0.043199323764430204,
          0.022622330102669792,
          0.018706528121429457,
          0.02457503325468115,
          0.03266747750776665,
          0.02325905995592399,
          0.02998824743156371,
          0.04150649000794586,
          0.029779649542773023,
          0.027636389631691936,
          0.027636911082217445,
          0.03512625855070704,
          0.02505735688094351,
          0.029591681320577806
         ]
        },
        {
         "name": "Best Value",
         "type": "scatter",
         "x": [
          1,
          3,
          5,
          7,
          86,
          93,
          110,
          132,
          159,
          161,
          168,
          170,
          193,
          206,
          207,
          223,
          244,
          246,
          250,
          268,
          298,
          300,
          307,
          320,
          332,
          334,
          338,
          347,
          367,
          370,
          376,
          383,
          403,
          408,
          415,
          423,
          437,
          442,
          449,
          459,
          468,
          475,
          485,
          494,
          501,
          505,
          516,
          522,
          534,
          537,
          547,
          551,
          570,
          572,
          581,
          587,
          604,
          605,
          608,
          617,
          639,
          642,
          644,
          655,
          680,
          683,
          684,
          697,
          717,
          719,
          723,
          725,
          758,
          760,
          764,
          766,
          798,
          804,
          806,
          807,
          827,
          842,
          843,
          845,
          858,
          876,
          877,
          878,
          891,
          907,
          909,
          911,
          923,
          938,
          942,
          945,
          948,
          970,
          982,
          984,
          986,
          1002,
          1013,
          1017,
          1018,
          1030,
          1045,
          1053,
          1054,
          1062,
          1077,
          1082,
          1083,
          1089,
          1102,
          1111,
          1114,
          1121,
          1128,
          1140,
          1144,
          1151,
          1156,
          1169,
          1179,
          1182,
          1188,
          1197,
          1209,
          1212,
          1218,
          1225,
          1232,
          1246,
          1248,
          1257,
          1262,
          1277,
          1280,
          1284,
          1293,
          1305,
          1311,
          1313,
          1321,
          1329,
          1345,
          1346,
          1353,
          1363,
          1369,
          1373,
          1382,
          1389,
          1396,
          1400,
          1409,
          1415,
          1423,
          1428,
          1439,
          1442,
          1446,
          1463,
          1469,
          1471,
          1472,
          1486,
          1499,
          1500,
          1502,
          1516,
          1526,
          1529,
          1534,
          1541,
          1549,
          1559,
          1563,
          1568,
          1579,
          1586,
          1589,
          1599,
          1605,
          1614,
          1619,
          1624,
          1633,
          1640,
          1648,
          1651,
          1657,
          1662,
          1673,
          1680,
          1684,
          1686,
          1694,
          1706,
          1709,
          1712,
          1720,
          1729,
          1732,
          1737,
          1744,
          1760,
          1761,
          1763,
          1769,
          1785,
          1789,
          1793,
          1795,
          1811,
          1815,
          1820,
          1825,
          1834,
          1841,
          1845,
          1847,
          1859,
          1868,
          1871,
          1875,
          1884,
          1895,
          1896,
          1901,
          1907,
          1922,
          1923,
          1930,
          1931,
          1945,
          1946,
          1955,
          1958,
          1972,
          1974,
          1979,
          1981,
          1997
         ],
         "y": [
          0.031207322347233824,
          0.031207322347233824,
          0.031207322347233824,
          0.031207322347233824,
          0.031207322347233824,
          0.031207322347233824,
          0.031207322347233824,
          0.031207322347233824,
          0.031207322347233824,
          0.031207322347233824,
          0.031207322347233824,
          0.031207322347233824,
          0.031207322347233824,
          0.031207322347233824,
          0.031207322347233824,
          0.031207322347233824,
          0.031207322347233824,
          0.031207322347233824,
          0.031207322347233824,
          0.031207322347233824,
          0.031207322347233824,
          0.031207322347233824,
          0.031207322347233824,
          0.031207322347233824,
          0.031207322347233824,
          0.031207322347233824,
          0.031207322347233824,
          0.031207322347233824,
          0.031207322347233824,
          0.031207322347233824,
          0.031207322347233824,
          0.031207322347233824,
          0.031207322347233824,
          0.031207322347233824,
          0.031207322347233824,
          0.031207322347233824,
          0.031207322347233824,
          0.031207322347233824,
          0.031207322347233824,
          0.031207322347233824,
          0.031207322347233824,
          0.031207322347233824,
          0.031207322347233824,
          0.031207322347233824,
          0.031207322347233824,
          0.031207322347233824,
          0.031207322347233824,
          0.031207322347233824,
          0.031207322347233824,
          0.031207322347233824,
          0.031207322347233824,
          0.031207322347233824,
          0.03001260804608201,
          0.03001260804608201,
          0.03001260804608201,
          0.03001260804608201,
          0.03001260804608201,
          0.03001260804608201,
          0.03001260804608201,
          0.03001260804608201,
          0.03001260804608201,
          0.03001260804608201,
          0.03001260804608201,
          0.03001260804608201,
          0.03001260804608201,
          0.03001260804608201,
          0.020562091019169386,
          0.020562091019169386,
          0.020562091019169386,
          0.020562091019169386,
          0.020562091019169386,
          0.020562091019169386,
          0.020562091019169386,
          0.020562091019169386,
          0.020562091019169386,
          0.020562091019169386,
          0.020562091019169386,
          0.020562091019169386,
          0.020562091019169386,
          0.020562091019169386,
          0.020562091019169386,
          0.020562091019169386,
          0.020562091019169386,
          0.020562091019169386,
          0.020562091019169386,
          0.020562091019169386,
          0.020562091019169386,
          0.020562091019169386,
          0.020562091019169386,
          0.020562091019169386,
          0.020562091019169386,
          0.020562091019169386,
          0.020562091019169386,
          0.020562091019169386,
          0.020562091019169386,
          0.020562091019169386,
          0.020562091019169386,
          0.020562091019169386,
          0.020562091019169386,
          0.020562091019169386,
          0.020562091019169386,
          0.020562091019169386,
          0.020562091019169386,
          0.020562091019169386,
          0.020562091019169386,
          0.020562091019169386,
          0.020562091019169386,
          0.020562091019169386,
          0.020562091019169386,
          0.020562091019169386,
          0.020562091019169386,
          0.020562091019169386,
          0.020562091019169386,
          0.020562091019169386,
          0.020562091019169386,
          0.020562091019169386,
          0.020562091019169386,
          0.020562091019169386,
          0.020562091019169386,
          0.020562091019169386,
          0.020562091019169386,
          0.020562091019169386,
          0.020562091019169386,
          0.020562091019169386,
          0.020562091019169386,
          0.020562091019169386,
          0.020562091019169386,
          0.020562091019169386,
          0.020562091019169386,
          0.020562091019169386,
          0.020562091019169386,
          0.020562091019169386,
          0.020562091019169386,
          0.020562091019169386,
          0.020562091019169386,
          0.020562091019169386,
          0.020562091019169386,
          0.020562091019169386,
          0.020562091019169386,
          0.020562091019169386,
          0.020562091019169386,
          0.020562091019169386,
          0.01947381693873203,
          0.01947381693873203,
          0.01947381693873203,
          0.01947381693873203,
          0.01947381693873203,
          0.01947381693873203,
          0.01947381693873203,
          0.01947381693873203,
          0.01947381693873203,
          0.01947381693873203,
          0.01947381693873203,
          0.01947381693873203,
          0.01947381693873203,
          0.01947381693873203,
          0.01947381693873203,
          0.01947381693873203,
          0.01947381693873203,
          0.01947381693873203,
          0.01947381693873203,
          0.01947381693873203,
          0.01947381693873203,
          0.01947381693873203,
          0.01947381693873203,
          0.01947381693873203,
          0.01947381693873203,
          0.01947381693873203,
          0.01947381693873203,
          0.01947381693873203,
          0.01947381693873203,
          0.01947381693873203,
          0.01947381693873203,
          0.01947381693873203,
          0.018483847128070604,
          0.018483847128070604,
          0.018483847128070604,
          0.018483847128070604,
          0.018483847128070604,
          0.018483847128070604,
          0.018483847128070604,
          0.018483847128070604,
          0.018483847128070604,
          0.018483847128070604,
          0.018483847128070604,
          0.018483847128070604,
          0.018483847128070604,
          0.018483847128070604,
          0.018483847128070604,
          0.018483847128070604,
          0.018483847128070604,
          0.018483847128070604,
          0.018483847128070604,
          0.018483847128070604,
          0.018483847128070604,
          0.018483847128070604,
          0.018483847128070604,
          0.018483847128070604,
          0.018483847128070604,
          0.018483847128070604,
          0.018483847128070604,
          0.018483847128070604,
          0.018483847128070604,
          0.018483847128070604,
          0.018483847128070604,
          0.018483847128070604,
          0.018483847128070604,
          0.018483847128070604,
          0.018483847128070604,
          0.018483847128070604,
          0.018483847128070604,
          0.018483847128070604,
          0.018483847128070604,
          0.018483847128070604,
          0.018483847128070604,
          0.018483847128070604,
          0.018483847128070604,
          0.018483847128070604,
          0.018483847128070604,
          0.018483847128070604,
          0.018483847128070604,
          0.017809971521718523,
          0.017809971521718523,
          0.017809971521718523,
          0.017809971521718523,
          0.017809971521718523,
          0.017809971521718523,
          0.017809971521718523,
          0.017809971521718523,
          0.017809971521718523,
          0.017809971521718523,
          0.017809971521718523,
          0.017809971521718523,
          0.017809971521718523,
          0.017809971521718523,
          0.017809971521718523,
          0.017809971521718523,
          0.017809971521718523,
          0.017809971521718523,
          0.017809971521718523,
          0.017809971521718523,
          0.017809971521718523,
          0.017809971521718523,
          0.017809971521718523,
          0.017809971521718523
         ]
        }
       ],
       "layout": {
        "template": {
         "data": {
          "bar": [
           {
            "error_x": {
             "color": "#2a3f5f"
            },
            "error_y": {
             "color": "#2a3f5f"
            },
            "marker": {
             "line": {
              "color": "#E5ECF6",
              "width": 0.5
             }
            },
            "type": "bar"
           }
          ],
          "barpolar": [
           {
            "marker": {
             "line": {
              "color": "#E5ECF6",
              "width": 0.5
             }
            },
            "type": "barpolar"
           }
          ],
          "carpet": [
           {
            "aaxis": {
             "endlinecolor": "#2a3f5f",
             "gridcolor": "white",
             "linecolor": "white",
             "minorgridcolor": "white",
             "startlinecolor": "#2a3f5f"
            },
            "baxis": {
             "endlinecolor": "#2a3f5f",
             "gridcolor": "white",
             "linecolor": "white",
             "minorgridcolor": "white",
             "startlinecolor": "#2a3f5f"
            },
            "type": "carpet"
           }
          ],
          "choropleth": [
           {
            "colorbar": {
             "outlinewidth": 0,
             "ticks": ""
            },
            "type": "choropleth"
           }
          ],
          "contour": [
           {
            "colorbar": {
             "outlinewidth": 0,
             "ticks": ""
            },
            "colorscale": [
             [
              0,
              "#0d0887"
             ],
             [
              0.1111111111111111,
              "#46039f"
             ],
             [
              0.2222222222222222,
              "#7201a8"
             ],
             [
              0.3333333333333333,
              "#9c179e"
             ],
             [
              0.4444444444444444,
              "#bd3786"
             ],
             [
              0.5555555555555556,
              "#d8576b"
             ],
             [
              0.6666666666666666,
              "#ed7953"
             ],
             [
              0.7777777777777778,
              "#fb9f3a"
             ],
             [
              0.8888888888888888,
              "#fdca26"
             ],
             [
              1,
              "#f0f921"
             ]
            ],
            "type": "contour"
           }
          ],
          "contourcarpet": [
           {
            "colorbar": {
             "outlinewidth": 0,
             "ticks": ""
            },
            "type": "contourcarpet"
           }
          ],
          "heatmap": [
           {
            "colorbar": {
             "outlinewidth": 0,
             "ticks": ""
            },
            "colorscale": [
             [
              0,
              "#0d0887"
             ],
             [
              0.1111111111111111,
              "#46039f"
             ],
             [
              0.2222222222222222,
              "#7201a8"
             ],
             [
              0.3333333333333333,
              "#9c179e"
             ],
             [
              0.4444444444444444,
              "#bd3786"
             ],
             [
              0.5555555555555556,
              "#d8576b"
             ],
             [
              0.6666666666666666,
              "#ed7953"
             ],
             [
              0.7777777777777778,
              "#fb9f3a"
             ],
             [
              0.8888888888888888,
              "#fdca26"
             ],
             [
              1,
              "#f0f921"
             ]
            ],
            "type": "heatmap"
           }
          ],
          "heatmapgl": [
           {
            "colorbar": {
             "outlinewidth": 0,
             "ticks": ""
            },
            "colorscale": [
             [
              0,
              "#0d0887"
             ],
             [
              0.1111111111111111,
              "#46039f"
             ],
             [
              0.2222222222222222,
              "#7201a8"
             ],
             [
              0.3333333333333333,
              "#9c179e"
             ],
             [
              0.4444444444444444,
              "#bd3786"
             ],
             [
              0.5555555555555556,
              "#d8576b"
             ],
             [
              0.6666666666666666,
              "#ed7953"
             ],
             [
              0.7777777777777778,
              "#fb9f3a"
             ],
             [
              0.8888888888888888,
              "#fdca26"
             ],
             [
              1,
              "#f0f921"
             ]
            ],
            "type": "heatmapgl"
           }
          ],
          "histogram": [
           {
            "marker": {
             "colorbar": {
              "outlinewidth": 0,
              "ticks": ""
             }
            },
            "type": "histogram"
           }
          ],
          "histogram2d": [
           {
            "colorbar": {
             "outlinewidth": 0,
             "ticks": ""
            },
            "colorscale": [
             [
              0,
              "#0d0887"
             ],
             [
              0.1111111111111111,
              "#46039f"
             ],
             [
              0.2222222222222222,
              "#7201a8"
             ],
             [
              0.3333333333333333,
              "#9c179e"
             ],
             [
              0.4444444444444444,
              "#bd3786"
             ],
             [
              0.5555555555555556,
              "#d8576b"
             ],
             [
              0.6666666666666666,
              "#ed7953"
             ],
             [
              0.7777777777777778,
              "#fb9f3a"
             ],
             [
              0.8888888888888888,
              "#fdca26"
             ],
             [
              1,
              "#f0f921"
             ]
            ],
            "type": "histogram2d"
           }
          ],
          "histogram2dcontour": [
           {
            "colorbar": {
             "outlinewidth": 0,
             "ticks": ""
            },
            "colorscale": [
             [
              0,
              "#0d0887"
             ],
             [
              0.1111111111111111,
              "#46039f"
             ],
             [
              0.2222222222222222,
              "#7201a8"
             ],
             [
              0.3333333333333333,
              "#9c179e"
             ],
             [
              0.4444444444444444,
              "#bd3786"
             ],
             [
              0.5555555555555556,
              "#d8576b"
             ],
             [
              0.6666666666666666,
              "#ed7953"
             ],
             [
              0.7777777777777778,
              "#fb9f3a"
             ],
             [
              0.8888888888888888,
              "#fdca26"
             ],
             [
              1,
              "#f0f921"
             ]
            ],
            "type": "histogram2dcontour"
           }
          ],
          "mesh3d": [
           {
            "colorbar": {
             "outlinewidth": 0,
             "ticks": ""
            },
            "type": "mesh3d"
           }
          ],
          "parcoords": [
           {
            "line": {
             "colorbar": {
              "outlinewidth": 0,
              "ticks": ""
             }
            },
            "type": "parcoords"
           }
          ],
          "pie": [
           {
            "automargin": true,
            "type": "pie"
           }
          ],
          "scatter": [
           {
            "marker": {
             "colorbar": {
              "outlinewidth": 0,
              "ticks": ""
             }
            },
            "type": "scatter"
           }
          ],
          "scatter3d": [
           {
            "line": {
             "colorbar": {
              "outlinewidth": 0,
              "ticks": ""
             }
            },
            "marker": {
             "colorbar": {
              "outlinewidth": 0,
              "ticks": ""
             }
            },
            "type": "scatter3d"
           }
          ],
          "scattercarpet": [
           {
            "marker": {
             "colorbar": {
              "outlinewidth": 0,
              "ticks": ""
             }
            },
            "type": "scattercarpet"
           }
          ],
          "scattergeo": [
           {
            "marker": {
             "colorbar": {
              "outlinewidth": 0,
              "ticks": ""
             }
            },
            "type": "scattergeo"
           }
          ],
          "scattergl": [
           {
            "marker": {
             "colorbar": {
              "outlinewidth": 0,
              "ticks": ""
             }
            },
            "type": "scattergl"
           }
          ],
          "scattermapbox": [
           {
            "marker": {
             "colorbar": {
              "outlinewidth": 0,
              "ticks": ""
             }
            },
            "type": "scattermapbox"
           }
          ],
          "scatterpolar": [
           {
            "marker": {
             "colorbar": {
              "outlinewidth": 0,
              "ticks": ""
             }
            },
            "type": "scatterpolar"
           }
          ],
          "scatterpolargl": [
           {
            "marker": {
             "colorbar": {
              "outlinewidth": 0,
              "ticks": ""
             }
            },
            "type": "scatterpolargl"
           }
          ],
          "scatterternary": [
           {
            "marker": {
             "colorbar": {
              "outlinewidth": 0,
              "ticks": ""
             }
            },
            "type": "scatterternary"
           }
          ],
          "surface": [
           {
            "colorbar": {
             "outlinewidth": 0,
             "ticks": ""
            },
            "colorscale": [
             [
              0,
              "#0d0887"
             ],
             [
              0.1111111111111111,
              "#46039f"
             ],
             [
              0.2222222222222222,
              "#7201a8"
             ],
             [
              0.3333333333333333,
              "#9c179e"
             ],
             [
              0.4444444444444444,
              "#bd3786"
             ],
             [
              0.5555555555555556,
              "#d8576b"
             ],
             [
              0.6666666666666666,
              "#ed7953"
             ],
             [
              0.7777777777777778,
              "#fb9f3a"
             ],
             [
              0.8888888888888888,
              "#fdca26"
             ],
             [
              1,
              "#f0f921"
             ]
            ],
            "type": "surface"
           }
          ],
          "table": [
           {
            "cells": {
             "fill": {
              "color": "#EBF0F8"
             },
             "line": {
              "color": "white"
             }
            },
            "header": {
             "fill": {
              "color": "#C8D4E3"
             },
             "line": {
              "color": "white"
             }
            },
            "type": "table"
           }
          ]
         },
         "layout": {
          "annotationdefaults": {
           "arrowcolor": "#2a3f5f",
           "arrowhead": 0,
           "arrowwidth": 1
          },
          "coloraxis": {
           "colorbar": {
            "outlinewidth": 0,
            "ticks": ""
           }
          },
          "colorscale": {
           "diverging": [
            [
             0,
             "#8e0152"
            ],
            [
             0.1,
             "#c51b7d"
            ],
            [
             0.2,
             "#de77ae"
            ],
            [
             0.3,
             "#f1b6da"
            ],
            [
             0.4,
             "#fde0ef"
            ],
            [
             0.5,
             "#f7f7f7"
            ],
            [
             0.6,
             "#e6f5d0"
            ],
            [
             0.7,
             "#b8e186"
            ],
            [
             0.8,
             "#7fbc41"
            ],
            [
             0.9,
             "#4d9221"
            ],
            [
             1,
             "#276419"
            ]
           ],
           "sequential": [
            [
             0,
             "#0d0887"
            ],
            [
             0.1111111111111111,
             "#46039f"
            ],
            [
             0.2222222222222222,
             "#7201a8"
            ],
            [
             0.3333333333333333,
             "#9c179e"
            ],
            [
             0.4444444444444444,
             "#bd3786"
            ],
            [
             0.5555555555555556,
             "#d8576b"
            ],
            [
             0.6666666666666666,
             "#ed7953"
            ],
            [
             0.7777777777777778,
             "#fb9f3a"
            ],
            [
             0.8888888888888888,
             "#fdca26"
            ],
            [
             1,
             "#f0f921"
            ]
           ],
           "sequentialminus": [
            [
             0,
             "#0d0887"
            ],
            [
             0.1111111111111111,
             "#46039f"
            ],
            [
             0.2222222222222222,
             "#7201a8"
            ],
            [
             0.3333333333333333,
             "#9c179e"
            ],
            [
             0.4444444444444444,
             "#bd3786"
            ],
            [
             0.5555555555555556,
             "#d8576b"
            ],
            [
             0.6666666666666666,
             "#ed7953"
            ],
            [
             0.7777777777777778,
             "#fb9f3a"
            ],
            [
             0.8888888888888888,
             "#fdca26"
            ],
            [
             1,
             "#f0f921"
            ]
           ]
          },
          "colorway": [
           "#636efa",
           "#EF553B",
           "#00cc96",
           "#ab63fa",
           "#FFA15A",
           "#19d3f3",
           "#FF6692",
           "#B6E880",
           "#FF97FF",
           "#FECB52"
          ],
          "font": {
           "color": "#2a3f5f"
          },
          "geo": {
           "bgcolor": "white",
           "lakecolor": "white",
           "landcolor": "#E5ECF6",
           "showlakes": true,
           "showland": true,
           "subunitcolor": "white"
          },
          "hoverlabel": {
           "align": "left"
          },
          "hovermode": "closest",
          "mapbox": {
           "style": "light"
          },
          "paper_bgcolor": "white",
          "plot_bgcolor": "#E5ECF6",
          "polar": {
           "angularaxis": {
            "gridcolor": "white",
            "linecolor": "white",
            "ticks": ""
           },
           "bgcolor": "#E5ECF6",
           "radialaxis": {
            "gridcolor": "white",
            "linecolor": "white",
            "ticks": ""
           }
          },
          "scene": {
           "xaxis": {
            "backgroundcolor": "#E5ECF6",
            "gridcolor": "white",
            "gridwidth": 2,
            "linecolor": "white",
            "showbackground": true,
            "ticks": "",
            "zerolinecolor": "white"
           },
           "yaxis": {
            "backgroundcolor": "#E5ECF6",
            "gridcolor": "white",
            "gridwidth": 2,
            "linecolor": "white",
            "showbackground": true,
            "ticks": "",
            "zerolinecolor": "white"
           },
           "zaxis": {
            "backgroundcolor": "#E5ECF6",
            "gridcolor": "white",
            "gridwidth": 2,
            "linecolor": "white",
            "showbackground": true,
            "ticks": "",
            "zerolinecolor": "white"
           }
          },
          "shapedefaults": {
           "line": {
            "color": "#2a3f5f"
           }
          },
          "ternary": {
           "aaxis": {
            "gridcolor": "white",
            "linecolor": "white",
            "ticks": ""
           },
           "baxis": {
            "gridcolor": "white",
            "linecolor": "white",
            "ticks": ""
           },
           "bgcolor": "#E5ECF6",
           "caxis": {
            "gridcolor": "white",
            "linecolor": "white",
            "ticks": ""
           }
          },
          "title": {
           "x": 0.05
          },
          "xaxis": {
           "automargin": true,
           "gridcolor": "white",
           "linecolor": "white",
           "ticks": "",
           "title": {
            "standoff": 15
           },
           "zerolinecolor": "white",
           "zerolinewidth": 2
          },
          "yaxis": {
           "automargin": true,
           "gridcolor": "white",
           "linecolor": "white",
           "ticks": "",
           "title": {
            "standoff": 15
           },
           "zerolinecolor": "white",
           "zerolinewidth": 2
          }
         }
        },
        "title": {
         "text": "Optimization History Plot"
        },
        "xaxis": {
         "title": {
          "text": "#Trials"
         }
        },
        "yaxis": {
         "title": {
          "text": "Objective Value"
         }
        }
       }
      }
     },
     "metadata": {}
    }
   ],
   "source": [
    "optuna.visualization.plot_optimization_history(study)"
   ]
  },
  {
   "cell_type": "code",
   "execution_count": 11,
   "metadata": {
    "tags": []
   },
   "outputs": [
    {
     "output_type": "stream",
     "name": "stderr",
     "text": [
      "/Users/cody/miniconda3/envs/temp/lib/python3.7/site-packages/ipykernel/ipkernel.py:287: DeprecationWarning:\n\n`should_run_async` will not call `transform_cell` automatically in the future. Please pass the result to `transformed_cell` argument and any exception that happen during thetransform in `preprocessing_exc_tuple` in IPython 7.17 and above.\n\n"
     ]
    },
    {
     "output_type": "display_data",
     "data": {
      "application/vnd.plotly.v1+json": {
       "config": {
        "plotlyServerURL": "https://plot.ly"
       },
       "data": [
        {
         "cliponaxis": false,
         "hovertemplate": [
          "num_leaves (IntUniformDistribution): 0.0017679093747378302<extra></extra>",
          "num_boost_round (IntUniformDistribution): 0.0036994796867144642<extra></extra>",
          "num_iterations (IntUniformDistribution): 0.02167367386388848<extra></extra>",
          "boosting (CategoricalDistribution): 0.11255372153931867<extra></extra>",
          "learning_rate (LogUniformDistribution): 0.8603052155353405<extra></extra>"
         ],
         "marker": {
          "color": [
           "rgb(8,81,156)",
           "rgb(8,81,156)",
           "rgb(8,81,156)",
           "rgb(66,146,198)",
           "rgb(8,48,107)"
          ]
         },
         "orientation": "h",
         "text": [
          "0.0017679093747378302",
          "0.0036994796867144642",
          "0.02167367386388848",
          "0.11255372153931867",
          "0.8603052155353405"
         ],
         "textposition": "outside",
         "texttemplate": "%{text:.2f}",
         "type": "bar",
         "x": [
          0.0017679093747378302,
          0.0036994796867144642,
          0.02167367386388848,
          0.11255372153931867,
          0.8603052155353405
         ],
         "y": [
          "num_leaves",
          "num_boost_round",
          "num_iterations",
          "boosting",
          "learning_rate"
         ]
        }
       ],
       "layout": {
        "showlegend": false,
        "template": {
         "data": {
          "bar": [
           {
            "error_x": {
             "color": "#2a3f5f"
            },
            "error_y": {
             "color": "#2a3f5f"
            },
            "marker": {
             "line": {
              "color": "#E5ECF6",
              "width": 0.5
             }
            },
            "type": "bar"
           }
          ],
          "barpolar": [
           {
            "marker": {
             "line": {
              "color": "#E5ECF6",
              "width": 0.5
             }
            },
            "type": "barpolar"
           }
          ],
          "carpet": [
           {
            "aaxis": {
             "endlinecolor": "#2a3f5f",
             "gridcolor": "white",
             "linecolor": "white",
             "minorgridcolor": "white",
             "startlinecolor": "#2a3f5f"
            },
            "baxis": {
             "endlinecolor": "#2a3f5f",
             "gridcolor": "white",
             "linecolor": "white",
             "minorgridcolor": "white",
             "startlinecolor": "#2a3f5f"
            },
            "type": "carpet"
           }
          ],
          "choropleth": [
           {
            "colorbar": {
             "outlinewidth": 0,
             "ticks": ""
            },
            "type": "choropleth"
           }
          ],
          "contour": [
           {
            "colorbar": {
             "outlinewidth": 0,
             "ticks": ""
            },
            "colorscale": [
             [
              0,
              "#0d0887"
             ],
             [
              0.1111111111111111,
              "#46039f"
             ],
             [
              0.2222222222222222,
              "#7201a8"
             ],
             [
              0.3333333333333333,
              "#9c179e"
             ],
             [
              0.4444444444444444,
              "#bd3786"
             ],
             [
              0.5555555555555556,
              "#d8576b"
             ],
             [
              0.6666666666666666,
              "#ed7953"
             ],
             [
              0.7777777777777778,
              "#fb9f3a"
             ],
             [
              0.8888888888888888,
              "#fdca26"
             ],
             [
              1,
              "#f0f921"
             ]
            ],
            "type": "contour"
           }
          ],
          "contourcarpet": [
           {
            "colorbar": {
             "outlinewidth": 0,
             "ticks": ""
            },
            "type": "contourcarpet"
           }
          ],
          "heatmap": [
           {
            "colorbar": {
             "outlinewidth": 0,
             "ticks": ""
            },
            "colorscale": [
             [
              0,
              "#0d0887"
             ],
             [
              0.1111111111111111,
              "#46039f"
             ],
             [
              0.2222222222222222,
              "#7201a8"
             ],
             [
              0.3333333333333333,
              "#9c179e"
             ],
             [
              0.4444444444444444,
              "#bd3786"
             ],
             [
              0.5555555555555556,
              "#d8576b"
             ],
             [
              0.6666666666666666,
              "#ed7953"
             ],
             [
              0.7777777777777778,
              "#fb9f3a"
             ],
             [
              0.8888888888888888,
              "#fdca26"
             ],
             [
              1,
              "#f0f921"
             ]
            ],
            "type": "heatmap"
           }
          ],
          "heatmapgl": [
           {
            "colorbar": {
             "outlinewidth": 0,
             "ticks": ""
            },
            "colorscale": [
             [
              0,
              "#0d0887"
             ],
             [
              0.1111111111111111,
              "#46039f"
             ],
             [
              0.2222222222222222,
              "#7201a8"
             ],
             [
              0.3333333333333333,
              "#9c179e"
             ],
             [
              0.4444444444444444,
              "#bd3786"
             ],
             [
              0.5555555555555556,
              "#d8576b"
             ],
             [
              0.6666666666666666,
              "#ed7953"
             ],
             [
              0.7777777777777778,
              "#fb9f3a"
             ],
             [
              0.8888888888888888,
              "#fdca26"
             ],
             [
              1,
              "#f0f921"
             ]
            ],
            "type": "heatmapgl"
           }
          ],
          "histogram": [
           {
            "marker": {
             "colorbar": {
              "outlinewidth": 0,
              "ticks": ""
             }
            },
            "type": "histogram"
           }
          ],
          "histogram2d": [
           {
            "colorbar": {
             "outlinewidth": 0,
             "ticks": ""
            },
            "colorscale": [
             [
              0,
              "#0d0887"
             ],
             [
              0.1111111111111111,
              "#46039f"
             ],
             [
              0.2222222222222222,
              "#7201a8"
             ],
             [
              0.3333333333333333,
              "#9c179e"
             ],
             [
              0.4444444444444444,
              "#bd3786"
             ],
             [
              0.5555555555555556,
              "#d8576b"
             ],
             [
              0.6666666666666666,
              "#ed7953"
             ],
             [
              0.7777777777777778,
              "#fb9f3a"
             ],
             [
              0.8888888888888888,
              "#fdca26"
             ],
             [
              1,
              "#f0f921"
             ]
            ],
            "type": "histogram2d"
           }
          ],
          "histogram2dcontour": [
           {
            "colorbar": {
             "outlinewidth": 0,
             "ticks": ""
            },
            "colorscale": [
             [
              0,
              "#0d0887"
             ],
             [
              0.1111111111111111,
              "#46039f"
             ],
             [
              0.2222222222222222,
              "#7201a8"
             ],
             [
              0.3333333333333333,
              "#9c179e"
             ],
             [
              0.4444444444444444,
              "#bd3786"
             ],
             [
              0.5555555555555556,
              "#d8576b"
             ],
             [
              0.6666666666666666,
              "#ed7953"
             ],
             [
              0.7777777777777778,
              "#fb9f3a"
             ],
             [
              0.8888888888888888,
              "#fdca26"
             ],
             [
              1,
              "#f0f921"
             ]
            ],
            "type": "histogram2dcontour"
           }
          ],
          "mesh3d": [
           {
            "colorbar": {
             "outlinewidth": 0,
             "ticks": ""
            },
            "type": "mesh3d"
           }
          ],
          "parcoords": [
           {
            "line": {
             "colorbar": {
              "outlinewidth": 0,
              "ticks": ""
             }
            },
            "type": "parcoords"
           }
          ],
          "pie": [
           {
            "automargin": true,
            "type": "pie"
           }
          ],
          "scatter": [
           {
            "marker": {
             "colorbar": {
              "outlinewidth": 0,
              "ticks": ""
             }
            },
            "type": "scatter"
           }
          ],
          "scatter3d": [
           {
            "line": {
             "colorbar": {
              "outlinewidth": 0,
              "ticks": ""
             }
            },
            "marker": {
             "colorbar": {
              "outlinewidth": 0,
              "ticks": ""
             }
            },
            "type": "scatter3d"
           }
          ],
          "scattercarpet": [
           {
            "marker": {
             "colorbar": {
              "outlinewidth": 0,
              "ticks": ""
             }
            },
            "type": "scattercarpet"
           }
          ],
          "scattergeo": [
           {
            "marker": {
             "colorbar": {
              "outlinewidth": 0,
              "ticks": ""
             }
            },
            "type": "scattergeo"
           }
          ],
          "scattergl": [
           {
            "marker": {
             "colorbar": {
              "outlinewidth": 0,
              "ticks": ""
             }
            },
            "type": "scattergl"
           }
          ],
          "scattermapbox": [
           {
            "marker": {
             "colorbar": {
              "outlinewidth": 0,
              "ticks": ""
             }
            },
            "type": "scattermapbox"
           }
          ],
          "scatterpolar": [
           {
            "marker": {
             "colorbar": {
              "outlinewidth": 0,
              "ticks": ""
             }
            },
            "type": "scatterpolar"
           }
          ],
          "scatterpolargl": [
           {
            "marker": {
             "colorbar": {
              "outlinewidth": 0,
              "ticks": ""
             }
            },
            "type": "scatterpolargl"
           }
          ],
          "scatterternary": [
           {
            "marker": {
             "colorbar": {
              "outlinewidth": 0,
              "ticks": ""
             }
            },
            "type": "scatterternary"
           }
          ],
          "surface": [
           {
            "colorbar": {
             "outlinewidth": 0,
             "ticks": ""
            },
            "colorscale": [
             [
              0,
              "#0d0887"
             ],
             [
              0.1111111111111111,
              "#46039f"
             ],
             [
              0.2222222222222222,
              "#7201a8"
             ],
             [
              0.3333333333333333,
              "#9c179e"
             ],
             [
              0.4444444444444444,
              "#bd3786"
             ],
             [
              0.5555555555555556,
              "#d8576b"
             ],
             [
              0.6666666666666666,
              "#ed7953"
             ],
             [
              0.7777777777777778,
              "#fb9f3a"
             ],
             [
              0.8888888888888888,
              "#fdca26"
             ],
             [
              1,
              "#f0f921"
             ]
            ],
            "type": "surface"
           }
          ],
          "table": [
           {
            "cells": {
             "fill": {
              "color": "#EBF0F8"
             },
             "line": {
              "color": "white"
             }
            },
            "header": {
             "fill": {
              "color": "#C8D4E3"
             },
             "line": {
              "color": "white"
             }
            },
            "type": "table"
           }
          ]
         },
         "layout": {
          "annotationdefaults": {
           "arrowcolor": "#2a3f5f",
           "arrowhead": 0,
           "arrowwidth": 1
          },
          "coloraxis": {
           "colorbar": {
            "outlinewidth": 0,
            "ticks": ""
           }
          },
          "colorscale": {
           "diverging": [
            [
             0,
             "#8e0152"
            ],
            [
             0.1,
             "#c51b7d"
            ],
            [
             0.2,
             "#de77ae"
            ],
            [
             0.3,
             "#f1b6da"
            ],
            [
             0.4,
             "#fde0ef"
            ],
            [
             0.5,
             "#f7f7f7"
            ],
            [
             0.6,
             "#e6f5d0"
            ],
            [
             0.7,
             "#b8e186"
            ],
            [
             0.8,
             "#7fbc41"
            ],
            [
             0.9,
             "#4d9221"
            ],
            [
             1,
             "#276419"
            ]
           ],
           "sequential": [
            [
             0,
             "#0d0887"
            ],
            [
             0.1111111111111111,
             "#46039f"
            ],
            [
             0.2222222222222222,
             "#7201a8"
            ],
            [
             0.3333333333333333,
             "#9c179e"
            ],
            [
             0.4444444444444444,
             "#bd3786"
            ],
            [
             0.5555555555555556,
             "#d8576b"
            ],
            [
             0.6666666666666666,
             "#ed7953"
            ],
            [
             0.7777777777777778,
             "#fb9f3a"
            ],
            [
             0.8888888888888888,
             "#fdca26"
            ],
            [
             1,
             "#f0f921"
            ]
           ],
           "sequentialminus": [
            [
             0,
             "#0d0887"
            ],
            [
             0.1111111111111111,
             "#46039f"
            ],
            [
             0.2222222222222222,
             "#7201a8"
            ],
            [
             0.3333333333333333,
             "#9c179e"
            ],
            [
             0.4444444444444444,
             "#bd3786"
            ],
            [
             0.5555555555555556,
             "#d8576b"
            ],
            [
             0.6666666666666666,
             "#ed7953"
            ],
            [
             0.7777777777777778,
             "#fb9f3a"
            ],
            [
             0.8888888888888888,
             "#fdca26"
            ],
            [
             1,
             "#f0f921"
            ]
           ]
          },
          "colorway": [
           "#636efa",
           "#EF553B",
           "#00cc96",
           "#ab63fa",
           "#FFA15A",
           "#19d3f3",
           "#FF6692",
           "#B6E880",
           "#FF97FF",
           "#FECB52"
          ],
          "font": {
           "color": "#2a3f5f"
          },
          "geo": {
           "bgcolor": "white",
           "lakecolor": "white",
           "landcolor": "#E5ECF6",
           "showlakes": true,
           "showland": true,
           "subunitcolor": "white"
          },
          "hoverlabel": {
           "align": "left"
          },
          "hovermode": "closest",
          "mapbox": {
           "style": "light"
          },
          "paper_bgcolor": "white",
          "plot_bgcolor": "#E5ECF6",
          "polar": {
           "angularaxis": {
            "gridcolor": "white",
            "linecolor": "white",
            "ticks": ""
           },
           "bgcolor": "#E5ECF6",
           "radialaxis": {
            "gridcolor": "white",
            "linecolor": "white",
            "ticks": ""
           }
          },
          "scene": {
           "xaxis": {
            "backgroundcolor": "#E5ECF6",
            "gridcolor": "white",
            "gridwidth": 2,
            "linecolor": "white",
            "showbackground": true,
            "ticks": "",
            "zerolinecolor": "white"
           },
           "yaxis": {
            "backgroundcolor": "#E5ECF6",
            "gridcolor": "white",
            "gridwidth": 2,
            "linecolor": "white",
            "showbackground": true,
            "ticks": "",
            "zerolinecolor": "white"
           },
           "zaxis": {
            "backgroundcolor": "#E5ECF6",
            "gridcolor": "white",
            "gridwidth": 2,
            "linecolor": "white",
            "showbackground": true,
            "ticks": "",
            "zerolinecolor": "white"
           }
          },
          "shapedefaults": {
           "line": {
            "color": "#2a3f5f"
           }
          },
          "ternary": {
           "aaxis": {
            "gridcolor": "white",
            "linecolor": "white",
            "ticks": ""
           },
           "baxis": {
            "gridcolor": "white",
            "linecolor": "white",
            "ticks": ""
           },
           "bgcolor": "#E5ECF6",
           "caxis": {
            "gridcolor": "white",
            "linecolor": "white",
            "ticks": ""
           }
          },
          "title": {
           "x": 0.05
          },
          "xaxis": {
           "automargin": true,
           "gridcolor": "white",
           "linecolor": "white",
           "ticks": "",
           "title": {
            "standoff": 15
           },
           "zerolinecolor": "white",
           "zerolinewidth": 2
          },
          "yaxis": {
           "automargin": true,
           "gridcolor": "white",
           "linecolor": "white",
           "ticks": "",
           "title": {
            "standoff": 15
           },
           "zerolinecolor": "white",
           "zerolinewidth": 2
          }
         }
        },
        "title": {
         "text": "Hyperparameter Importances"
        },
        "xaxis": {
         "title": {
          "text": "Importance"
         }
        },
        "yaxis": {
         "title": {
          "text": "Hyperparameter"
         }
        }
       }
      }
     },
     "metadata": {}
    }
   ],
   "source": [
    "optuna.visualization.plot_param_importances(study)"
   ]
  },
  {
   "cell_type": "code",
   "execution_count": 12,
   "metadata": {
    "tags": []
   },
   "outputs": [
    {
     "output_type": "stream",
     "name": "stderr",
     "text": [
      "/Users/cody/miniconda3/envs/temp/lib/python3.7/site-packages/ipykernel/ipkernel.py:287: DeprecationWarning:\n\n`should_run_async` will not call `transform_cell` automatically in the future. Please pass the result to `transformed_cell` argument and any exception that happen during thetransform in `preprocessing_exc_tuple` in IPython 7.17 and above.\n\n"
     ]
    },
    {
     "output_type": "display_data",
     "data": {
      "application/vnd.plotly.v1+json": {
       "config": {
        "plotlyServerURL": "https://plot.ly"
       },
       "data": [
        {
         "dimensions": [
          {
           "label": "Objective Value",
           "range": [
            0.017809971521718523,
            1.0918312861355557
           ],
           "values": [
            0.031207322347233824,
            0.12012980956840244,
            0.2994377058279684,
            0.28880477551081807,
            0.6010487490033912,
            0.4134225094348077,
            1.0909063404021166,
            1.0436050354356192,
            1.0531044983730316,
            1.0618200519191263,
            1.0661581325951903,
            0.9904443619182745,
            0.5583350281921778,
            0.05900531559852726,
            0.057718973578019986,
            0.09809547963211182,
            0.08847477968334641,
            0.8981241165523517,
            0.8891720997013925,
            0.857734421603522,
            0.7457744589061825,
            0.7379894238684165,
            0.7925488422594923,
            0.08622471044683218,
            0.055305829605040525,
            0.05572367235719085,
            0.04935918664280899,
            0.16222173423578976,
            0.1888562251215816,
            0.09021076552487581,
            0.09702655517903844,
            0.0906889164739115,
            0.057702586985030745,
            0.06650847956591735,
            0.055718075742767666,
            0.05238191894727625,
            0.06314828201089764,
            0.2852510747067579,
            0.3260847134954465,
            0.2927923825286391,
            0.2871955527453302,
            0.28783093090890716,
            0.26069054170239125,
            0.0499629570272034,
            0.061854564862024154,
            0.09001606469315075,
            0.08035242437286287,
            0.20826157279642638,
            0.3684287470304853,
            0.08802822898605737,
            0.3568397346147176,
            0.09397734258926062,
            0.03001260804608201,
            0.05302839535374791,
            0.057451055698401525,
            1.0918312861355557,
            1.0827609647562828,
            0.954115870742346,
            0.053901111197357486,
            0.037216081619481874,
            0.06114366046792625,
            0.6186747591684661,
            0.060481472914474706,
            0.21755983725030278,
            0.03622814669193932,
            0.03822138006821,
            0.020562091019169386,
            0.061572691087214707,
            0.040020572475723465,
            0.048053786315009735,
            0.04794782053611068,
            0.0451756162571092,
            0.0667893752143979,
            0.02715441279589902,
            0.08034156315575904,
            0.03322012989548076,
            0.058952020479561815,
            0.061759338358021915,
            0.060094474825411644,
            0.03154257661051349,
            0.03681846487617731,
            0.03435125801438408,
            0.04556342177957814,
            0.032990392286090235,
            0.05913232776896214,
            0.04265988013544797,
            0.05415711058067171,
            0.03620327823834944,
            0.05524584818636346,
            0.28948537705714833,
            0.2495971221677129,
            0.30110367519897074,
            0.29701777592333206,
            0.03577515364772329,
            0.03697927108621119,
            0.029109625555938545,
            0.03072515300611207,
            0.028236262547656446,
            0.028094775359653264,
            0.04415267899611306,
            0.050962355876746156,
            0.039786782118446204,
            0.02921836482508267,
            0.02464300286931203,
            0.022500416841108452,
            0.035995511768231125,
            0.03524462523521136,
            0.029086232941513992,
            0.031716290490617395,
            1.068677518793843,
            0.03454520457867071,
            0.042556913483821214,
            0.04608169415111617,
            0.9969152150613177,
            0.9877885022592451,
            0.038788434793858836,
            0.03607490557530761,
            0.03856206695388413,
            0.029795265839519504,
            0.026353057774091575,
            0.02713430524312434,
            0.7039159570871889,
            0.04827975453881176,
            0.038145344780637774,
            0.03816915460319303,
            0.029445058892617185,
            0.03884347367562468,
            0.0371939937132769,
            0.024301754562319047,
            0.09452884532182113,
            0.08905996418159921,
            0.8401597910749035,
            0.03669950446192046,
            0.029283855321417293,
            0.04153120901466166,
            0.028830748071901134,
            0.0355679808368883,
            0.0360172572599789,
            0.03627488452769216,
            0.032925173901310216,
            0.03527172655503319,
            0.024893781826098287,
            0.01947381693873203,
            0.026179486720766077,
            0.028371765400931562,
            0.04241424203152324,
            0.03477238126455958,
            0.04431387926742021,
            0.03905529189642477,
            0.03940137035451139,
            0.025168839197863,
            0.029560977538305815,
            0.0273653410608386,
            0.021457689919071113,
            0.03721440476084243,
            0.028102034221155973,
            0.04473470114833491,
            0.04680798418545774,
            0.18090311311325905,
            0.04110439129531152,
            0.030340446272175196,
            0.027150221258316985,
            0.03209623245856621,
            0.03835905776243597,
            0.029595492255392455,
            0.040854779323599676,
            0.026630356016479673,
            0.03988616007736081,
            0.03761968220895259,
            0.05700315781498724,
            0.03139866333035715,
            0.03180950889579754,
            0.02510271381295833,
            0.0233721541746714,
            0.018483847128070604,
            0.024058523864249278,
            0.03386558000212739,
            0.03444280156595145,
            0.03444333683520775,
            0.027173755298498706,
            0.41988071148276335,
            0.028417110248473192,
            0.789945353089444,
            0.03614825383211628,
            0.02326211018505169,
            0.03392278358197355,
            0.03163245533941394,
            0.03793939763688155,
            0.03451818772843193,
            0.03103687562983354,
            0.02370423941385263,
            0.037125963918994476,
            0.025486269575963904,
            0.029702443889217656,
            0.030502877064955764,
            0.032499603101158285,
            0.03892494845668521,
            0.23438205128365502,
            0.03428477033107629,
            0.03824413319952876,
            0.033223283484228205,
            0.028403621232859364,
            0.03578256889614147,
            0.03754984747159343,
            0.0362107525450731,
            0.042463872863592766,
            0.04073190085923963,
            0.26100317199814277,
            0.028136789059182647,
            0.2469830797113991,
            0.26117713663301545,
            0.022145764497728048,
            0.027279924784758144,
            0.02171711226232945,
            0.025782873136119332,
            0.026475531407278815,
            0.020815331041857888,
            0.02642093477562285,
            0.023815866572049132,
            0.028913569760538955,
            0.03116770915507291,
            0.017809971521718523,
            0.033171527234802885,
            0.02380040837681824,
            0.025602809995698347,
            0.039230998606803874,
            0.03265847577681195,
            0.02584788881908544,
            0.029375235291057563,
            0.02428258512935064,
            0.036463019314980645,
            0.043199323764430204,
            0.022622330102669792,
            0.018706528121429457,
            0.02457503325468115,
            0.03266747750776665,
            0.02325905995592399,
            0.02998824743156371,
            0.04150649000794586,
            0.029779649542773023,
            0.027636389631691936,
            0.027636911082217445,
            0.03512625855070704,
            0.02505735688094351,
            0.029591681320577806
           ]
          },
          {
           "label": "boosting",
           "range": [
            0,
            2
           ],
           "ticktext": [
            [
             "gbdt",
             0
            ],
            [
             "dart",
             1
            ],
            [
             "goss",
             2
            ]
           ],
           "tickvals": [
            0,
            1,
            2
           ],
           "values": [
            0,
            1,
            2,
            2,
            2,
            1,
            1,
            2,
            2,
            1,
            0,
            1,
            1,
            0,
            0,
            0,
            0,
            0,
            0,
            0,
            0,
            0,
            0,
            0,
            0,
            0,
            0,
            0,
            0,
            0,
            0,
            0,
            0,
            0,
            0,
            0,
            0,
            0,
            0,
            2,
            2,
            2,
            2,
            0,
            0,
            0,
            0,
            1,
            1,
            1,
            1,
            1,
            0,
            0,
            0,
            0,
            0,
            0,
            0,
            0,
            0,
            0,
            0,
            0,
            0,
            0,
            0,
            0,
            0,
            0,
            0,
            0,
            0,
            0,
            0,
            0,
            0,
            0,
            0,
            0,
            0,
            0,
            0,
            0,
            0,
            0,
            0,
            0,
            0,
            2,
            2,
            2,
            2,
            0,
            0,
            0,
            0,
            0,
            0,
            0,
            0,
            0,
            0,
            0,
            0,
            0,
            0,
            0,
            0,
            0,
            0,
            0,
            0,
            0,
            0,
            0,
            0,
            0,
            0,
            0,
            0,
            0,
            0,
            0,
            0,
            0,
            0,
            0,
            0,
            1,
            1,
            1,
            0,
            0,
            0,
            0,
            0,
            0,
            0,
            0,
            0,
            0,
            0,
            0,
            0,
            0,
            0,
            0,
            0,
            0,
            0,
            0,
            0,
            0,
            0,
            0,
            0,
            0,
            0,
            0,
            0,
            0,
            0,
            0,
            0,
            0,
            0,
            0,
            0,
            0,
            0,
            0,
            0,
            0,
            0,
            0,
            0,
            0,
            0,
            0,
            0,
            0,
            0,
            0,
            0,
            0,
            0,
            0,
            0,
            0,
            0,
            0,
            0,
            0,
            0,
            0,
            0,
            0,
            0,
            0,
            0,
            0,
            0,
            0,
            0,
            0,
            0,
            2,
            0,
            2,
            2,
            0,
            0,
            0,
            0,
            0,
            0,
            0,
            0,
            0,
            0,
            0,
            0,
            0,
            0,
            0,
            0,
            0,
            0,
            0,
            0,
            0,
            0,
            0,
            0,
            0,
            0,
            0,
            0,
            0,
            0,
            0,
            0,
            0,
            0
           ]
          },
          {
           "label": "learning_rate",
           "range": [
            0.00011464005953392605,
            0.09999711985399798
           ],
           "values": [
            0.0813028766177681,
            0.06977049259872344,
            0.07273487055987847,
            0.0517313835055642,
            0.020547081799905914,
            0.018965431667565733,
            0.00011464005953392605,
            0.003001684835315662,
            0.000448830677393628,
            0.0005179422781591767,
            0.00035122918446664876,
            0.005369333319456816,
            0.01176766148036256,
            0.08007203706008759,
            0.09478212976193694,
            0.05366304133712973,
            0.030375041056529398,
            0.0018322573725827475,
            0.0017993194165611655,
            0.0020885084695611766,
            0.008554285856998894,
            0.00910143047236235,
            0.007651562004794473,
            0.08378335690338014,
            0.09221547116417347,
            0.09628890576403658,
            0.09697389159914845,
            0.03155535679765172,
            0.02986930266687446,
            0.03498278482199559,
            0.03353710784247622,
            0.03505116238014493,
            0.05276661039602304,
            0.054500062732575454,
            0.09368918504310246,
            0.09144656775703783,
            0.09367989252159772,
            0.01797351071476574,
            0.016250837120607514,
            0.01927935983236014,
            0.06158446013813724,
            0.06134539122646097,
            0.09955294796063029,
            0.09984393261877426,
            0.07252379113237113,
            0.04443847945401141,
            0.04107669491793206,
            0.04751565015760588,
            0.023823540155570085,
            0.07091971041809679,
            0.022759552134248327,
            0.07101834626796452,
            0.0975274691891424,
            0.09287807340087276,
            0.09353283551644427,
            0.00013552223461707081,
            0.00011685313159175839,
            0.0010514236756253939,
            0.06608839859847959,
            0.06836517100448353,
            0.04482234165841172,
            0.004904578766869612,
            0.04238684706363318,
            0.013166430960325022,
            0.07906921497689975,
            0.07814082872954209,
            0.09770475764748988,
            0.07763065203399847,
            0.059590287751607636,
            0.05882362298651415,
            0.056758800879295454,
            0.05732084514193437,
            0.028028677888370636,
            0.07385084250776236,
            0.025027816108196432,
            0.07969764262835269,
            0.03578278750239118,
            0.03864362492343448,
            0.03734037989973801,
            0.07494275400387022,
            0.07588047544254557,
            0.07884660524578326,
            0.08033820949175871,
            0.07900362998214447,
            0.048940988618505134,
            0.08304907957200507,
            0.05067508657197983,
            0.08397074764979033,
            0.04742543963894235,
            0.06523548614075342,
            0.09848850115525443,
            0.0672211507919073,
            0.06373846414068086,
            0.0822267331342196,
            0.08569720783119872,
            0.07875393891287451,
            0.08759803277924381,
            0.09715950308689028,
            0.09820862194313136,
            0.05500861440556976,
            0.05072702514187735,
            0.09889560103266967,
            0.09686863011259039,
            0.09481557876276232,
            0.09965766852267069,
            0.09915911235691792,
            0.09778008318651799,
            0.09837268021216299,
            0.09947681467056352,
            0.0002067873117462203,
            0.089610743802578,
            0.09959545861614738,
            0.06697245510502912,
            0.0007224065884863939,
            0.0007393937808692525,
            0.06578864842724158,
            0.06691776764546094,
            0.09976922231535443,
            0.09988471627303416,
            0.09004045404171421,
            0.08948369969418675,
            0.0031090021052034124,
            0.05802421165513076,
            0.08855534890342952,
            0.08856472352103627,
            0.09924627229273827,
            0.07115082967530707,
            0.07209716149267845,
            0.0993914790851434,
            0.05716438511377286,
            0.059448929698083866,
            0.004243331446934956,
            0.08797152299571938,
            0.09986121967074318,
            0.09943325841030527,
            0.09993077421504522,
            0.07434091284528448,
            0.07356785954599199,
            0.0836849271493362,
            0.08299613611218544,
            0.08554796175195366,
            0.09897287476596045,
            0.0987660276540289,
            0.09907776873509262,
            0.09845108914918385,
            0.09999711985399798,
            0.07042258967059775,
            0.09953984695152973,
            0.06683724863773474,
            0.06541339759819186,
            0.08706196413598916,
            0.08748592447973018,
            0.08584180798886416,
            0.09997707229483078,
            0.07729537511641721,
            0.07654492328326042,
            0.05203298462240186,
            0.050689104120049525,
            0.06073478529673545,
            0.07606816829483856,
            0.08667391172791068,
            0.08654475606816213,
            0.08482420906374703,
            0.07513824940742693,
            0.07527252227799293,
            0.07700026841882468,
            0.08906363624336236,
            0.06229403287022323,
            0.06353160257456253,
            0.043393960413292465,
            0.087373563505268,
            0.08771595307602761,
            0.09728514379667572,
            0.09989319735798102,
            0.09877454418003476,
            0.09780253842363665,
            0.09919204542446976,
            0.09910169576219027,
            0.09911473865862604,
            0.09890717714195738,
            0.006901197881387763,
            0.08720387775560196,
            0.0022387525043044776,
            0.08797736092913781,
            0.08723840558084157,
            0.09916928323216126,
            0.06873748947949654,
            0.07294212532316824,
            0.07058825947675332,
            0.08491460882746193,
            0.09873123913295762,
            0.08572953670169736,
            0.09820565495529683,
            0.09901615590458901,
            0.0968361641581892,
            0.08745645014173621,
            0.09867634183825086,
            0.08845541589452628,
            0.09972971059993843,
            0.07957749890214269,
            0.08039563120498462,
            0.07839704290237133,
            0.09969282903416178,
            0.06949041495003073,
            0.06829359474871903,
            0.06749185578516016,
            0.0995760228639217,
            0.09945787964506725,
            0.08715029252174267,
            0.08844158064666549,
            0.08536655653155216,
            0.0971099212120259,
            0.09596101292640283,
            0.09770353610193565,
            0.09836218516124469,
            0.0984828653077367,
            0.09694675461376179,
            0.09801440976595391,
            0.09781265717190336,
            0.0990860595433983,
            0.07750199510911103,
            0.09998570960648047,
            0.07766926150319581,
            0.09857450356934191,
            0.09705389833177216,
            0.09959189513193065,
            0.09763955864296811,
            0.09832823938237185,
            0.07933556481344275,
            0.09985887789928213,
            0.08069144363138069,
            0.09955241126840896,
            0.09871900452599833,
            0.09892719363929765,
            0.0998533988013817,
            0.08745171996236194,
            0.08288091799885436,
            0.08474968904401907,
            0.09976804461505835,
            0.07645963384904464,
            0.08716033437390297,
            0.08715483502874162,
            0.08792645352130594,
            0.08700989526297201,
            0.09974850108104065
           ]
          },
          {
           "label": "num_boost_round",
           "range": [
            1,
            100
           ],
           "values": [
            15,
            51,
            11,
            19,
            16,
            4,
            67,
            95,
            21,
            2,
            66,
            54,
            47,
            37,
            34,
            38,
            34,
            31,
            32,
            28,
            1,
            23,
            24,
            96,
            43,
            42,
            41,
            40,
            67,
            60,
            63,
            60,
            56,
            80,
            45,
            46,
            46,
            48,
            48,
            10,
            7,
            11,
            11,
            12,
            76,
            73,
            75,
            18,
            52,
            18,
            53,
            15,
            27,
            28,
            44,
            45,
            27,
            27,
            26,
            24,
            35,
            31,
            35,
            35,
            21,
            22,
            22,
            6,
            15,
            15,
            21,
            22,
            20,
            20,
            23,
            22,
            22,
            25,
            24,
            25,
            18,
            18,
            30,
            30,
            18,
            18,
            17,
            14,
            14,
            13,
            3,
            7,
            7,
            9,
            29,
            29,
            29,
            38,
            38,
            31,
            32,
            37,
            39,
            40,
            40,
            38,
            38,
            39,
            41,
            40,
            50,
            49,
            49,
            49,
            33,
            43,
            33,
            34,
            43,
            39,
            40,
            39,
            39,
            40,
            37,
            42,
            42,
            43,
            44,
            44,
            44,
            46,
            45,
            46,
            46,
            36,
            36,
            36,
            36,
            36,
            36,
            41,
            40,
            100,
            56,
            40,
            40,
            41,
            91,
            41,
            41,
            83,
            90,
            57,
            38,
            38,
            56,
            61,
            57,
            96,
            71,
            97,
            93,
            93,
            100,
            100,
            99,
            47,
            98,
            98,
            99,
            98,
            89,
            90,
            94,
            94,
            83,
            86,
            86,
            87,
            89,
            91,
            95,
            95,
            92,
            94,
            95,
            88,
            93,
            92,
            92,
            92,
            91,
            97,
            97,
            97,
            96,
            97,
            89,
            90,
            89,
            90,
            90,
            93,
            93,
            93,
            94,
            84,
            100,
            52,
            84,
            42,
            43,
            88,
            87,
            42,
            41,
            87,
            79,
            87,
            88,
            85,
            81,
            44,
            85,
            86,
            80,
            85,
            81,
            81,
            64,
            78,
            77,
            44,
            82,
            83,
            74,
            79,
            77,
            77,
            72,
            81,
            82,
            68,
            44
           ]
          },
          {
           "label": "num_iterations",
           "range": [
            11,
            100
           ],
           "values": [
            97,
            36,
            42,
            19,
            20,
            74,
            93,
            11,
            61,
            98,
            56,
            15,
            94,
            38,
            32,
            39,
            76,
            71,
            76,
            77,
            30,
            29,
            28,
            27,
            49,
            48,
            49,
            48,
            46,
            64,
            64,
            64,
            86,
            51,
            50,
            52,
            45,
            56,
            55,
            55,
            42,
            42,
            41,
            51,
            51,
            51,
            60,
            35,
            60,
            60,
            69,
            59,
            70,
            51,
            35,
            36,
            86,
            86,
            69,
            88,
            98,
            80,
            80,
            95,
            92,
            93,
            100,
            45,
            90,
            90,
            90,
            90,
            100,
            99,
            99,
            99,
            96,
            95,
            96,
            95,
            93,
            84,
            84,
            83,
            83,
            80,
            82,
            82,
            100,
            75,
            100,
            73,
            73,
            93,
            97,
            92,
            92,
            97,
            88,
            98,
            91,
            98,
            88,
            88,
            88,
            94,
            88,
            89,
            88,
            88,
            86,
            78,
            77,
            86,
            92,
            92,
            92,
            89,
            89,
            97,
            97,
            96,
            87,
            96,
            97,
            94,
            85,
            85,
            94,
            94,
            94,
            94,
            94,
            90,
            90,
            90,
            100,
            100,
            100,
            100,
            90,
            91,
            97,
            97,
            97,
            97,
            98,
            97,
            98,
            96,
            96,
            96,
            95,
            95,
            91,
            99,
            99,
            99,
            23,
            95,
            95,
            95,
            93,
            93,
            98,
            99,
            98,
            100,
            95,
            95,
            95,
            96,
            97,
            97,
            98,
            98,
            92,
            98,
            98,
            100,
            100,
            97,
            97,
            100,
            100,
            93,
            100,
            94,
            97,
            96,
            97,
            92,
            92,
            92,
            97,
            94,
            94,
            13,
            94,
            91,
            98,
            98,
            98,
            100,
            100,
            100,
            96,
            95,
            96,
            96,
            96,
            99,
            99,
            99,
            99,
            98,
            98,
            98,
            100,
            100,
            100,
            100,
            100,
            100,
            98,
            98,
            99,
            100,
            100,
            100,
            100,
            93,
            98,
            98,
            98,
            98,
            96,
            96,
            96,
            96,
            100,
            100,
            100,
            100,
            98
           ]
          },
          {
           "label": "num_leaves",
           "range": [
            15,
            63
           ],
           "values": [
            29,
            44,
            33,
            55,
            51,
            53,
            30,
            48,
            19,
            35,
            23,
            62,
            20,
            43,
            41,
            41,
            27,
            27,
            27,
            26,
            35,
            37,
            37,
            15,
            43,
            42,
            43,
            43,
            48,
            47,
            47,
            47,
            58,
            39,
            40,
            40,
            32,
            31,
            32,
            51,
            45,
            51,
            45,
            39,
            39,
            39,
            36,
            35,
            35,
            34,
            29,
            55,
            44,
            41,
            41,
            44,
            45,
            45,
            37,
            38,
            23,
            23,
            49,
            23,
            41,
            41,
            42,
            38,
            43,
            43,
            43,
            43,
            49,
            46,
            46,
            49,
            51,
            51,
            52,
            53,
            55,
            57,
            54,
            55,
            17,
            58,
            59,
            53,
            57,
            62,
            60,
            63,
            62,
            53,
            53,
            56,
            53,
            56,
            49,
            56,
            50,
            49,
            48,
            48,
            48,
            54,
            47,
            47,
            47,
            47,
            46,
            46,
            46,
            46,
            50,
            48,
            50,
            48,
            44,
            52,
            44,
            44,
            44,
            42,
            42,
            44,
            48,
            48,
            45,
            45,
            45,
            45,
            45,
            50,
            50,
            50,
            50,
            49,
            52,
            52,
            52,
            51,
            47,
            47,
            51,
            47,
            51,
            51,
            49,
            49,
            49,
            47,
            47,
            47,
            48,
            48,
            46,
            46,
            48,
            46,
            46,
            46,
            48,
            47,
            47,
            47,
            49,
            42,
            49,
            49,
            49,
            44,
            44,
            45,
            45,
            45,
            43,
            43,
            43,
            40,
            45,
            45,
            46,
            40,
            42,
            41,
            41,
            44,
            44,
            44,
            42,
            42,
            45,
            45,
            45,
            45,
            43,
            43,
            42,
            42,
            42,
            47,
            46,
            46,
            46,
            46,
            46,
            44,
            44,
            44,
            44,
            48,
            41,
            41,
            39,
            40,
            38,
            38,
            39,
            38,
            36,
            38,
            36,
            36,
            39,
            39,
            39,
            39,
            37,
            37,
            34,
            37,
            38,
            36,
            38,
            38,
            35,
            37,
            35,
            35,
            36,
            36,
            36,
            36,
            33
           ]
          }
         ],
         "labelangle": 30,
         "labelside": "bottom",
         "line": {
          "color": [
           0.031207322347233824,
           0.12012980956840244,
           0.2994377058279684,
           0.28880477551081807,
           0.6010487490033912,
           0.4134225094348077,
           1.0909063404021166,
           1.0436050354356192,
           1.0531044983730316,
           1.0618200519191263,
           1.0661581325951903,
           0.9904443619182745,
           0.5583350281921778,
           0.05900531559852726,
           0.057718973578019986,
           0.09809547963211182,
           0.08847477968334641,
           0.8981241165523517,
           0.8891720997013925,
           0.857734421603522,
           0.7457744589061825,
           0.7379894238684165,
           0.7925488422594923,
           0.08622471044683218,
           0.055305829605040525,
           0.05572367235719085,
           0.04935918664280899,
           0.16222173423578976,
           0.1888562251215816,
           0.09021076552487581,
           0.09702655517903844,
           0.0906889164739115,
           0.057702586985030745,
           0.06650847956591735,
           0.055718075742767666,
           0.05238191894727625,
           0.06314828201089764,
           0.2852510747067579,
           0.3260847134954465,
           0.2927923825286391,
           0.2871955527453302,
           0.28783093090890716,
           0.26069054170239125,
           0.0499629570272034,
           0.061854564862024154,
           0.09001606469315075,
           0.08035242437286287,
           0.20826157279642638,
           0.3684287470304853,
           0.08802822898605737,
           0.3568397346147176,
           0.09397734258926062,
           0.03001260804608201,
           0.05302839535374791,
           0.057451055698401525,
           1.0918312861355557,
           1.0827609647562828,
           0.954115870742346,
           0.053901111197357486,
           0.037216081619481874,
           0.06114366046792625,
           0.6186747591684661,
           0.060481472914474706,
           0.21755983725030278,
           0.03622814669193932,
           0.03822138006821,
           0.020562091019169386,
           0.061572691087214707,
           0.040020572475723465,
           0.048053786315009735,
           0.04794782053611068,
           0.0451756162571092,
           0.0667893752143979,
           0.02715441279589902,
           0.08034156315575904,
           0.03322012989548076,
           0.058952020479561815,
           0.061759338358021915,
           0.060094474825411644,
           0.03154257661051349,
           0.03681846487617731,
           0.03435125801438408,
           0.04556342177957814,
           0.032990392286090235,
           0.05913232776896214,
           0.04265988013544797,
           0.05415711058067171,
           0.03620327823834944,
           0.05524584818636346,
           0.28948537705714833,
           0.2495971221677129,
           0.30110367519897074,
           0.29701777592333206,
           0.03577515364772329,
           0.03697927108621119,
           0.029109625555938545,
           0.03072515300611207,
           0.028236262547656446,
           0.028094775359653264,
           0.04415267899611306,
           0.050962355876746156,
           0.039786782118446204,
           0.02921836482508267,
           0.02464300286931203,
           0.022500416841108452,
           0.035995511768231125,
           0.03524462523521136,
           0.029086232941513992,
           0.031716290490617395,
           1.068677518793843,
           0.03454520457867071,
           0.042556913483821214,
           0.04608169415111617,
           0.9969152150613177,
           0.9877885022592451,
           0.038788434793858836,
           0.03607490557530761,
           0.03856206695388413,
           0.029795265839519504,
           0.026353057774091575,
           0.02713430524312434,
           0.7039159570871889,
           0.04827975453881176,
           0.038145344780637774,
           0.03816915460319303,
           0.029445058892617185,
           0.03884347367562468,
           0.0371939937132769,
           0.024301754562319047,
           0.09452884532182113,
           0.08905996418159921,
           0.8401597910749035,
           0.03669950446192046,
           0.029283855321417293,
           0.04153120901466166,
           0.028830748071901134,
           0.0355679808368883,
           0.0360172572599789,
           0.03627488452769216,
           0.032925173901310216,
           0.03527172655503319,
           0.024893781826098287,
           0.01947381693873203,
           0.026179486720766077,
           0.028371765400931562,
           0.04241424203152324,
           0.03477238126455958,
           0.04431387926742021,
           0.03905529189642477,
           0.03940137035451139,
           0.025168839197863,
           0.029560977538305815,
           0.0273653410608386,
           0.021457689919071113,
           0.03721440476084243,
           0.028102034221155973,
           0.04473470114833491,
           0.04680798418545774,
           0.18090311311325905,
           0.04110439129531152,
           0.030340446272175196,
           0.027150221258316985,
           0.03209623245856621,
           0.03835905776243597,
           0.029595492255392455,
           0.040854779323599676,
           0.026630356016479673,
           0.03988616007736081,
           0.03761968220895259,
           0.05700315781498724,
           0.03139866333035715,
           0.03180950889579754,
           0.02510271381295833,
           0.0233721541746714,
           0.018483847128070604,
           0.024058523864249278,
           0.03386558000212739,
           0.03444280156595145,
           0.03444333683520775,
           0.027173755298498706,
           0.41988071148276335,
           0.028417110248473192,
           0.789945353089444,
           0.03614825383211628,
           0.02326211018505169,
           0.03392278358197355,
           0.03163245533941394,
           0.03793939763688155,
           0.03451818772843193,
           0.03103687562983354,
           0.02370423941385263,
           0.037125963918994476,
           0.025486269575963904,
           0.029702443889217656,
           0.030502877064955764,
           0.032499603101158285,
           0.03892494845668521,
           0.23438205128365502,
           0.03428477033107629,
           0.03824413319952876,
           0.033223283484228205,
           0.028403621232859364,
           0.03578256889614147,
           0.03754984747159343,
           0.0362107525450731,
           0.042463872863592766,
           0.04073190085923963,
           0.26100317199814277,
           0.028136789059182647,
           0.2469830797113991,
           0.26117713663301545,
           0.022145764497728048,
           0.027279924784758144,
           0.02171711226232945,
           0.025782873136119332,
           0.026475531407278815,
           0.020815331041857888,
           0.02642093477562285,
           0.023815866572049132,
           0.028913569760538955,
           0.03116770915507291,
           0.017809971521718523,
           0.033171527234802885,
           0.02380040837681824,
           0.025602809995698347,
           0.039230998606803874,
           0.03265847577681195,
           0.02584788881908544,
           0.029375235291057563,
           0.02428258512935064,
           0.036463019314980645,
           0.043199323764430204,
           0.022622330102669792,
           0.018706528121429457,
           0.02457503325468115,
           0.03266747750776665,
           0.02325905995592399,
           0.02998824743156371,
           0.04150649000794586,
           0.029779649542773023,
           0.027636389631691936,
           0.027636911082217445,
           0.03512625855070704,
           0.02505735688094351,
           0.029591681320577806
          ],
          "colorbar": {
           "title": {
            "text": "Objective Value"
           }
          },
          "colorscale": [
           [
            0,
            "rgb(247,251,255)"
           ],
           [
            0.125,
            "rgb(222,235,247)"
           ],
           [
            0.25,
            "rgb(198,219,239)"
           ],
           [
            0.375,
            "rgb(158,202,225)"
           ],
           [
            0.5,
            "rgb(107,174,214)"
           ],
           [
            0.625,
            "rgb(66,146,198)"
           ],
           [
            0.75,
            "rgb(33,113,181)"
           ],
           [
            0.875,
            "rgb(8,81,156)"
           ],
           [
            1,
            "rgb(8,48,107)"
           ]
          ],
          "reversescale": true,
          "showscale": true
         },
         "type": "parcoords"
        }
       ],
       "layout": {
        "template": {
         "data": {
          "bar": [
           {
            "error_x": {
             "color": "#2a3f5f"
            },
            "error_y": {
             "color": "#2a3f5f"
            },
            "marker": {
             "line": {
              "color": "#E5ECF6",
              "width": 0.5
             }
            },
            "type": "bar"
           }
          ],
          "barpolar": [
           {
            "marker": {
             "line": {
              "color": "#E5ECF6",
              "width": 0.5
             }
            },
            "type": "barpolar"
           }
          ],
          "carpet": [
           {
            "aaxis": {
             "endlinecolor": "#2a3f5f",
             "gridcolor": "white",
             "linecolor": "white",
             "minorgridcolor": "white",
             "startlinecolor": "#2a3f5f"
            },
            "baxis": {
             "endlinecolor": "#2a3f5f",
             "gridcolor": "white",
             "linecolor": "white",
             "minorgridcolor": "white",
             "startlinecolor": "#2a3f5f"
            },
            "type": "carpet"
           }
          ],
          "choropleth": [
           {
            "colorbar": {
             "outlinewidth": 0,
             "ticks": ""
            },
            "type": "choropleth"
           }
          ],
          "contour": [
           {
            "colorbar": {
             "outlinewidth": 0,
             "ticks": ""
            },
            "colorscale": [
             [
              0,
              "#0d0887"
             ],
             [
              0.1111111111111111,
              "#46039f"
             ],
             [
              0.2222222222222222,
              "#7201a8"
             ],
             [
              0.3333333333333333,
              "#9c179e"
             ],
             [
              0.4444444444444444,
              "#bd3786"
             ],
             [
              0.5555555555555556,
              "#d8576b"
             ],
             [
              0.6666666666666666,
              "#ed7953"
             ],
             [
              0.7777777777777778,
              "#fb9f3a"
             ],
             [
              0.8888888888888888,
              "#fdca26"
             ],
             [
              1,
              "#f0f921"
             ]
            ],
            "type": "contour"
           }
          ],
          "contourcarpet": [
           {
            "colorbar": {
             "outlinewidth": 0,
             "ticks": ""
            },
            "type": "contourcarpet"
           }
          ],
          "heatmap": [
           {
            "colorbar": {
             "outlinewidth": 0,
             "ticks": ""
            },
            "colorscale": [
             [
              0,
              "#0d0887"
             ],
             [
              0.1111111111111111,
              "#46039f"
             ],
             [
              0.2222222222222222,
              "#7201a8"
             ],
             [
              0.3333333333333333,
              "#9c179e"
             ],
             [
              0.4444444444444444,
              "#bd3786"
             ],
             [
              0.5555555555555556,
              "#d8576b"
             ],
             [
              0.6666666666666666,
              "#ed7953"
             ],
             [
              0.7777777777777778,
              "#fb9f3a"
             ],
             [
              0.8888888888888888,
              "#fdca26"
             ],
             [
              1,
              "#f0f921"
             ]
            ],
            "type": "heatmap"
           }
          ],
          "heatmapgl": [
           {
            "colorbar": {
             "outlinewidth": 0,
             "ticks": ""
            },
            "colorscale": [
             [
              0,
              "#0d0887"
             ],
             [
              0.1111111111111111,
              "#46039f"
             ],
             [
              0.2222222222222222,
              "#7201a8"
             ],
             [
              0.3333333333333333,
              "#9c179e"
             ],
             [
              0.4444444444444444,
              "#bd3786"
             ],
             [
              0.5555555555555556,
              "#d8576b"
             ],
             [
              0.6666666666666666,
              "#ed7953"
             ],
             [
              0.7777777777777778,
              "#fb9f3a"
             ],
             [
              0.8888888888888888,
              "#fdca26"
             ],
             [
              1,
              "#f0f921"
             ]
            ],
            "type": "heatmapgl"
           }
          ],
          "histogram": [
           {
            "marker": {
             "colorbar": {
              "outlinewidth": 0,
              "ticks": ""
             }
            },
            "type": "histogram"
           }
          ],
          "histogram2d": [
           {
            "colorbar": {
             "outlinewidth": 0,
             "ticks": ""
            },
            "colorscale": [
             [
              0,
              "#0d0887"
             ],
             [
              0.1111111111111111,
              "#46039f"
             ],
             [
              0.2222222222222222,
              "#7201a8"
             ],
             [
              0.3333333333333333,
              "#9c179e"
             ],
             [
              0.4444444444444444,
              "#bd3786"
             ],
             [
              0.5555555555555556,
              "#d8576b"
             ],
             [
              0.6666666666666666,
              "#ed7953"
             ],
             [
              0.7777777777777778,
              "#fb9f3a"
             ],
             [
              0.8888888888888888,
              "#fdca26"
             ],
             [
              1,
              "#f0f921"
             ]
            ],
            "type": "histogram2d"
           }
          ],
          "histogram2dcontour": [
           {
            "colorbar": {
             "outlinewidth": 0,
             "ticks": ""
            },
            "colorscale": [
             [
              0,
              "#0d0887"
             ],
             [
              0.1111111111111111,
              "#46039f"
             ],
             [
              0.2222222222222222,
              "#7201a8"
             ],
             [
              0.3333333333333333,
              "#9c179e"
             ],
             [
              0.4444444444444444,
              "#bd3786"
             ],
             [
              0.5555555555555556,
              "#d8576b"
             ],
             [
              0.6666666666666666,
              "#ed7953"
             ],
             [
              0.7777777777777778,
              "#fb9f3a"
             ],
             [
              0.8888888888888888,
              "#fdca26"
             ],
             [
              1,
              "#f0f921"
             ]
            ],
            "type": "histogram2dcontour"
           }
          ],
          "mesh3d": [
           {
            "colorbar": {
             "outlinewidth": 0,
             "ticks": ""
            },
            "type": "mesh3d"
           }
          ],
          "parcoords": [
           {
            "line": {
             "colorbar": {
              "outlinewidth": 0,
              "ticks": ""
             }
            },
            "type": "parcoords"
           }
          ],
          "pie": [
           {
            "automargin": true,
            "type": "pie"
           }
          ],
          "scatter": [
           {
            "marker": {
             "colorbar": {
              "outlinewidth": 0,
              "ticks": ""
             }
            },
            "type": "scatter"
           }
          ],
          "scatter3d": [
           {
            "line": {
             "colorbar": {
              "outlinewidth": 0,
              "ticks": ""
             }
            },
            "marker": {
             "colorbar": {
              "outlinewidth": 0,
              "ticks": ""
             }
            },
            "type": "scatter3d"
           }
          ],
          "scattercarpet": [
           {
            "marker": {
             "colorbar": {
              "outlinewidth": 0,
              "ticks": ""
             }
            },
            "type": "scattercarpet"
           }
          ],
          "scattergeo": [
           {
            "marker": {
             "colorbar": {
              "outlinewidth": 0,
              "ticks": ""
             }
            },
            "type": "scattergeo"
           }
          ],
          "scattergl": [
           {
            "marker": {
             "colorbar": {
              "outlinewidth": 0,
              "ticks": ""
             }
            },
            "type": "scattergl"
           }
          ],
          "scattermapbox": [
           {
            "marker": {
             "colorbar": {
              "outlinewidth": 0,
              "ticks": ""
             }
            },
            "type": "scattermapbox"
           }
          ],
          "scatterpolar": [
           {
            "marker": {
             "colorbar": {
              "outlinewidth": 0,
              "ticks": ""
             }
            },
            "type": "scatterpolar"
           }
          ],
          "scatterpolargl": [
           {
            "marker": {
             "colorbar": {
              "outlinewidth": 0,
              "ticks": ""
             }
            },
            "type": "scatterpolargl"
           }
          ],
          "scatterternary": [
           {
            "marker": {
             "colorbar": {
              "outlinewidth": 0,
              "ticks": ""
             }
            },
            "type": "scatterternary"
           }
          ],
          "surface": [
           {
            "colorbar": {
             "outlinewidth": 0,
             "ticks": ""
            },
            "colorscale": [
             [
              0,
              "#0d0887"
             ],
             [
              0.1111111111111111,
              "#46039f"
             ],
             [
              0.2222222222222222,
              "#7201a8"
             ],
             [
              0.3333333333333333,
              "#9c179e"
             ],
             [
              0.4444444444444444,
              "#bd3786"
             ],
             [
              0.5555555555555556,
              "#d8576b"
             ],
             [
              0.6666666666666666,
              "#ed7953"
             ],
             [
              0.7777777777777778,
              "#fb9f3a"
             ],
             [
              0.8888888888888888,
              "#fdca26"
             ],
             [
              1,
              "#f0f921"
             ]
            ],
            "type": "surface"
           }
          ],
          "table": [
           {
            "cells": {
             "fill": {
              "color": "#EBF0F8"
             },
             "line": {
              "color": "white"
             }
            },
            "header": {
             "fill": {
              "color": "#C8D4E3"
             },
             "line": {
              "color": "white"
             }
            },
            "type": "table"
           }
          ]
         },
         "layout": {
          "annotationdefaults": {
           "arrowcolor": "#2a3f5f",
           "arrowhead": 0,
           "arrowwidth": 1
          },
          "coloraxis": {
           "colorbar": {
            "outlinewidth": 0,
            "ticks": ""
           }
          },
          "colorscale": {
           "diverging": [
            [
             0,
             "#8e0152"
            ],
            [
             0.1,
             "#c51b7d"
            ],
            [
             0.2,
             "#de77ae"
            ],
            [
             0.3,
             "#f1b6da"
            ],
            [
             0.4,
             "#fde0ef"
            ],
            [
             0.5,
             "#f7f7f7"
            ],
            [
             0.6,
             "#e6f5d0"
            ],
            [
             0.7,
             "#b8e186"
            ],
            [
             0.8,
             "#7fbc41"
            ],
            [
             0.9,
             "#4d9221"
            ],
            [
             1,
             "#276419"
            ]
           ],
           "sequential": [
            [
             0,
             "#0d0887"
            ],
            [
             0.1111111111111111,
             "#46039f"
            ],
            [
             0.2222222222222222,
             "#7201a8"
            ],
            [
             0.3333333333333333,
             "#9c179e"
            ],
            [
             0.4444444444444444,
             "#bd3786"
            ],
            [
             0.5555555555555556,
             "#d8576b"
            ],
            [
             0.6666666666666666,
             "#ed7953"
            ],
            [
             0.7777777777777778,
             "#fb9f3a"
            ],
            [
             0.8888888888888888,
             "#fdca26"
            ],
            [
             1,
             "#f0f921"
            ]
           ],
           "sequentialminus": [
            [
             0,
             "#0d0887"
            ],
            [
             0.1111111111111111,
             "#46039f"
            ],
            [
             0.2222222222222222,
             "#7201a8"
            ],
            [
             0.3333333333333333,
             "#9c179e"
            ],
            [
             0.4444444444444444,
             "#bd3786"
            ],
            [
             0.5555555555555556,
             "#d8576b"
            ],
            [
             0.6666666666666666,
             "#ed7953"
            ],
            [
             0.7777777777777778,
             "#fb9f3a"
            ],
            [
             0.8888888888888888,
             "#fdca26"
            ],
            [
             1,
             "#f0f921"
            ]
           ]
          },
          "colorway": [
           "#636efa",
           "#EF553B",
           "#00cc96",
           "#ab63fa",
           "#FFA15A",
           "#19d3f3",
           "#FF6692",
           "#B6E880",
           "#FF97FF",
           "#FECB52"
          ],
          "font": {
           "color": "#2a3f5f"
          },
          "geo": {
           "bgcolor": "white",
           "lakecolor": "white",
           "landcolor": "#E5ECF6",
           "showlakes": true,
           "showland": true,
           "subunitcolor": "white"
          },
          "hoverlabel": {
           "align": "left"
          },
          "hovermode": "closest",
          "mapbox": {
           "style": "light"
          },
          "paper_bgcolor": "white",
          "plot_bgcolor": "#E5ECF6",
          "polar": {
           "angularaxis": {
            "gridcolor": "white",
            "linecolor": "white",
            "ticks": ""
           },
           "bgcolor": "#E5ECF6",
           "radialaxis": {
            "gridcolor": "white",
            "linecolor": "white",
            "ticks": ""
           }
          },
          "scene": {
           "xaxis": {
            "backgroundcolor": "#E5ECF6",
            "gridcolor": "white",
            "gridwidth": 2,
            "linecolor": "white",
            "showbackground": true,
            "ticks": "",
            "zerolinecolor": "white"
           },
           "yaxis": {
            "backgroundcolor": "#E5ECF6",
            "gridcolor": "white",
            "gridwidth": 2,
            "linecolor": "white",
            "showbackground": true,
            "ticks": "",
            "zerolinecolor": "white"
           },
           "zaxis": {
            "backgroundcolor": "#E5ECF6",
            "gridcolor": "white",
            "gridwidth": 2,
            "linecolor": "white",
            "showbackground": true,
            "ticks": "",
            "zerolinecolor": "white"
           }
          },
          "shapedefaults": {
           "line": {
            "color": "#2a3f5f"
           }
          },
          "ternary": {
           "aaxis": {
            "gridcolor": "white",
            "linecolor": "white",
            "ticks": ""
           },
           "baxis": {
            "gridcolor": "white",
            "linecolor": "white",
            "ticks": ""
           },
           "bgcolor": "#E5ECF6",
           "caxis": {
            "gridcolor": "white",
            "linecolor": "white",
            "ticks": ""
           }
          },
          "title": {
           "x": 0.05
          },
          "xaxis": {
           "automargin": true,
           "gridcolor": "white",
           "linecolor": "white",
           "ticks": "",
           "title": {
            "standoff": 15
           },
           "zerolinecolor": "white",
           "zerolinewidth": 2
          },
          "yaxis": {
           "automargin": true,
           "gridcolor": "white",
           "linecolor": "white",
           "ticks": "",
           "title": {
            "standoff": 15
           },
           "zerolinecolor": "white",
           "zerolinewidth": 2
          }
         }
        },
        "title": {
         "text": "Parallel Coordinate Plot"
        }
       }
      }
     },
     "metadata": {}
    }
   ],
   "source": [
    "optuna.visualization.plot_parallel_coordinate(study)"
   ]
  },
  {
   "cell_type": "code",
   "execution_count": 13,
   "metadata": {
    "tags": []
   },
   "outputs": [
    {
     "output_type": "execute_result",
     "data": {
      "text/plain": [
       "   number     value             datetime_start          datetime_complete  \\\n",
       "0       0       NaN 2020-10-08 10:14:31.458988 2020-10-08 10:14:32.707171   \n",
       "1       1  0.031207 2020-10-08 10:14:31.464492 2020-10-08 10:14:38.519388   \n",
       "2       2       NaN 2020-10-08 10:14:31.486953 2020-10-08 10:14:32.732484   \n",
       "3       3  0.120130 2020-10-08 10:14:31.487577 2020-10-08 10:14:36.504030   \n",
       "4       4       NaN 2020-10-08 10:14:31.498119 2020-10-08 10:14:32.684220   \n",
       "\n",
       "                duration params_boosting  params_learning_rate  \\\n",
       "0 0 days 00:00:01.248183            goss              0.052488   \n",
       "1 0 days 00:00:07.054896            gbdt              0.081303   \n",
       "2 0 days 00:00:01.245531            dart              0.012765   \n",
       "3 0 days 00:00:05.016453            dart              0.069770   \n",
       "4 0 days 00:00:01.186101            goss              0.001022   \n",
       "\n",
       "   params_num_boost_round  params_num_iterations  params_num_leaves  \\\n",
       "0                    18.0                   10.0               16.0   \n",
       "1                    15.0                   97.0               29.0   \n",
       "2                    81.0                   29.0               34.0   \n",
       "3                    51.0                   36.0               44.0   \n",
       "4                    36.0                   92.0               58.0   \n",
       "\n",
       "                            system_attrs_fail_reason     state  \n",
       "0  Trial 0 failed, because the returned value fro...      FAIL  \n",
       "1                                                NaN  COMPLETE  \n",
       "2  Trial 2 failed, because the returned value fro...      FAIL  \n",
       "3                                                NaN  COMPLETE  \n",
       "4  Trial 4 failed, because the returned value fro...      FAIL  "
      ],
      "text/html": "<div>\n<style scoped>\n    .dataframe tbody tr th:only-of-type {\n        vertical-align: middle;\n    }\n\n    .dataframe tbody tr th {\n        vertical-align: top;\n    }\n\n    .dataframe thead th {\n        text-align: right;\n    }\n</style>\n<table border=\"1\" class=\"dataframe\">\n  <thead>\n    <tr style=\"text-align: right;\">\n      <th></th>\n      <th>number</th>\n      <th>value</th>\n      <th>datetime_start</th>\n      <th>datetime_complete</th>\n      <th>duration</th>\n      <th>params_boosting</th>\n      <th>params_learning_rate</th>\n      <th>params_num_boost_round</th>\n      <th>params_num_iterations</th>\n      <th>params_num_leaves</th>\n      <th>system_attrs_fail_reason</th>\n      <th>state</th>\n    </tr>\n  </thead>\n  <tbody>\n    <tr>\n      <th>0</th>\n      <td>0</td>\n      <td>NaN</td>\n      <td>2020-10-08 10:14:31.458988</td>\n      <td>2020-10-08 10:14:32.707171</td>\n      <td>0 days 00:00:01.248183</td>\n      <td>goss</td>\n      <td>0.052488</td>\n      <td>18.0</td>\n      <td>10.0</td>\n      <td>16.0</td>\n      <td>Trial 0 failed, because the returned value fro...</td>\n      <td>FAIL</td>\n    </tr>\n    <tr>\n      <th>1</th>\n      <td>1</td>\n      <td>0.031207</td>\n      <td>2020-10-08 10:14:31.464492</td>\n      <td>2020-10-08 10:14:38.519388</td>\n      <td>0 days 00:00:07.054896</td>\n      <td>gbdt</td>\n      <td>0.081303</td>\n      <td>15.0</td>\n      <td>97.0</td>\n      <td>29.0</td>\n      <td>NaN</td>\n      <td>COMPLETE</td>\n    </tr>\n    <tr>\n      <th>2</th>\n      <td>2</td>\n      <td>NaN</td>\n      <td>2020-10-08 10:14:31.486953</td>\n      <td>2020-10-08 10:14:32.732484</td>\n      <td>0 days 00:00:01.245531</td>\n      <td>dart</td>\n      <td>0.012765</td>\n      <td>81.0</td>\n      <td>29.0</td>\n      <td>34.0</td>\n      <td>Trial 2 failed, because the returned value fro...</td>\n      <td>FAIL</td>\n    </tr>\n    <tr>\n      <th>3</th>\n      <td>3</td>\n      <td>0.120130</td>\n      <td>2020-10-08 10:14:31.487577</td>\n      <td>2020-10-08 10:14:36.504030</td>\n      <td>0 days 00:00:05.016453</td>\n      <td>dart</td>\n      <td>0.069770</td>\n      <td>51.0</td>\n      <td>36.0</td>\n      <td>44.0</td>\n      <td>NaN</td>\n      <td>COMPLETE</td>\n    </tr>\n    <tr>\n      <th>4</th>\n      <td>4</td>\n      <td>NaN</td>\n      <td>2020-10-08 10:14:31.498119</td>\n      <td>2020-10-08 10:14:32.684220</td>\n      <td>0 days 00:00:01.186101</td>\n      <td>goss</td>\n      <td>0.001022</td>\n      <td>36.0</td>\n      <td>92.0</td>\n      <td>58.0</td>\n      <td>Trial 4 failed, because the returned value fro...</td>\n      <td>FAIL</td>\n    </tr>\n  </tbody>\n</table>\n</div>"
     },
     "metadata": {},
     "execution_count": 13
    }
   ],
   "source": [
    "df = study.trials_dataframe()\n",
    "df.head()"
   ]
  }
 ],
 "metadata": {
  "kernelspec": {
   "display_name": "Python 3.7.6 64-bit ('temp': conda)",
   "metadata": {
    "interpreter": {
     "hash": "ee542e58b9e48d64b181316c44da28c3cc0b18445c18860dd41752baf840b46a"
    }
   },
   "name": "Python 3.7.6 64-bit ('temp': conda)"
  },
  "language_info": {
   "codemirror_mode": {
    "name": "ipython",
    "version": 3
   },
   "file_extension": ".py",
   "mimetype": "text/x-python",
   "name": "python",
   "nbconvert_exporter": "python",
   "pygments_lexer": "ipython3",
   "version": "3.7.6-final"
  }
 },
 "nbformat": 4,
 "nbformat_minor": 2
}